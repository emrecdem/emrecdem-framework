{
 "cells": [
  {
   "cell_type": "code",
   "execution_count": 1,
   "metadata": {},
   "outputs": [],
   "source": [
    "import os"
   ]
  },
  {
   "cell_type": "code",
   "execution_count": 2,
   "metadata": {},
   "outputs": [
    {
     "data": {
      "text/plain": [
       "'/home/vincent/emotion/emrecdem-framework/notebooks'"
      ]
     },
     "execution_count": 2,
     "metadata": {},
     "output_type": "execute_result"
    }
   ],
   "source": [
    "os.getcwd()"
   ]
  },
  {
   "cell_type": "code",
   "execution_count": 3,
   "metadata": {},
   "outputs": [
    {
     "data": {
      "text/plain": [
       "'/home/vincent/emotion/emrecdem-framework'"
      ]
     },
     "execution_count": 3,
     "metadata": {},
     "output_type": "execute_result"
    }
   ],
   "source": [
    "# change dir to root\n",
    "os.chdir('../.')\n",
    "os.getcwd()"
   ]
  },
  {
   "cell_type": "code",
   "execution_count": 4,
   "metadata": {},
   "outputs": [],
   "source": [
    "import os\n",
    "import exploface\n",
    "import explibrosa\n",
    "import emrecdem as erd"
   ]
  },
  {
   "cell_type": "markdown",
   "metadata": {},
   "source": [
    "### Specify data location"
   ]
  },
  {
   "cell_type": "code",
   "execution_count": 5,
   "metadata": {},
   "outputs": [],
   "source": [
    "emrecdemStudyDataFolder = \"/media/sf_sharedfolder/Emotion/emrecdemstudydata\"\n",
    "openface_outputfolder = emrecdemStudyDataFolder + \"/OpenFaceOutput\""
   ]
  },
  {
   "cell_type": "markdown",
   "metadata": {},
   "source": [
    "### Identify csv files"
   ]
  },
  {
   "cell_type": "code",
   "execution_count": 6,
   "metadata": {},
   "outputs": [],
   "source": [
    "# Search for files with csv extension, because we are only interested in those\n",
    "# This assumes that there are no other csv files in folder other than the ones produced by OpenFace.\n",
    "from os import listdir\n",
    "\n",
    "def find_csv_filenames( path_to_dir, suffix=\".csv\" ):\n",
    "    filenames = listdir(path_to_dir)\n",
    "    return [ filename for filename in filenames if filename.endswith( suffix ) ]\n",
    "\n",
    "filenames = find_csv_filenames(openface_outputfolder) # filenames will be a list"
   ]
  },
  {
   "cell_type": "code",
   "execution_count": 7,
   "metadata": {},
   "outputs": [
    {
     "data": {
      "text/plain": [
       "['P18_S2_IAPS_HAPPY_Cfront.csv',\n",
       " 'P18_S2_IAPS_SAD_Cfront.csv',\n",
       " 'P21_S2_IAPS_HAPPY_C1.csv',\n",
       " 'P21_S2_IAPS_SAD_C1.csv']"
      ]
     },
     "execution_count": 7,
     "metadata": {},
     "output_type": "execute_result"
    }
   ],
   "source": [
    "filenames"
   ]
  },
  {
   "cell_type": "code",
   "execution_count": 8,
   "metadata": {},
   "outputs": [],
   "source": [
    "#https://www.dataquest.io/blog/python-pandas-databases/\n",
    "databasefile = emrecdemStudyDataFolder + \"/emrecdem.db\""
   ]
  },
  {
   "cell_type": "markdown",
   "metadata": {},
   "source": [
    "### Create database"
   ]
  },
  {
   "cell_type": "code",
   "execution_count": 9,
   "metadata": {},
   "outputs": [],
   "source": [
    "erd.features2sqlitedb.createdatabase(databasefile = databasefile)\n",
    "# Now on command line: sqlite3 pathtomydatabase.db\n",
    "# should give access to database\n",
    "# and .tables should show overview of the tables as created"
   ]
  },
  {
   "cell_type": "code",
   "execution_count": 10,
   "metadata": {},
   "outputs": [],
   "source": [
    "deleteDataBaseEntriesOnFirstRun = True"
   ]
  },
  {
   "cell_type": "markdown",
   "metadata": {},
   "source": [
    "### Loop over files, extract features, store features in database"
   ]
  },
  {
   "cell_type": "code",
   "execution_count": 11,
   "metadata": {},
   "outputs": [
    {
     "name": "stdout",
     "output_type": "stream",
     "text": [
      "P18_S2_IAPS_HAPPY.wav\n",
      "find /media/sf_sharedfolder/Emotion/emrecdemstudydata -name P18_S2_IAPS_HAPPY.wav\n",
      "['/media/sf_sharedfolder/Emotion/emrecdemstudydata/P18/S2/Audio/P18_S2_IAPS_HAPPY.wav']\n",
      "Audio file identified\n",
      "generate video features\n",
      "generate audio features\n",
      "Running librosa (no results found on disk)\n",
      "RMS energy\n",
      "     0.29 seconds\n",
      "Zero crossing\n",
      "     0.34 seconds\n",
      "Pitches\n",
      "     3.11 seconds\n",
      "  Pitches smoothing\n",
      "     3.25 seconds\n",
      "TOTAL execution time: 0.05 min\n",
      "\n",
      "Top 3 rows of audiofeatures table:\n",
      "[(1, 21, 'S2IAPSSAD', '1970-01-01 00:00:00', 372.8440881978551, 0.008293401449918747, 0.2760273972602741), (2, 21, 'S2IAPSSAD', '1970-01-01 00:00:00.200000', 347.70841719968547, 0.007039304822683334, 0.25844748858447486), (3, 21, 'S2IAPSSAD', '1970-01-01 00:00:00.400000', 230.50576523158662, 0.007673874497413635, 0.25136986301369874)]\n",
      "\n",
      "Row count:\n",
      "5738\n",
      "\n",
      "Column names:\n",
      "[(0, 'id', 'integer', 0, None, 1), (1, 'participant_id', 'integer', 1, None, 0), (2, 'experiment_id', 'text', 1, None, 0), (3, 'time', 'text', 0, None, 0), (4, 'pitch', 'real', 0, None, 0), (5, 'rmse', 'real', 0, None, 0), (6, 'zcrate', 'real', 0, None, 0)]\n",
      "\n",
      "Top 3 rows of videofeatures table:\n",
      "[(1, 21, 'S2IAPSSAD', '1970-01-01 00:00:00', 0.0, 0.0, 1.698, 0.0, 1.156, 1.526, 0.30999999999999994, 0.708, 0.10800000000000001, 0.016, 0.0, 0.0, 0.0, 0.0, 1.638, 1.1400000000000001, 0.368, 0.0, 0.0, 1.0, 1.0, 0.2, 0.0, 0.4, 1.0, 0.0, 0.0, 0.0, 0.0, 0.0, 0.0, 1.0, 0.0, 0.0, 0.0), (2, 21, 'S2IAPSSAD', '1970-01-01 00:00:00.200000', 0.0, 0.0, 1.8200000000000003, 0.0, 1.2120000000000002, 1.714, 0.21799999999999997, 0.724, 0.06999999999999999, 0.17, 0.0, 0.0, 0.0, 0.0, 1.3479999999999999, 1.016, 0.158, 0.0, 0.0, 1.0, 1.0, 0.0, 0.0, 0.0, 1.0, 0.0, 0.0, 0.0, 0.0, 0.0, 0.0, 1.0, 0.0, 0.0, 0.0), (3, 21, 'S2IAPSSAD', '1970-01-01 00:00:00.400000', 0.0, 0.0, 1.668, 0.0, 1.34, 1.9799999999999998, 0.21800000000000003, 0.702, 0.22399999999999998, 0.246, 0.0, 0.004, 0.0, 0.0, 0.852, 0.514, 0.68, 0.0, 0.0, 1.0, 1.0, 0.4, 0.0, 0.0, 1.0, 0.0, 0.0, 0.0, 0.0, 0.0, 0.0, 0.8, 0.0, 0.0, 0.6)]\n",
      "\n",
      "Row count:\n",
      "5738\n",
      "\n",
      "Column names:\n",
      "[(0, 'id', 'integer', 0, None, 1), (1, 'participant_id', 'integer', 1, None, 0), (2, 'experiment_id', 'text', 1, None, 0), (3, 'time', 'text', 0, None, 0), (4, 'AU01r', 'real', 0, None, 0), (5, 'AU02r', 'real', 0, None, 0), (6, 'AU04r', 'real', 0, None, 0), (7, 'AU05r', 'real', 0, None, 0), (8, 'AU06r', 'real', 0, None, 0), (9, 'AU07r', 'real', 0, None, 0), (10, 'AU09r', 'real', 0, None, 0), (11, 'AU10r', 'real', 0, None, 0), (12, 'AU12r', 'real', 0, None, 0), (13, 'AU14r', 'real', 0, None, 0), (14, 'AU15r', 'real', 0, None, 0), (15, 'AU17r', 'real', 0, None, 0), (16, 'AU20r', 'real', 0, None, 0), (17, 'AU23r', 'real', 0, None, 0), (18, 'AU25r', 'real', 0, None, 0), (19, 'AU26r', 'real', 0, None, 0), (20, 'AU45r', 'real', 0, None, 0), (21, 'AU01c', 'real', 0, None, 0), (22, 'AU02c', 'real', 0, None, 0), (23, 'AU04c', 'real', 0, None, 0), (24, 'AU05c', 'real', 0, None, 0), (25, 'AU06c', 'real', 0, None, 0), (26, 'AU07c', 'real', 0, None, 0), (27, 'AU09c', 'real', 0, None, 0), (28, 'AU10c', 'real', 0, None, 0), (29, 'AU12c', 'real', 0, None, 0), (30, 'AU14c', 'real', 0, None, 0), (31, 'AU15c', 'real', 0, None, 0), (32, 'AU17c', 'real', 0, None, 0), (33, 'AU20c', 'real', 0, None, 0), (34, 'AU23c', 'real', 0, None, 0), (35, 'AU25c', 'real', 0, None, 0), (36, 'AU26c', 'real', 0, None, 0), (37, 'AU28c', 'real', 0, None, 0), (38, 'AU45c', 'real', 0, None, 0)]\n",
      "  experiment_id participant_id                    time  AU01r  AU02r  AU04r  \\\n",
      "0   S2IAPSHAPPY             18 1970-01-01 00:00:00.000    0.0    0.0  0.986   \n",
      "1   S2IAPSHAPPY             18 1970-01-01 00:00:00.200    0.0    0.0  1.070   \n",
      "2   S2IAPSHAPPY             18 1970-01-01 00:00:00.400    0.0    0.0  1.278   \n",
      "3   S2IAPSHAPPY             18 1970-01-01 00:00:00.600    0.0    0.0  1.132   \n",
      "4   S2IAPSHAPPY             18 1970-01-01 00:00:00.800    0.0    0.0  1.336   \n",
      "\n",
      "   AU05r  AU06r  AU07r  AU09r  ...    AU12c  AU14c  AU15c  AU17c  AU20c  \\\n",
      "0    0.0  0.606  0.016  0.020  ...      0.0    0.6    1.0    1.0    1.0   \n",
      "1    0.0  0.568  0.114  0.028  ...      0.0    1.0    1.0    1.0    1.0   \n",
      "2    0.0  0.246  0.000  0.000  ...      0.0    1.0    1.0    1.0    1.0   \n",
      "3    0.0  0.604  0.204  0.000  ...      0.0    1.0    1.0    1.0    1.0   \n",
      "4    0.0  0.074  0.102  0.000  ...      0.0    1.0    1.0    1.0    1.0   \n",
      "\n",
      "   AU23c  AU25c  AU26c  AU28c  AU45c  \n",
      "0    0.8    1.0    0.4    0.0    0.0  \n",
      "1    1.0    0.6    0.0    0.0    0.0  \n",
      "2    1.0    0.0    0.0    0.0    0.0  \n",
      "3    1.0    0.0    0.0    0.0    0.8  \n",
      "4    1.0    0.0    0.0    0.0    0.0  \n",
      "\n",
      "[5 rows x 38 columns]\n",
      "  participant_id experiment_id                    time       pitch      rmse  \\\n",
      "0             18   S2IAPSHAPPY 1970-01-01 00:00:00.000  271.211606  0.008786   \n",
      "1             18   S2IAPSHAPPY 1970-01-01 00:00:00.200  260.677619  0.008010   \n",
      "2             18   S2IAPSHAPPY 1970-01-01 00:00:00.400  239.593368  0.003346   \n",
      "3             18   S2IAPSHAPPY 1970-01-01 00:00:00.600  205.652267  0.010654   \n",
      "4             18   S2IAPSHAPPY 1970-01-01 00:00:00.800  349.661769  0.020479   \n",
      "\n",
      "     zcrate  \n",
      "0  0.118095  \n",
      "1  0.141905  \n",
      "2  0.186429  \n",
      "3  0.176190  \n",
      "4  0.153571  \n",
      "P18_S2_IAPS_SAD.wav\n",
      "find /media/sf_sharedfolder/Emotion/emrecdemstudydata -name P18_S2_IAPS_SAD.wav\n",
      "['/media/sf_sharedfolder/Emotion/emrecdemstudydata/P18/S2/Audio/P18_S2_IAPS_SAD.wav']\n",
      "Audio file identified\n",
      "generate video features\n",
      "generate audio features\n",
      "Running librosa (no results found on disk)\n",
      "RMS energy\n",
      "     0.39 seconds\n",
      "Zero crossing\n",
      "     0.5 seconds\n",
      "Pitches\n",
      "     4.48 seconds\n",
      "  Pitches smoothing\n",
      "     4.72 seconds\n",
      "TOTAL execution time: 0.08 min\n",
      "\n",
      "Top 3 rows of audiofeatures table:\n",
      "[(1, 21, 'S2IAPSSAD', '1970-01-01 00:00:00', 372.8440881978551, 0.008293401449918747, 0.2760273972602741), (2, 21, 'S2IAPSSAD', '1970-01-01 00:00:00.200000', 347.70841719968547, 0.007039304822683334, 0.25844748858447486), (3, 21, 'S2IAPSSAD', '1970-01-01 00:00:00.400000', 230.50576523158662, 0.007673874497413635, 0.25136986301369874)]\n",
      "\n",
      "Row count:\n",
      "7161\n",
      "\n",
      "Column names:\n",
      "[(0, 'id', 'integer', 0, None, 1), (1, 'participant_id', 'integer', 1, None, 0), (2, 'experiment_id', 'text', 1, None, 0), (3, 'time', 'text', 0, None, 0), (4, 'pitch', 'real', 0, None, 0), (5, 'rmse', 'real', 0, None, 0), (6, 'zcrate', 'real', 0, None, 0)]\n",
      "\n",
      "Top 3 rows of videofeatures table:\n",
      "[(1, 21, 'S2IAPSSAD', '1970-01-01 00:00:00', 0.0, 0.0, 1.698, 0.0, 1.156, 1.526, 0.30999999999999994, 0.708, 0.10800000000000001, 0.016, 0.0, 0.0, 0.0, 0.0, 1.638, 1.1400000000000001, 0.368, 0.0, 0.0, 1.0, 1.0, 0.2, 0.0, 0.4, 1.0, 0.0, 0.0, 0.0, 0.0, 0.0, 0.0, 1.0, 0.0, 0.0, 0.0), (2, 21, 'S2IAPSSAD', '1970-01-01 00:00:00.200000', 0.0, 0.0, 1.8200000000000003, 0.0, 1.2120000000000002, 1.714, 0.21799999999999997, 0.724, 0.06999999999999999, 0.17, 0.0, 0.0, 0.0, 0.0, 1.3479999999999999, 1.016, 0.158, 0.0, 0.0, 1.0, 1.0, 0.0, 0.0, 0.0, 1.0, 0.0, 0.0, 0.0, 0.0, 0.0, 0.0, 1.0, 0.0, 0.0, 0.0), (3, 21, 'S2IAPSSAD', '1970-01-01 00:00:00.400000', 0.0, 0.0, 1.668, 0.0, 1.34, 1.9799999999999998, 0.21800000000000003, 0.702, 0.22399999999999998, 0.246, 0.0, 0.004, 0.0, 0.0, 0.852, 0.514, 0.68, 0.0, 0.0, 1.0, 1.0, 0.4, 0.0, 0.0, 1.0, 0.0, 0.0, 0.0, 0.0, 0.0, 0.0, 0.8, 0.0, 0.0, 0.6)]\n",
      "\n",
      "Row count:\n",
      "7161\n",
      "\n",
      "Column names:\n",
      "[(0, 'id', 'integer', 0, None, 1), (1, 'participant_id', 'integer', 1, None, 0), (2, 'experiment_id', 'text', 1, None, 0), (3, 'time', 'text', 0, None, 0), (4, 'AU01r', 'real', 0, None, 0), (5, 'AU02r', 'real', 0, None, 0), (6, 'AU04r', 'real', 0, None, 0), (7, 'AU05r', 'real', 0, None, 0), (8, 'AU06r', 'real', 0, None, 0), (9, 'AU07r', 'real', 0, None, 0), (10, 'AU09r', 'real', 0, None, 0), (11, 'AU10r', 'real', 0, None, 0), (12, 'AU12r', 'real', 0, None, 0), (13, 'AU14r', 'real', 0, None, 0), (14, 'AU15r', 'real', 0, None, 0), (15, 'AU17r', 'real', 0, None, 0), (16, 'AU20r', 'real', 0, None, 0), (17, 'AU23r', 'real', 0, None, 0), (18, 'AU25r', 'real', 0, None, 0), (19, 'AU26r', 'real', 0, None, 0), (20, 'AU45r', 'real', 0, None, 0), (21, 'AU01c', 'real', 0, None, 0), (22, 'AU02c', 'real', 0, None, 0), (23, 'AU04c', 'real', 0, None, 0), (24, 'AU05c', 'real', 0, None, 0), (25, 'AU06c', 'real', 0, None, 0), (26, 'AU07c', 'real', 0, None, 0), (27, 'AU09c', 'real', 0, None, 0), (28, 'AU10c', 'real', 0, None, 0), (29, 'AU12c', 'real', 0, None, 0), (30, 'AU14c', 'real', 0, None, 0), (31, 'AU15c', 'real', 0, None, 0), (32, 'AU17c', 'real', 0, None, 0), (33, 'AU20c', 'real', 0, None, 0), (34, 'AU23c', 'real', 0, None, 0), (35, 'AU25c', 'real', 0, None, 0), (36, 'AU26c', 'real', 0, None, 0), (37, 'AU28c', 'real', 0, None, 0), (38, 'AU45c', 'real', 0, None, 0)]\n",
      "  experiment_id participant_id                    time  AU01r  AU02r  AU04r  \\\n",
      "0     S2IAPSSAD             18 1970-01-01 00:00:00.000   0.15  0.000  1.232   \n",
      "1     S2IAPSSAD             18 1970-01-01 00:00:00.200   0.00  0.000  1.436   \n",
      "2     S2IAPSSAD             18 1970-01-01 00:00:00.400   0.00  0.068  1.310   \n",
      "3     S2IAPSSAD             18 1970-01-01 00:00:00.600   0.00  0.084  1.160   \n",
      "4     S2IAPSSAD             18 1970-01-01 00:00:00.800   0.02  0.086  1.294   \n",
      "\n",
      "   AU05r  AU06r  AU07r  AU09r  ...    AU12c  AU14c  AU15c  AU17c  AU20c  \\\n",
      "0  0.000  0.882  0.718  0.148  ...      0.0    1.0    0.0    0.6    0.4   \n",
      "1  0.000  0.770  0.740  0.000  ...      0.0    1.0    0.0    1.0    0.0   \n",
      "2  0.000  0.986  0.442  0.000  ...      0.0    1.0    0.0    1.0    0.0   \n",
      "3  0.004  0.896  0.130  0.000  ...      0.0    1.0    0.0    1.0    0.0   \n",
      "4  0.008  0.984  0.204  0.000  ...      0.0    1.0    0.0    1.0    0.0   \n",
      "\n",
      "   AU23c  AU25c  AU26c  AU28c  AU45c  \n",
      "0    1.0    0.0    0.0    0.0    1.0  \n",
      "1    1.0    0.0    0.0    0.0    0.2  \n",
      "2    1.0    0.0    0.0    0.0    0.0  \n",
      "3    1.0    0.0    0.0    0.0    0.0  \n",
      "4    1.0    0.0    0.0    0.0    0.0  \n",
      "\n",
      "[5 rows x 38 columns]\n",
      "  participant_id experiment_id                    time       pitch      rmse  \\\n",
      "0             18     S2IAPSSAD 1970-01-01 00:00:00.000  111.026635  0.001443   \n",
      "1             18     S2IAPSSAD 1970-01-01 00:00:00.200  118.536328  0.001372   \n",
      "2             18     S2IAPSSAD 1970-01-01 00:00:00.400  474.367387  0.004213   \n",
      "3             18     S2IAPSSAD 1970-01-01 00:00:00.600  175.358619  0.002660   \n",
      "4             18     S2IAPSSAD 1970-01-01 00:00:00.800  377.382827  0.006508   \n",
      "\n",
      "     zcrate  \n",
      "0  0.121749  \n",
      "1  0.157399  \n",
      "2  0.294170  \n",
      "3  0.134081  \n",
      "4  0.192601  \n",
      "P21_S2_IAPS_HAPPY.wav\n",
      "find /media/sf_sharedfolder/Emotion/emrecdemstudydata -name P21_S2_IAPS_HAPPY.wav\n",
      "['/media/sf_sharedfolder/Emotion/emrecdemstudydata/P21/S2/Audio/P21_S2_IAPS_HAPPY.wav']\n",
      "Audio file identified\n",
      "generate video features\n"
     ]
    },
    {
     "name": "stdout",
     "output_type": "stream",
     "text": [
      "generate audio features\n",
      "Running librosa (no results found on disk)\n",
      "RMS energy\n",
      "     0.16 seconds\n",
      "Zero crossing\n",
      "     0.19 seconds\n",
      "Pitches\n",
      "     1.91 seconds\n",
      "  Pitches smoothing\n",
      "     2.0 seconds\n",
      "TOTAL execution time: 0.03 min\n",
      "\n",
      "Top 3 rows of audiofeatures table:\n",
      "[(1, 21, 'S2IAPSSAD', '1970-01-01 00:00:00', 372.8440881978551, 0.008293401449918747, 0.2760273972602741), (2, 21, 'S2IAPSSAD', '1970-01-01 00:00:00.200000', 347.70841719968547, 0.007039304822683334, 0.25844748858447486), (3, 21, 'S2IAPSSAD', '1970-01-01 00:00:00.400000', 230.50576523158662, 0.007673874497413635, 0.25136986301369874)]\n",
      "\n",
      "Row count:\n",
      "7814\n",
      "\n",
      "Column names:\n",
      "[(0, 'id', 'integer', 0, None, 1), (1, 'participant_id', 'integer', 1, None, 0), (2, 'experiment_id', 'text', 1, None, 0), (3, 'time', 'text', 0, None, 0), (4, 'pitch', 'real', 0, None, 0), (5, 'rmse', 'real', 0, None, 0), (6, 'zcrate', 'real', 0, None, 0)]\n",
      "\n",
      "Top 3 rows of videofeatures table:\n",
      "[(1, 21, 'S2IAPSSAD', '1970-01-01 00:00:00', 0.0, 0.0, 1.698, 0.0, 1.156, 1.526, 0.30999999999999994, 0.708, 0.10800000000000001, 0.016, 0.0, 0.0, 0.0, 0.0, 1.638, 1.1400000000000001, 0.368, 0.0, 0.0, 1.0, 1.0, 0.2, 0.0, 0.4, 1.0, 0.0, 0.0, 0.0, 0.0, 0.0, 0.0, 1.0, 0.0, 0.0, 0.0), (2, 21, 'S2IAPSSAD', '1970-01-01 00:00:00.200000', 0.0, 0.0, 1.8200000000000003, 0.0, 1.2120000000000002, 1.714, 0.21799999999999997, 0.724, 0.06999999999999999, 0.17, 0.0, 0.0, 0.0, 0.0, 1.3479999999999999, 1.016, 0.158, 0.0, 0.0, 1.0, 1.0, 0.0, 0.0, 0.0, 1.0, 0.0, 0.0, 0.0, 0.0, 0.0, 0.0, 1.0, 0.0, 0.0, 0.0), (3, 21, 'S2IAPSSAD', '1970-01-01 00:00:00.400000', 0.0, 0.0, 1.668, 0.0, 1.34, 1.9799999999999998, 0.21800000000000003, 0.702, 0.22399999999999998, 0.246, 0.0, 0.004, 0.0, 0.0, 0.852, 0.514, 0.68, 0.0, 0.0, 1.0, 1.0, 0.4, 0.0, 0.0, 1.0, 0.0, 0.0, 0.0, 0.0, 0.0, 0.0, 0.8, 0.0, 0.0, 0.6)]\n",
      "\n",
      "Row count:\n",
      "7814\n",
      "\n",
      "Column names:\n",
      "[(0, 'id', 'integer', 0, None, 1), (1, 'participant_id', 'integer', 1, None, 0), (2, 'experiment_id', 'text', 1, None, 0), (3, 'time', 'text', 0, None, 0), (4, 'AU01r', 'real', 0, None, 0), (5, 'AU02r', 'real', 0, None, 0), (6, 'AU04r', 'real', 0, None, 0), (7, 'AU05r', 'real', 0, None, 0), (8, 'AU06r', 'real', 0, None, 0), (9, 'AU07r', 'real', 0, None, 0), (10, 'AU09r', 'real', 0, None, 0), (11, 'AU10r', 'real', 0, None, 0), (12, 'AU12r', 'real', 0, None, 0), (13, 'AU14r', 'real', 0, None, 0), (14, 'AU15r', 'real', 0, None, 0), (15, 'AU17r', 'real', 0, None, 0), (16, 'AU20r', 'real', 0, None, 0), (17, 'AU23r', 'real', 0, None, 0), (18, 'AU25r', 'real', 0, None, 0), (19, 'AU26r', 'real', 0, None, 0), (20, 'AU45r', 'real', 0, None, 0), (21, 'AU01c', 'real', 0, None, 0), (22, 'AU02c', 'real', 0, None, 0), (23, 'AU04c', 'real', 0, None, 0), (24, 'AU05c', 'real', 0, None, 0), (25, 'AU06c', 'real', 0, None, 0), (26, 'AU07c', 'real', 0, None, 0), (27, 'AU09c', 'real', 0, None, 0), (28, 'AU10c', 'real', 0, None, 0), (29, 'AU12c', 'real', 0, None, 0), (30, 'AU14c', 'real', 0, None, 0), (31, 'AU15c', 'real', 0, None, 0), (32, 'AU17c', 'real', 0, None, 0), (33, 'AU20c', 'real', 0, None, 0), (34, 'AU23c', 'real', 0, None, 0), (35, 'AU25c', 'real', 0, None, 0), (36, 'AU26c', 'real', 0, None, 0), (37, 'AU28c', 'real', 0, None, 0), (38, 'AU45c', 'real', 0, None, 0)]\n",
      "  experiment_id participant_id                    time  AU01r  AU02r  AU04r  \\\n",
      "0   S2IAPSHAPPY             21 1970-01-01 00:00:00.000   0.02    0.0  2.496   \n",
      "1   S2IAPSHAPPY             21 1970-01-01 00:00:00.200   0.00    0.0  2.756   \n",
      "2   S2IAPSHAPPY             21 1970-01-01 00:00:00.400   0.00    0.0  2.824   \n",
      "3   S2IAPSHAPPY             21 1970-01-01 00:00:00.600   0.00    0.0  2.706   \n",
      "4   S2IAPSHAPPY             21 1970-01-01 00:00:00.800   0.02    0.0  2.038   \n",
      "\n",
      "   AU05r  AU06r  AU07r  AU09r  ...    AU12c  AU14c  AU15c  AU17c  AU20c  \\\n",
      "0  0.478  1.148  2.074  0.368  ...      0.0    0.0    0.0    1.0    0.0   \n",
      "1  0.538  1.254  1.508  0.346  ...      0.0    0.0    0.0    1.0    0.0   \n",
      "2  0.404  1.368  1.572  0.352  ...      0.0    0.0    0.2    1.0    0.0   \n",
      "3  0.626  1.346  1.382  0.332  ...      0.0    0.0    0.0    1.0    0.0   \n",
      "4  0.058  1.450  1.878  0.464  ...      0.0    0.0    0.0    1.0    0.0   \n",
      "\n",
      "   AU23c  AU25c  AU26c  AU28c  AU45c  \n",
      "0    0.8    0.4    0.0    0.2    0.0  \n",
      "1    0.0    0.0    0.0    0.0    0.0  \n",
      "2    0.0    0.0    0.0    0.0    0.0  \n",
      "3    0.2    0.0    0.0    0.0    0.0  \n",
      "4    0.0    0.0    0.0    0.0    0.8  \n",
      "\n",
      "[5 rows x 38 columns]\n",
      "  participant_id experiment_id                    time       pitch      rmse  \\\n",
      "0             21   S2IAPSHAPPY 1970-01-01 00:00:00.000  427.621869  0.041266   \n",
      "1             21   S2IAPSHAPPY 1970-01-01 00:00:00.200  261.453369  0.033564   \n",
      "2             21   S2IAPSHAPPY 1970-01-01 00:00:00.400  199.058992  0.047269   \n",
      "3             21   S2IAPSHAPPY 1970-01-01 00:00:00.600  186.768305  0.026244   \n",
      "4             21   S2IAPSHAPPY 1970-01-01 00:00:00.800  413.511733  0.058785   \n",
      "\n",
      "     zcrate  \n",
      "0  0.137047  \n",
      "1  0.074611  \n",
      "2  0.071244  \n",
      "3  0.071503  \n",
      "4  0.150777  \n",
      "P21_S2_IAPS_SAD.wav\n",
      "find /media/sf_sharedfolder/Emotion/emrecdemstudydata -name P21_S2_IAPS_SAD.wav\n",
      "['/media/sf_sharedfolder/Emotion/emrecdemstudydata/P21/S2/Audio/P21_S2_IAPS_SAD.wav']\n",
      "Audio file identified\n",
      "generate video features\n",
      "generate audio features\n",
      "Running librosa (no results found on disk)\n",
      "RMS energy\n",
      "     0.23 seconds\n",
      "Zero crossing\n",
      "     0.27 seconds\n",
      "Pitches\n",
      "     2.51 seconds\n",
      "  Pitches smoothing\n",
      "     2.63 seconds\n",
      "TOTAL execution time: 0.04 min\n",
      "\n",
      "Top 3 rows of audiofeatures table:\n",
      "[(1, 21, 'S2IAPSSAD', '1970-01-01 00:00:00', 372.8440881978551, 0.008293401449918747, 0.2760273972602741), (2, 21, 'S2IAPSSAD', '1970-01-01 00:00:00.200000', 347.70841719968547, 0.007039304822683334, 0.25844748858447486), (3, 21, 'S2IAPSSAD', '1970-01-01 00:00:00.400000', 230.50576523158662, 0.007673874497413635, 0.25136986301369874)]\n",
      "\n",
      "Row count:\n",
      "8637\n",
      "\n",
      "Column names:\n",
      "[(0, 'id', 'integer', 0, None, 1), (1, 'participant_id', 'integer', 1, None, 0), (2, 'experiment_id', 'text', 1, None, 0), (3, 'time', 'text', 0, None, 0), (4, 'pitch', 'real', 0, None, 0), (5, 'rmse', 'real', 0, None, 0), (6, 'zcrate', 'real', 0, None, 0)]\n",
      "\n",
      "Top 3 rows of videofeatures table:\n",
      "[(1, 21, 'S2IAPSSAD', '1970-01-01 00:00:00', 0.0, 0.0, 1.698, 0.0, 1.156, 1.526, 0.30999999999999994, 0.708, 0.10800000000000001, 0.016, 0.0, 0.0, 0.0, 0.0, 1.638, 1.1400000000000001, 0.368, 0.0, 0.0, 1.0, 1.0, 0.2, 0.0, 0.4, 1.0, 0.0, 0.0, 0.0, 0.0, 0.0, 0.0, 1.0, 0.0, 0.0, 0.0), (2, 21, 'S2IAPSSAD', '1970-01-01 00:00:00.200000', 0.0, 0.0, 1.8200000000000003, 0.0, 1.2120000000000002, 1.714, 0.21799999999999997, 0.724, 0.06999999999999999, 0.17, 0.0, 0.0, 0.0, 0.0, 1.3479999999999999, 1.016, 0.158, 0.0, 0.0, 1.0, 1.0, 0.0, 0.0, 0.0, 1.0, 0.0, 0.0, 0.0, 0.0, 0.0, 0.0, 1.0, 0.0, 0.0, 0.0), (3, 21, 'S2IAPSSAD', '1970-01-01 00:00:00.400000', 0.0, 0.0, 1.668, 0.0, 1.34, 1.9799999999999998, 0.21800000000000003, 0.702, 0.22399999999999998, 0.246, 0.0, 0.004, 0.0, 0.0, 0.852, 0.514, 0.68, 0.0, 0.0, 1.0, 1.0, 0.4, 0.0, 0.0, 1.0, 0.0, 0.0, 0.0, 0.0, 0.0, 0.0, 0.8, 0.0, 0.0, 0.6)]\n",
      "\n",
      "Row count:\n",
      "8637\n",
      "\n",
      "Column names:\n",
      "[(0, 'id', 'integer', 0, None, 1), (1, 'participant_id', 'integer', 1, None, 0), (2, 'experiment_id', 'text', 1, None, 0), (3, 'time', 'text', 0, None, 0), (4, 'AU01r', 'real', 0, None, 0), (5, 'AU02r', 'real', 0, None, 0), (6, 'AU04r', 'real', 0, None, 0), (7, 'AU05r', 'real', 0, None, 0), (8, 'AU06r', 'real', 0, None, 0), (9, 'AU07r', 'real', 0, None, 0), (10, 'AU09r', 'real', 0, None, 0), (11, 'AU10r', 'real', 0, None, 0), (12, 'AU12r', 'real', 0, None, 0), (13, 'AU14r', 'real', 0, None, 0), (14, 'AU15r', 'real', 0, None, 0), (15, 'AU17r', 'real', 0, None, 0), (16, 'AU20r', 'real', 0, None, 0), (17, 'AU23r', 'real', 0, None, 0), (18, 'AU25r', 'real', 0, None, 0), (19, 'AU26r', 'real', 0, None, 0), (20, 'AU45r', 'real', 0, None, 0), (21, 'AU01c', 'real', 0, None, 0), (22, 'AU02c', 'real', 0, None, 0), (23, 'AU04c', 'real', 0, None, 0), (24, 'AU05c', 'real', 0, None, 0), (25, 'AU06c', 'real', 0, None, 0), (26, 'AU07c', 'real', 0, None, 0), (27, 'AU09c', 'real', 0, None, 0), (28, 'AU10c', 'real', 0, None, 0), (29, 'AU12c', 'real', 0, None, 0), (30, 'AU14c', 'real', 0, None, 0), (31, 'AU15c', 'real', 0, None, 0), (32, 'AU17c', 'real', 0, None, 0), (33, 'AU20c', 'real', 0, None, 0), (34, 'AU23c', 'real', 0, None, 0), (35, 'AU25c', 'real', 0, None, 0), (36, 'AU26c', 'real', 0, None, 0), (37, 'AU28c', 'real', 0, None, 0), (38, 'AU45c', 'real', 0, None, 0)]\n",
      "  experiment_id participant_id                    time  AU01r  AU02r  AU04r  \\\n",
      "0     S2IAPSSAD             21 1970-01-01 00:00:00.000    0.0    0.0  1.698   \n",
      "1     S2IAPSSAD             21 1970-01-01 00:00:00.200    0.0    0.0  1.820   \n",
      "2     S2IAPSSAD             21 1970-01-01 00:00:00.400    0.0    0.0  1.668   \n",
      "3     S2IAPSSAD             21 1970-01-01 00:00:00.600    0.0    0.0  1.748   \n",
      "4     S2IAPSSAD             21 1970-01-01 00:00:00.800    0.0    0.0  1.840   \n",
      "\n",
      "   AU05r  AU06r  AU07r  AU09r  ...    AU12c  AU14c  AU15c  AU17c  AU20c  \\\n",
      "0    0.0  1.156  1.526  0.310  ...      0.0    0.0    0.0    0.0    0.0   \n",
      "1    0.0  1.212  1.714  0.218  ...      0.0    0.0    0.0    0.0    0.0   \n",
      "2    0.0  1.340  1.980  0.218  ...      0.0    0.0    0.0    0.0    0.0   \n",
      "3    0.0  1.288  2.158  0.192  ...      0.0    0.0    0.0    0.0    0.0   \n",
      "4    0.0  1.140  1.860  0.102  ...      0.0    0.0    0.0    0.0    0.0   \n",
      "\n",
      "   AU23c  AU25c  AU26c  AU28c  AU45c  \n",
      "0    0.0    1.0    0.0    0.0    0.0  \n",
      "1    0.0    1.0    0.0    0.0    0.0  \n",
      "2    0.0    0.8    0.0    0.0    0.6  \n",
      "3    0.0    0.0    0.0    0.0    0.2  \n",
      "4    0.0    0.0    0.0    0.0    0.0  \n",
      "\n",
      "[5 rows x 38 columns]\n",
      "  participant_id experiment_id                    time       pitch      rmse  \\\n",
      "0             21     S2IAPSSAD 1970-01-01 00:00:00.000  372.844088  0.008293   \n",
      "1             21     S2IAPSSAD 1970-01-01 00:00:00.200  347.708417  0.007039   \n",
      "2             21     S2IAPSSAD 1970-01-01 00:00:00.400  230.505765  0.007674   \n",
      "3             21     S2IAPSSAD 1970-01-01 00:00:00.600  374.712016  0.013936   \n",
      "4             21     S2IAPSSAD 1970-01-01 00:00:00.800  561.551068  0.010230   \n",
      "\n",
      "     zcrate  \n",
      "0  0.276027  \n",
      "1  0.258447  \n",
      "2  0.251370  \n",
      "3  0.100228  \n",
      "4  0.142922  \n"
     ]
    }
   ],
   "source": [
    "for i in range(len(filenames)):\n",
    "    # select one file from list of filenames\n",
    "    openface_file = openface_outputfolder + '/' + filenames[i]\n",
    "    # Find wav file that matches the csv file produced by OpenFace\n",
    "    # based on the assumption that filenames are identical except from file extension\n",
    "    audio_file = erd.findwav(filenames[i], emrecdemStudyDataFolder)\n",
    "    print(\"generate video features\")\n",
    "    # process with exploface\n",
    "    openface_features = exploface.get_feature_time_series(openface_file)\n",
    "    print(\"generate audio features\")\n",
    "    # process with explibrosa\n",
    "    # explibrosa.get_info(audio_file)\n",
    "    audio_features = explibrosa.get_feature_time_series(audio_file)\n",
    "    \n",
    "    # extract participant id (PID) and experiment id (EXP) from filename:\n",
    "    PID = filenames[i].split(\"_\")[0].split(\"P\")[1]\n",
    "    EXP = ''.join(filenames[i].split(\"_\")[1:4]) # extract integers from filename\n",
    "    EXP = EXP.split(\".csv\")[0] # remove .csv at the end\n",
    "    openface_features = erd.downsample(openface_features,res = '0.2S')\n",
    "    openface_features = erd.tidyup_video_features(openface_features, PID, EXP)\n",
    "    \n",
    "    audio_features = erd.downsample(audio_features,res = '0.2S')\n",
    "    audio_features = erd.tidyup_audio_features(audio_features, PID, EXP)\n",
    "    \n",
    "    #http://www.sqlitetutorial.net/sqlite-python/create-tables/\n",
    "    #erd.features2sqlitedb.checkdbcontent(databasefile)\n",
    "    # features to database\n",
    "    if (deleteDataBaseEntriesOnFirstRun == 0):\n",
    "        deleteDataBaseEntries = True\n",
    "    else:\n",
    "        deleteDataBaseEntries = False\n",
    "    \n",
    "    erd.features2sqlitedb.features2db(audio_features, openface_features,\n",
    "            databasefile, deleteDataBaseEntries)\n",
    "    # check database content\n",
    "    erd.checkdbcontent(databasefile)\n",
    "    \n",
    "    print(openface_features.head())\n",
    "    print(audio_features.head())\n",
    " "
   ]
  },
  {
   "cell_type": "code",
   "execution_count": null,
   "metadata": {},
   "outputs": [],
   "source": []
  },
  {
   "cell_type": "code",
   "execution_count": null,
   "metadata": {},
   "outputs": [],
   "source": []
  },
  {
   "cell_type": "code",
   "execution_count": null,
   "metadata": {},
   "outputs": [],
   "source": []
  }
 ],
 "metadata": {
  "kernelspec": {
   "display_name": "Python 3",
   "language": "python",
   "name": "python3"
  },
  "language_info": {
   "codemirror_mode": {
    "name": "ipython",
    "version": 3
   },
   "file_extension": ".py",
   "mimetype": "text/x-python",
   "name": "python",
   "nbconvert_exporter": "python",
   "pygments_lexer": "ipython3",
   "version": "3.7.1"
  }
 },
 "nbformat": 4,
 "nbformat_minor": 2
}
