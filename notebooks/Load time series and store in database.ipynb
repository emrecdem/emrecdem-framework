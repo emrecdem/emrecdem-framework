{
 "cells": [
  {
   "cell_type": "code",
   "execution_count": 1,
   "metadata": {},
   "outputs": [],
   "source": [
    "# general functions:\n",
    "def downsample(time_series,res = '0.2S'):\n",
    "    # downsamples time_series pandas data frame \n",
    "    # time_series: a pandas data.frame for which there is a column 'timestamps' with numeric timestamps\n",
    "    # res: desired resolution in time after downsampling\n",
    "    Nvalues = len(time_series.index)\n",
    "    samplerate = 1/ ((time_series.timestamp[Nvalues-1] - time_series.timestamp[0]) / Nvalues)\n",
    "    timestart = dt.datetime(1970, 1, 1, 0, 0, 0, 0) #dt.datetime.now()\n",
    "    start = pd.Timestamp(timestart)\n",
    "    end = pd.Timestamp(timestart + dt.timedelta(seconds=Nvalues/samplerate))\n",
    "    t = np.linspace(start.value, end.value, Nvalues)\n",
    "    t = pd.to_datetime(t)\n",
    "    time_series['time'] = t\n",
    "    time_series = time_series.resample(res,on='time').mean() # downsample to 0.2 second intervals\n",
    "    time_series.index.name = 'time'\n",
    "    time_series.reset_index(inplace=True)\n",
    "    return time_series"
   ]
  },
  {
   "cell_type": "markdown",
   "metadata": {},
   "source": [
    "# Merge features from various modalities into single database\n",
    "\n",
    "## 1. Load feature data from Video"
   ]
  },
  {
   "cell_type": "markdown",
   "metadata": {},
   "source": [
    "Load OpenFace output data and load features in pandas dataframe: So far copied from: https://github.com/emrecdem/exploface/blob/master/TUTORIALS/tutorial1.ipynb"
   ]
  },
  {
   "cell_type": "code",
   "execution_count": 2,
   "metadata": {},
   "outputs": [],
   "source": [
    "import pandas as pd\n",
    "import matplotlib.pyplot as plt\n",
    "import exploface\n",
    "import datetime as dt\n",
    "import numpy as np"
   ]
  },
  {
   "cell_type": "code",
   "execution_count": 3,
   "metadata": {},
   "outputs": [
    {
     "data": {
      "text/plain": [
       "'0.0.0.dev6'"
      ]
     },
     "execution_count": 3,
     "metadata": {},
     "output_type": "execute_result"
    }
   ],
   "source": [
    "exploface.__version__"
   ]
  },
  {
   "cell_type": "code",
   "execution_count": 4,
   "metadata": {},
   "outputs": [],
   "source": [
    "# specify some paths\n",
    "emrecdemStudyDataFolder = \"/media/sf_sharedfolder/Emotion/emrecdemstudydata\"\n",
    "openface_outputfolder = emrecdemStudyDataFolder + \"/OpenFaceOutput\""
   ]
  },
  {
   "cell_type": "code",
   "execution_count": 5,
   "metadata": {},
   "outputs": [],
   "source": [
    "# Search for files with csv extension, because we are only interested in those\n",
    "# This assumes that there are no other csv files in folder other than the ones produced by OpenFace.\n",
    "from os import listdir\n",
    "\n",
    "def find_csv_filenames( path_to_dir, suffix=\".csv\" ):\n",
    "    filenames = listdir(path_to_dir)\n",
    "    return [ filename for filename in filenames if filename.endswith( suffix ) ]\n",
    "\n",
    "filenames = find_csv_filenames(openface_outputfolder)"
   ]
  },
  {
   "cell_type": "code",
   "execution_count": 6,
   "metadata": {},
   "outputs": [
    {
     "data": {
      "text/plain": [
       "['P18_S2_IAPS_HAPPY_Cfront.csv',\n",
       " 'P18_S2_IAPS_SAD_Cfront.csv',\n",
       " 'P21_S2_IAPS_HAPPY_C1.csv',\n",
       " 'P21_S2_IAPS_SAD_C1.csv']"
      ]
     },
     "execution_count": 6,
     "metadata": {},
     "output_type": "execute_result"
    }
   ],
   "source": [
    "filenames"
   ]
  },
  {
   "cell_type": "code",
   "execution_count": 177,
   "metadata": {},
   "outputs": [],
   "source": [
    "# Potential loop over filenames, for now just one index\n",
    "fileindex = 3\n",
    "deleteDataBaseEntries = False"
   ]
  },
  {
   "cell_type": "code",
   "execution_count": 178,
   "metadata": {},
   "outputs": [],
   "source": [
    "# select one file to process (in the future this can be a loop over all the files)\n",
    "openface_file = openface_outputfolder + '/' + filenames[fileindex]\n",
    "openface_features = exploface.get_feature_time_series(openface_file)"
   ]
  },
  {
   "cell_type": "code",
   "execution_count": 179,
   "metadata": {},
   "outputs": [],
   "source": [
    "# extract participant id (PID) and experiment id (EXP) from filename:\n",
    "PID = filenames[fileindex].split(\"_\")[0].split(\"P\")[1]\n",
    "EXP = ''.join(filenames[fileindex].split(\"_\")[1:4]) # extract integers from filename"
   ]
  },
  {
   "cell_type": "code",
   "execution_count": 180,
   "metadata": {},
   "outputs": [
    {
     "name": "stdout",
     "output_type": "stream",
     "text": [
      "S2IAPSSAD\n"
     ]
    }
   ],
   "source": [
    "EXP = EXP.split(\".csv\")[0] # remove .csv at the end\n",
    "print(EXP)"
   ]
  },
  {
   "cell_type": "code",
   "execution_count": 181,
   "metadata": {},
   "outputs": [
    {
     "data": {
      "text/plain": [
       "'21'"
      ]
     },
     "execution_count": 181,
     "metadata": {},
     "output_type": "execute_result"
    }
   ],
   "source": [
    "PID"
   ]
  },
  {
   "cell_type": "code",
   "execution_count": 182,
   "metadata": {},
   "outputs": [],
   "source": [
    "openface_features = downsample(openface_features,res = '0.2S')"
   ]
  },
  {
   "cell_type": "code",
   "execution_count": 183,
   "metadata": {},
   "outputs": [],
   "source": [
    "# tidy up data frame:\n",
    "filter_col = [col for col in openface_features if col.startswith('AU')]\n",
    "filter_col.insert(0,'time')\n",
    "filter_col.insert(0,'participant_id')\n",
    "filter_col.insert(0,'experiment_id')\n",
    "openface_features['participant_id'] = PID\n",
    "openface_features['experiment_id'] = EXP\n",
    "openface_features = openface_features[filter_col]\n",
    "openface_features.columns = openface_features.columns.str.replace('_', '')\n",
    "openface_features = openface_features.rename(columns = {'experimentid':'experiment_id'})\n",
    "openface_features = openface_features.rename(columns = {'participantid':'participant_id'})"
   ]
  },
  {
   "cell_type": "code",
   "execution_count": 184,
   "metadata": {},
   "outputs": [
    {
     "data": {
      "text/html": [
       "<div>\n",
       "<style scoped>\n",
       "    .dataframe tbody tr th:only-of-type {\n",
       "        vertical-align: middle;\n",
       "    }\n",
       "\n",
       "    .dataframe tbody tr th {\n",
       "        vertical-align: top;\n",
       "    }\n",
       "\n",
       "    .dataframe thead th {\n",
       "        text-align: right;\n",
       "    }\n",
       "</style>\n",
       "<table border=\"1\" class=\"dataframe\">\n",
       "  <thead>\n",
       "    <tr style=\"text-align: right;\">\n",
       "      <th></th>\n",
       "      <th>experiment_id</th>\n",
       "      <th>participant_id</th>\n",
       "      <th>time</th>\n",
       "      <th>AU01r</th>\n",
       "      <th>AU02r</th>\n",
       "      <th>AU04r</th>\n",
       "      <th>AU05r</th>\n",
       "      <th>AU06r</th>\n",
       "      <th>AU07r</th>\n",
       "      <th>AU09r</th>\n",
       "      <th>...</th>\n",
       "      <th>AU12c</th>\n",
       "      <th>AU14c</th>\n",
       "      <th>AU15c</th>\n",
       "      <th>AU17c</th>\n",
       "      <th>AU20c</th>\n",
       "      <th>AU23c</th>\n",
       "      <th>AU25c</th>\n",
       "      <th>AU26c</th>\n",
       "      <th>AU28c</th>\n",
       "      <th>AU45c</th>\n",
       "    </tr>\n",
       "  </thead>\n",
       "  <tbody>\n",
       "    <tr>\n",
       "      <th>0</th>\n",
       "      <td>S2IAPSSAD</td>\n",
       "      <td>21</td>\n",
       "      <td>1970-01-01 00:00:00.000</td>\n",
       "      <td>0.0</td>\n",
       "      <td>0.0</td>\n",
       "      <td>1.698</td>\n",
       "      <td>0.0</td>\n",
       "      <td>1.156</td>\n",
       "      <td>1.526</td>\n",
       "      <td>0.310</td>\n",
       "      <td>...</td>\n",
       "      <td>0.0</td>\n",
       "      <td>0.0</td>\n",
       "      <td>0.0</td>\n",
       "      <td>0.0</td>\n",
       "      <td>0.0</td>\n",
       "      <td>0.0</td>\n",
       "      <td>1.0</td>\n",
       "      <td>0.0</td>\n",
       "      <td>0.0</td>\n",
       "      <td>0.0</td>\n",
       "    </tr>\n",
       "    <tr>\n",
       "      <th>1</th>\n",
       "      <td>S2IAPSSAD</td>\n",
       "      <td>21</td>\n",
       "      <td>1970-01-01 00:00:00.200</td>\n",
       "      <td>0.0</td>\n",
       "      <td>0.0</td>\n",
       "      <td>1.820</td>\n",
       "      <td>0.0</td>\n",
       "      <td>1.212</td>\n",
       "      <td>1.714</td>\n",
       "      <td>0.218</td>\n",
       "      <td>...</td>\n",
       "      <td>0.0</td>\n",
       "      <td>0.0</td>\n",
       "      <td>0.0</td>\n",
       "      <td>0.0</td>\n",
       "      <td>0.0</td>\n",
       "      <td>0.0</td>\n",
       "      <td>1.0</td>\n",
       "      <td>0.0</td>\n",
       "      <td>0.0</td>\n",
       "      <td>0.0</td>\n",
       "    </tr>\n",
       "    <tr>\n",
       "      <th>2</th>\n",
       "      <td>S2IAPSSAD</td>\n",
       "      <td>21</td>\n",
       "      <td>1970-01-01 00:00:00.400</td>\n",
       "      <td>0.0</td>\n",
       "      <td>0.0</td>\n",
       "      <td>1.668</td>\n",
       "      <td>0.0</td>\n",
       "      <td>1.340</td>\n",
       "      <td>1.980</td>\n",
       "      <td>0.218</td>\n",
       "      <td>...</td>\n",
       "      <td>0.0</td>\n",
       "      <td>0.0</td>\n",
       "      <td>0.0</td>\n",
       "      <td>0.0</td>\n",
       "      <td>0.0</td>\n",
       "      <td>0.0</td>\n",
       "      <td>0.8</td>\n",
       "      <td>0.0</td>\n",
       "      <td>0.0</td>\n",
       "      <td>0.6</td>\n",
       "    </tr>\n",
       "    <tr>\n",
       "      <th>3</th>\n",
       "      <td>S2IAPSSAD</td>\n",
       "      <td>21</td>\n",
       "      <td>1970-01-01 00:00:00.600</td>\n",
       "      <td>0.0</td>\n",
       "      <td>0.0</td>\n",
       "      <td>1.748</td>\n",
       "      <td>0.0</td>\n",
       "      <td>1.288</td>\n",
       "      <td>2.158</td>\n",
       "      <td>0.192</td>\n",
       "      <td>...</td>\n",
       "      <td>0.0</td>\n",
       "      <td>0.0</td>\n",
       "      <td>0.0</td>\n",
       "      <td>0.0</td>\n",
       "      <td>0.0</td>\n",
       "      <td>0.0</td>\n",
       "      <td>0.0</td>\n",
       "      <td>0.0</td>\n",
       "      <td>0.0</td>\n",
       "      <td>0.2</td>\n",
       "    </tr>\n",
       "    <tr>\n",
       "      <th>4</th>\n",
       "      <td>S2IAPSSAD</td>\n",
       "      <td>21</td>\n",
       "      <td>1970-01-01 00:00:00.800</td>\n",
       "      <td>0.0</td>\n",
       "      <td>0.0</td>\n",
       "      <td>1.840</td>\n",
       "      <td>0.0</td>\n",
       "      <td>1.140</td>\n",
       "      <td>1.860</td>\n",
       "      <td>0.102</td>\n",
       "      <td>...</td>\n",
       "      <td>0.0</td>\n",
       "      <td>0.0</td>\n",
       "      <td>0.0</td>\n",
       "      <td>0.0</td>\n",
       "      <td>0.0</td>\n",
       "      <td>0.0</td>\n",
       "      <td>0.0</td>\n",
       "      <td>0.0</td>\n",
       "      <td>0.0</td>\n",
       "      <td>0.0</td>\n",
       "    </tr>\n",
       "  </tbody>\n",
       "</table>\n",
       "<p>5 rows × 38 columns</p>\n",
       "</div>"
      ],
      "text/plain": [
       "  experiment_id participant_id                    time  AU01r  AU02r  AU04r  \\\n",
       "0     S2IAPSSAD             21 1970-01-01 00:00:00.000    0.0    0.0  1.698   \n",
       "1     S2IAPSSAD             21 1970-01-01 00:00:00.200    0.0    0.0  1.820   \n",
       "2     S2IAPSSAD             21 1970-01-01 00:00:00.400    0.0    0.0  1.668   \n",
       "3     S2IAPSSAD             21 1970-01-01 00:00:00.600    0.0    0.0  1.748   \n",
       "4     S2IAPSSAD             21 1970-01-01 00:00:00.800    0.0    0.0  1.840   \n",
       "\n",
       "   AU05r  AU06r  AU07r  AU09r  ...    AU12c  AU14c  AU15c  AU17c  AU20c  \\\n",
       "0    0.0  1.156  1.526  0.310  ...      0.0    0.0    0.0    0.0    0.0   \n",
       "1    0.0  1.212  1.714  0.218  ...      0.0    0.0    0.0    0.0    0.0   \n",
       "2    0.0  1.340  1.980  0.218  ...      0.0    0.0    0.0    0.0    0.0   \n",
       "3    0.0  1.288  2.158  0.192  ...      0.0    0.0    0.0    0.0    0.0   \n",
       "4    0.0  1.140  1.860  0.102  ...      0.0    0.0    0.0    0.0    0.0   \n",
       "\n",
       "   AU23c  AU25c  AU26c  AU28c  AU45c  \n",
       "0    0.0    1.0    0.0    0.0    0.0  \n",
       "1    0.0    1.0    0.0    0.0    0.0  \n",
       "2    0.0    0.8    0.0    0.0    0.6  \n",
       "3    0.0    0.0    0.0    0.0    0.2  \n",
       "4    0.0    0.0    0.0    0.0    0.0  \n",
       "\n",
       "[5 rows x 38 columns]"
      ]
     },
     "execution_count": 184,
     "metadata": {},
     "output_type": "execute_result"
    }
   ],
   "source": [
    "openface_features.head()"
   ]
  },
  {
   "cell_type": "markdown",
   "metadata": {},
   "source": [
    "## 2. Load feature data from audio"
   ]
  },
  {
   "cell_type": "markdown",
   "metadata": {},
   "source": [
    "Process data with Librosa in pandas dataframe: So far copied from: https://github.com/emrecdem/explibrosa/blob/master/TUTORIALS/tutorial1.ipynb"
   ]
  },
  {
   "cell_type": "code",
   "execution_count": 185,
   "metadata": {},
   "outputs": [],
   "source": [
    "import matplotlib.pyplot as plt\n",
    "import os\n",
    "import explibrosa"
   ]
  },
  {
   "cell_type": "code",
   "execution_count": 186,
   "metadata": {},
   "outputs": [
    {
     "data": {
      "text/plain": [
       "'0.0.0.dev1'"
      ]
     },
     "execution_count": 186,
     "metadata": {},
     "output_type": "execute_result"
    }
   ],
   "source": [
    "explibrosa.__version__"
   ]
  },
  {
   "cell_type": "markdown",
   "metadata": {},
   "source": [
    "Find wav file that matches the csv file produced by OpenFace based on the assumption that filenames are identical except from file extension"
   ]
  },
  {
   "cell_type": "code",
   "execution_count": 187,
   "metadata": {},
   "outputs": [],
   "source": [
    "transformfilename = filenames[fileindex]"
   ]
  },
  {
   "cell_type": "code",
   "execution_count": 188,
   "metadata": {},
   "outputs": [],
   "source": [
    "audiofile_name = transformfilename.replace('.csv','.wav').replace('_Cfront','').replace('_Cside','').replace('_C1','')"
   ]
  },
  {
   "cell_type": "code",
   "execution_count": 189,
   "metadata": {},
   "outputs": [
    {
     "data": {
      "text/plain": [
       "'P21_S2_IAPS_SAD.wav'"
      ]
     },
     "execution_count": 189,
     "metadata": {},
     "output_type": "execute_result"
    }
   ],
   "source": [
    "audiofile_name"
   ]
  },
  {
   "cell_type": "code",
   "execution_count": 190,
   "metadata": {},
   "outputs": [],
   "source": [
    "import subprocess\n",
    " \n",
    "# Set up find command\n",
    "findCMD = 'find ' + emrecdemStudyDataFolder + ' -name ' + audiofile_name \n",
    "out = subprocess.Popen(findCMD,shell=True,stdin=subprocess.PIPE, \n",
    "                        stdout=subprocess.PIPE,stderr=subprocess.PIPE)\n",
    "# Get standard out and error\n",
    "(stdout, stderr) = out.communicate()\n",
    "# Save found files to list\n",
    "filelist = stdout.decode().split()"
   ]
  },
  {
   "cell_type": "code",
   "execution_count": 191,
   "metadata": {},
   "outputs": [
    {
     "data": {
      "text/plain": [
       "'find /media/sf_sharedfolder/Emotion/emrecdemstudydata -name P21_S2_IAPS_SAD.wav'"
      ]
     },
     "execution_count": 191,
     "metadata": {},
     "output_type": "execute_result"
    }
   ],
   "source": [
    "findCMD"
   ]
  },
  {
   "cell_type": "code",
   "execution_count": 192,
   "metadata": {},
   "outputs": [],
   "source": [
    "audiofiles_fullPaths = filelist # probably the list has only one filename\n",
    "audio_file = audiofiles_fullPaths[0]"
   ]
  },
  {
   "cell_type": "code",
   "execution_count": 193,
   "metadata": {},
   "outputs": [
    {
     "data": {
      "text/plain": [
       "['/media/sf_sharedfolder/Emotion/emrecdemstudydata/P21/S2/Audio/P21_S2_IAPS_SAD.wav']"
      ]
     },
     "execution_count": 193,
     "metadata": {},
     "output_type": "execute_result"
    }
   ],
   "source": [
    "audiofiles_fullPaths"
   ]
  },
  {
   "cell_type": "code",
   "execution_count": 194,
   "metadata": {},
   "outputs": [
    {
     "data": {
      "text/plain": [
       "True"
      ]
     },
     "execution_count": 194,
     "metadata": {},
     "output_type": "execute_result"
    }
   ],
   "source": [
    "os.path.isfile(audio_file)"
   ]
  },
  {
   "cell_type": "code",
   "execution_count": 195,
   "metadata": {},
   "outputs": [
    {
     "data": {
      "text/plain": [
       "{'#frames': 2632496, 'duration (min)': 2.7, 'Sample freq (kHz)': 16.0}"
      ]
     },
     "execution_count": 195,
     "metadata": {},
     "output_type": "execute_result"
    }
   ],
   "source": [
    "explibrosa.get_info(audio_file)"
   ]
  },
  {
   "cell_type": "code",
   "execution_count": 196,
   "metadata": {},
   "outputs": [
    {
     "name": "stdout",
     "output_type": "stream",
     "text": [
      "Running librosa (no results found on disk)\n",
      "RMS energy\n",
      "     1.48 seconds\n",
      "Zero crossing\n",
      "     1.66 seconds\n",
      "Pitches\n",
      "     8.12 seconds\n",
      "  Pitches smoothing\n",
      "     8.45 seconds\n",
      "TOTAL execution time: 0.14 min\n"
     ]
    }
   ],
   "source": [
    "time_series = explibrosa.get_feature_time_series(audio_file)"
   ]
  },
  {
   "cell_type": "code",
   "execution_count": 197,
   "metadata": {},
   "outputs": [],
   "source": [
    "time_series = downsample(time_series,res = '0.2S')"
   ]
  },
  {
   "cell_type": "code",
   "execution_count": 198,
   "metadata": {},
   "outputs": [],
   "source": [
    "# Add columns and tidy up column names\n",
    "time_series['participant_id'] = PID\n",
    "time_series['experiment_id'] = EXP\n",
    "time_series = time_series.rename(columns={'zrc': 'zcrate'})\n",
    "time_series.drop(['timestamp'], axis = 1, inplace = True, errors = 'ignore')\n",
    "time_series = time_series[['participant_id','experiment_id','time','pitch','rmse','zcrate']]"
   ]
  },
  {
   "cell_type": "code",
   "execution_count": 199,
   "metadata": {},
   "outputs": [
    {
     "data": {
      "text/html": [
       "<div>\n",
       "<style scoped>\n",
       "    .dataframe tbody tr th:only-of-type {\n",
       "        vertical-align: middle;\n",
       "    }\n",
       "\n",
       "    .dataframe tbody tr th {\n",
       "        vertical-align: top;\n",
       "    }\n",
       "\n",
       "    .dataframe thead th {\n",
       "        text-align: right;\n",
       "    }\n",
       "</style>\n",
       "<table border=\"1\" class=\"dataframe\">\n",
       "  <thead>\n",
       "    <tr style=\"text-align: right;\">\n",
       "      <th></th>\n",
       "      <th>participant_id</th>\n",
       "      <th>experiment_id</th>\n",
       "      <th>time</th>\n",
       "      <th>pitch</th>\n",
       "      <th>rmse</th>\n",
       "      <th>zcrate</th>\n",
       "    </tr>\n",
       "  </thead>\n",
       "  <tbody>\n",
       "    <tr>\n",
       "      <th>0</th>\n",
       "      <td>21</td>\n",
       "      <td>S2IAPSSAD</td>\n",
       "      <td>1970-01-01 00:00:00.000</td>\n",
       "      <td>372.844088</td>\n",
       "      <td>0.008293</td>\n",
       "      <td>0.276027</td>\n",
       "    </tr>\n",
       "    <tr>\n",
       "      <th>1</th>\n",
       "      <td>21</td>\n",
       "      <td>S2IAPSSAD</td>\n",
       "      <td>1970-01-01 00:00:00.200</td>\n",
       "      <td>347.708417</td>\n",
       "      <td>0.007039</td>\n",
       "      <td>0.258447</td>\n",
       "    </tr>\n",
       "    <tr>\n",
       "      <th>2</th>\n",
       "      <td>21</td>\n",
       "      <td>S2IAPSSAD</td>\n",
       "      <td>1970-01-01 00:00:00.400</td>\n",
       "      <td>230.505765</td>\n",
       "      <td>0.007674</td>\n",
       "      <td>0.251370</td>\n",
       "    </tr>\n",
       "    <tr>\n",
       "      <th>3</th>\n",
       "      <td>21</td>\n",
       "      <td>S2IAPSSAD</td>\n",
       "      <td>1970-01-01 00:00:00.600</td>\n",
       "      <td>374.712016</td>\n",
       "      <td>0.013936</td>\n",
       "      <td>0.100228</td>\n",
       "    </tr>\n",
       "    <tr>\n",
       "      <th>4</th>\n",
       "      <td>21</td>\n",
       "      <td>S2IAPSSAD</td>\n",
       "      <td>1970-01-01 00:00:00.800</td>\n",
       "      <td>561.551068</td>\n",
       "      <td>0.010230</td>\n",
       "      <td>0.142922</td>\n",
       "    </tr>\n",
       "  </tbody>\n",
       "</table>\n",
       "</div>"
      ],
      "text/plain": [
       "  participant_id experiment_id                    time       pitch      rmse  \\\n",
       "0             21     S2IAPSSAD 1970-01-01 00:00:00.000  372.844088  0.008293   \n",
       "1             21     S2IAPSSAD 1970-01-01 00:00:00.200  347.708417  0.007039   \n",
       "2             21     S2IAPSSAD 1970-01-01 00:00:00.400  230.505765  0.007674   \n",
       "3             21     S2IAPSSAD 1970-01-01 00:00:00.600  374.712016  0.013936   \n",
       "4             21     S2IAPSSAD 1970-01-01 00:00:00.800  561.551068  0.010230   \n",
       "\n",
       "     zcrate  \n",
       "0  0.276027  \n",
       "1  0.258447  \n",
       "2  0.251370  \n",
       "3  0.100228  \n",
       "4  0.142922  "
      ]
     },
     "execution_count": 199,
     "metadata": {},
     "output_type": "execute_result"
    }
   ],
   "source": [
    "time_series.head()"
   ]
  },
  {
   "cell_type": "markdown",
   "metadata": {},
   "source": [
    "## 3. Store in database"
   ]
  },
  {
   "cell_type": "markdown",
   "metadata": {},
   "source": [
    "\n",
    "http://www.sqlitetutorial.net/sqlite-python/create-tables/"
   ]
  },
  {
   "cell_type": "code",
   "execution_count": 200,
   "metadata": {},
   "outputs": [],
   "source": [
    "import sqlite3"
   ]
  },
  {
   "cell_type": "code",
   "execution_count": 201,
   "metadata": {},
   "outputs": [],
   "source": [
    "def create_connection(db_file):\n",
    "    \"\"\" create a database connection to the SQLite database\n",
    "        specified by db_file\n",
    "    :param db_file: database file\n",
    "    :return: Connection object or None\n",
    "    \"\"\"\n",
    "    try:\n",
    "        conn = sqlite3.connect(db_file)\n",
    "        return conn\n",
    "    except Error as e:\n",
    "        print(e)\n",
    " \n",
    "    return None"
   ]
  },
  {
   "cell_type": "code",
   "execution_count": 202,
   "metadata": {},
   "outputs": [],
   "source": [
    "def create_table(conn, create_table_sql):\n",
    "    \"\"\" create a table from the create_table_sql statement\n",
    "    :param conn: Connection object\n",
    "    :param create_table_sql: a CREATE TABLE statement\n",
    "    :return:\n",
    "    \"\"\"\n",
    "    try:\n",
    "        c = conn.cursor()\n",
    "        c.execute(create_table_sql)\n",
    "    except Error as e:\n",
    "        print(e)"
   ]
  },
  {
   "cell_type": "code",
   "execution_count": 203,
   "metadata": {},
   "outputs": [],
   "source": [
    "def main():\n",
    "    # Note time in text datatype, which will facilitate ISO8601 \"YYYY-MM-DD HH:MM:SS.SSS\"\n",
    "    database = \"/media/sf_sharedfolder/Emotion/emrecdemstudydata/emrecdemdb.db\"\n",
    "     \n",
    "    sql_create_participants_table = \"\"\" CREATE TABLE IF NOT EXISTS participants (\n",
    "                                        id integer PRIMARY KEY,\n",
    "                                        age real\n",
    "                                    ); \"\"\"\n",
    "    \n",
    "    sql_create_experiments_table = \"\"\" CREATE TABLE IF NOT EXISTS experiments (\n",
    "                                        id integer PRIMARY KEY,\n",
    "                                        name text NOT NULL\n",
    "                                    ); \"\"\"\n",
    "    sql_create_videofeatures_table = \"\"\" CREATE TABLE IF NOT EXISTS videofeatures (\n",
    "                                        id integer PRIMARY KEY,\n",
    "                                        participant_id integer NOT NULL,\n",
    "                                        experiment_id text NOT NULL,\n",
    "                                        time text,\n",
    "                                        AU01r real, AU02r real, AU04r real,\n",
    "                                        AU05r real, AU06r real, AU07r real,\n",
    "                                        AU09r real, AU10r real, AU12r real,\n",
    "                                        AU14r real, AU15r real, AU17r real,\n",
    "                                        AU20r real, AU23r real, AU25r real,\n",
    "                                        AU26r real, AU45r real, AU01c real,\n",
    "                                        AU02c real, AU04c real, AU05c real,\n",
    "                                        AU06c real, AU07c real, AU09c real,\n",
    "                                        AU10c real, AU12c real, AU14c real,\n",
    "                                        AU15c real, AU17c real, AU20c real,\n",
    "                                        AU23c real, AU25c real, AU26c real,\n",
    "                                        AU28c real, AU45c real,                                        \n",
    "                                        FOREIGN KEY (participant_id) REFERENCES participants (id),\n",
    "                                        FOREIGN KEY (experiment_id) REFERENCES experiments (id)\n",
    "                                    ); \"\"\"\n",
    "    \n",
    "    sql_create_audiofeatures_table = \"\"\" CREATE TABLE IF NOT EXISTS audiofeatures (\n",
    "                                        id integer PRIMARY KEY,\n",
    "                                        participant_id integer NOT NULL,\n",
    "                                        experiment_id text NOT NULL,\n",
    "                                        time text, \n",
    "                                        pitch real,\n",
    "                                        rmse real,\n",
    "                                        zcrate real,\n",
    "                                        FOREIGN KEY (participant_id) REFERENCES participants (id),\n",
    "                                        FOREIGN KEY (experiment_id) REFERENCES experiments (id)\n",
    "                                    ); \"\"\"\n",
    "        \n",
    "    sql_create_facslabels_table = \"\"\" CREATE TABLE IF NOT EXISTS facslabels (\n",
    "                                        id integer PRIMARY KEY,\n",
    "                                        name text NOT NULL\n",
    "                                    ); \"\"\"\n",
    " \n",
    "    sql_create_facsencoding_table = \"\"\"CREATE TABLE IF NOT EXISTS tasks (\n",
    "                                    id integer PRIMARY KEY,\n",
    "                                    participant_id integer NOT NULL,\n",
    "                                    experiment_id integer NOT NULL,\n",
    "                                    timestamp text,\n",
    "                                    emotion_id integer NOT NULL,\n",
    "                                    FOREIGN KEY (participant_id) REFERENCES participants (id),\n",
    "                                    FOREIGN KEY (experiment_id) REFERENCES experiments (id),\n",
    "                                    FOREIGN KEY (emotion_id) REFERENCES facslabels (id)\n",
    "                                );\"\"\"\n",
    " \n",
    "    # create a database connection\n",
    "    conn = create_connection(database)\n",
    "    if conn is not None:\n",
    "        # create participants table\n",
    "        create_table(conn, sql_create_participants_table)\n",
    "        # create experiments table\n",
    "        create_table(conn, sql_create_experiments_table)\n",
    "        create_table(conn, sql_create_videofeatures_table)\n",
    "        create_table(conn, sql_create_audiofeatures_table)\n",
    "        create_table(conn, sql_create_facslabels_table)\n",
    "        create_table(conn, sql_create_facsencoding_table)\n",
    "    else:\n",
    "        print(\"Error! cannot create the database connection.\")"
   ]
  },
  {
   "cell_type": "code",
   "execution_count": 204,
   "metadata": {},
   "outputs": [],
   "source": [
    "\n",
    "if __name__ == '__main__':\n",
    "    main()"
   ]
  },
  {
   "cell_type": "code",
   "execution_count": 205,
   "metadata": {},
   "outputs": [],
   "source": [
    "# Now on command line: sqlite3 pathtomydatabase.db\n",
    "# should give access to database\n",
    "# and .tables should show overview of the tables as created"
   ]
  },
  {
   "cell_type": "code",
   "execution_count": 206,
   "metadata": {},
   "outputs": [],
   "source": [
    "#https://www.dataquest.io/blog/python-pandas-databases/\n",
    "database = \"/media/sf_sharedfolder/Emotion/emrecdemstudydata/emrecdemdb.db\""
   ]
  },
  {
   "cell_type": "code",
   "execution_count": 207,
   "metadata": {},
   "outputs": [],
   "source": [
    "conn = create_connection(database) # create connection\n",
    "cur = conn.cursor() # create cursor"
   ]
  },
  {
   "cell_type": "markdown",
   "metadata": {},
   "source": [
    "### Add Audio features to database"
   ]
  },
  {
   "cell_type": "code",
   "execution_count": 208,
   "metadata": {},
   "outputs": [],
   "source": [
    "# delete contents of table for testing purposes, later we obviously do not want to do this\n",
    "if (deleteDataBaseEntries == True):\n",
    "    deleterows = cur.execute(\"DELETE FROM audiofeatures;\").fetchall()"
   ]
  },
  {
   "cell_type": "code",
   "execution_count": 209,
   "metadata": {},
   "outputs": [],
   "source": [
    "results = cur.execute(\"select * from audiofeatures limit 5;\").fetchall()\n",
    "rowcount = cur.execute(\"select count(*) from audiofeatures;\").fetchall()\n",
    "colnames = cur.execute(\"PRAGMA table_info(audiofeatures);\").fetchall()"
   ]
  },
  {
   "cell_type": "code",
   "execution_count": 210,
   "metadata": {},
   "outputs": [
    {
     "name": "stdout",
     "output_type": "stream",
     "text": [
      "Top 5 rows of audiofeatures table:\n",
      "[(1, 18, 'S2IAPSHAPPY', '1970-01-01 00:00:00', 271.2116057159737, 0.008785701356828213, 0.1180952380952381), (2, 18, 'S2IAPSHAPPY', '1970-01-01 00:00:00.200000', 260.67761899075373, 0.008010043762624264, 0.1419047619047619), (3, 18, 'S2IAPSHAPPY', '1970-01-01 00:00:00.400000', 239.59336760187193, 0.0033461761195212603, 0.18642857142857144), (4, 18, 'S2IAPSHAPPY', '1970-01-01 00:00:00.600000', 205.65226665554346, 0.010653898119926453, 0.17619047619047618), (5, 18, 'S2IAPSHAPPY', '1970-01-01 00:00:00.800000', 349.66176893618893, 0.02047872543334961, 0.15357142857142855)]\n",
      "\n",
      "Row count:\n",
      "4507\n"
     ]
    }
   ],
   "source": [
    "print(\"Top 5 rows of audiofeatures table:\")\n",
    "print(results)\n",
    "print(\"\\nRow count:\")\n",
    "print(rowcount[0][0])"
   ]
  },
  {
   "cell_type": "code",
   "execution_count": 211,
   "metadata": {},
   "outputs": [
    {
     "name": "stdout",
     "output_type": "stream",
     "text": [
      "\n",
      "Column names:\n",
      "[(0, 'id', 'integer', 0, None, 1), (1, 'participant_id', 'integer', 1, None, 0), (2, 'experiment_id', 'text', 1, None, 0), (3, 'time', 'text', 0, None, 0), (4, 'pitch', 'real', 0, None, 0), (5, 'rmse', 'real', 0, None, 0), (6, 'zcrate', 'real', 0, None, 0)]\n"
     ]
    }
   ],
   "source": [
    "print(\"\\nColumn names:\")\n",
    "print(colnames)"
   ]
  },
  {
   "cell_type": "code",
   "execution_count": 212,
   "metadata": {},
   "outputs": [],
   "source": [
    "# move time_series pandas data frame to the database\n",
    "time_series.to_sql(\"audiofeatures\", conn, index= False, if_exists=\"append\") #\"replace\""
   ]
  },
  {
   "cell_type": "code",
   "execution_count": 213,
   "metadata": {},
   "outputs": [],
   "source": [
    "results = cur.execute(\"select * from audiofeatures limit 5;\").fetchall()\n",
    "rowcount = cur.execute(\"select count(*) from audiofeatures;\").fetchall()\n",
    "colnames = cur.execute(\"PRAGMA table_info(audiofeatures);\").fetchall()"
   ]
  },
  {
   "cell_type": "code",
   "execution_count": 214,
   "metadata": {},
   "outputs": [
    {
     "name": "stdout",
     "output_type": "stream",
     "text": [
      "Top 5 rows of audiofeatures table:\n",
      "[(1, 18, 'S2IAPSHAPPY', '1970-01-01 00:00:00', 271.2116057159737, 0.008785701356828213, 0.1180952380952381), (2, 18, 'S2IAPSHAPPY', '1970-01-01 00:00:00.200000', 260.67761899075373, 0.008010043762624264, 0.1419047619047619), (3, 18, 'S2IAPSHAPPY', '1970-01-01 00:00:00.400000', 239.59336760187193, 0.0033461761195212603, 0.18642857142857144), (4, 18, 'S2IAPSHAPPY', '1970-01-01 00:00:00.600000', 205.65226665554346, 0.010653898119926453, 0.17619047619047618), (5, 18, 'S2IAPSHAPPY', '1970-01-01 00:00:00.800000', 349.66176893618893, 0.02047872543334961, 0.15357142857142855)]\n",
      "\n",
      "Row count:\n",
      "5330\n",
      "\n",
      "Dimensions of pandas dataframe:\n",
      "(823, 6)\n",
      "\n",
      "Column names:\n",
      "[(0, 'id', 'integer', 0, None, 1), (1, 'participant_id', 'integer', 1, None, 0), (2, 'experiment_id', 'text', 1, None, 0), (3, 'time', 'text', 0, None, 0), (4, 'pitch', 'real', 0, None, 0), (5, 'rmse', 'real', 0, None, 0), (6, 'zcrate', 'real', 0, None, 0)]\n"
     ]
    }
   ],
   "source": [
    "print(\"Top 5 rows of audiofeatures table:\")\n",
    "print(results)\n",
    "print(\"\\nRow count:\")\n",
    "print(rowcount[0][0])\n",
    "print(\"\\nDimensions of pandas dataframe:\")\n",
    "print(time_series.shape)\n",
    "print(\"\\nColumn names:\")\n",
    "print(colnames)"
   ]
  },
  {
   "cell_type": "markdown",
   "metadata": {},
   "source": [
    "### Add video data to database"
   ]
  },
  {
   "cell_type": "code",
   "execution_count": 215,
   "metadata": {},
   "outputs": [],
   "source": [
    "# delete contents of table for testing purposes, later we obviously do not want to do this\n",
    "if (deleteDataBaseEntries == True):\n",
    "    deleterows = cur.execute(\"DELETE FROM videofeatures;\").fetchall()"
   ]
  },
  {
   "cell_type": "code",
   "execution_count": 216,
   "metadata": {},
   "outputs": [],
   "source": [
    "results = cur.execute(\"select * from videofeatures limit 5;\").fetchall()\n",
    "rowcount = cur.execute(\"select count(*) from videofeatures;\").fetchall()\n",
    "colnames = cur.execute(\"PRAGMA table_info(videofeatures);\").fetchall()"
   ]
  },
  {
   "cell_type": "code",
   "execution_count": 217,
   "metadata": {},
   "outputs": [
    {
     "name": "stdout",
     "output_type": "stream",
     "text": [
      "Top 5 rows of videofeatures table:\n",
      "[(1, 18, 'S2IAPSHAPPY', '1970-01-01 00:00:00', 0.0, 0.0, 0.986, 0.0, 0.606, 0.016, 0.02, 0.916, 0.6340000000000001, 1.1380000000000001, 0.44400000000000006, 1.054, 0.516, 0.8, 0.9039999999999999, 2.7339999999999995, 0.22599999999999998, 0.0, 0.0, 0.0, 0.4, 0.0, 0.0, 0.6, 0.6, 0.0, 0.6, 1.0, 1.0, 1.0, 0.8, 1.0, 0.4, 0.0, 0.0), (2, 18, 'S2IAPSHAPPY', '1970-01-01 00:00:00.200000', 0.0, 0.0, 1.07, 0.0, 0.568, 0.11400000000000002, 0.028000000000000004, 1.346, 0.642, 1.5260000000000002, 0.37399999999999994, 1.206, 0.442, 0.8480000000000001, 0.30199999999999994, 2.8240000000000003, 0.21799999999999997, 0.0, 0.0, 0.0, 0.4, 0.0, 0.0, 0.6, 1.0, 0.0, 1.0, 1.0, 1.0, 1.0, 1.0, 0.6, 0.0, 0.0, 0.0), (3, 18, 'S2IAPSHAPPY', '1970-01-01 00:00:00.400000', 0.0, 0.0, 1.278, 0.0, 0.246, 0.0, 0.0, 1.214, 0.45, 1.5699999999999998, 0.384, 1.658, 0.41600000000000004, 1.766, 0.008, 2.02, 0.0, 0.0, 0.0, 0.0, 1.0, 0.0, 0.0, 0.0, 1.0, 0.0, 1.0, 1.0, 1.0, 1.0, 1.0, 0.0, 0.0, 0.0, 0.0), (4, 18, 'S2IAPSHAPPY', '1970-01-01 00:00:00.600000', 0.0, 0.0, 1.1320000000000001, 0.0, 0.604, 0.20400000000000001, 0.0, 1.3379999999999999, 0.768, 1.8519999999999999, 0.8460000000000001, 1.8379999999999999, 0.646, 1.386, 0.0, 1.388, 0.20400000000000001, 0.0, 0.0, 0.0, 0.0, 0.0, 0.0, 0.0, 1.0, 0.0, 1.0, 1.0, 1.0, 1.0, 1.0, 0.0, 0.0, 0.0, 0.8), (5, 18, 'S2IAPSHAPPY', '1970-01-01 00:00:00.800000', 0.0, 0.0, 1.3359999999999999, 0.0, 0.07400000000000001, 0.10200000000000001, 0.0, 0.8540000000000001, 0.506, 1.706, 0.86, 1.998, 0.5999999999999999, 1.6560000000000001, 0.0, 1.092, 0.0, 0.0, 0.0, 0.0, 0.8, 0.0, 0.0, 0.0, 1.0, 0.0, 1.0, 1.0, 1.0, 1.0, 1.0, 0.0, 0.0, 0.0, 0.0)]\n",
      "\n",
      "Row count:\n",
      "3737\n",
      "\n",
      "Column names:\n",
      "[(0, 'id', 'integer', 0, None, 1), (1, 'participant_id', 'integer', 1, None, 0), (2, 'experiment_id', 'text', 1, None, 0), (3, 'time', 'text', 0, None, 0), (4, 'AU01r', 'real', 0, None, 0), (5, 'AU02r', 'real', 0, None, 0), (6, 'AU04r', 'real', 0, None, 0), (7, 'AU05r', 'real', 0, None, 0), (8, 'AU06r', 'real', 0, None, 0), (9, 'AU07r', 'real', 0, None, 0), (10, 'AU09r', 'real', 0, None, 0), (11, 'AU10r', 'real', 0, None, 0), (12, 'AU12r', 'real', 0, None, 0), (13, 'AU14r', 'real', 0, None, 0), (14, 'AU15r', 'real', 0, None, 0), (15, 'AU17r', 'real', 0, None, 0), (16, 'AU20r', 'real', 0, None, 0), (17, 'AU23r', 'real', 0, None, 0), (18, 'AU25r', 'real', 0, None, 0), (19, 'AU26r', 'real', 0, None, 0), (20, 'AU45r', 'real', 0, None, 0), (21, 'AU01c', 'real', 0, None, 0), (22, 'AU02c', 'real', 0, None, 0), (23, 'AU04c', 'real', 0, None, 0), (24, 'AU05c', 'real', 0, None, 0), (25, 'AU06c', 'real', 0, None, 0), (26, 'AU07c', 'real', 0, None, 0), (27, 'AU09c', 'real', 0, None, 0), (28, 'AU10c', 'real', 0, None, 0), (29, 'AU12c', 'real', 0, None, 0), (30, 'AU14c', 'real', 0, None, 0), (31, 'AU15c', 'real', 0, None, 0), (32, 'AU17c', 'real', 0, None, 0), (33, 'AU20c', 'real', 0, None, 0), (34, 'AU23c', 'real', 0, None, 0), (35, 'AU25c', 'real', 0, None, 0), (36, 'AU26c', 'real', 0, None, 0), (37, 'AU28c', 'real', 0, None, 0), (38, 'AU45c', 'real', 0, None, 0)]\n"
     ]
    }
   ],
   "source": [
    "print(\"Top 5 rows of videofeatures table:\")\n",
    "print(results)\n",
    "print(\"\\nRow count:\")\n",
    "print(rowcount[0][0])\n",
    "print(\"\\nColumn names:\")\n",
    "print(colnames)"
   ]
  },
  {
   "cell_type": "code",
   "execution_count": 218,
   "metadata": {},
   "outputs": [
    {
     "data": {
      "text/html": [
       "<div>\n",
       "<style scoped>\n",
       "    .dataframe tbody tr th:only-of-type {\n",
       "        vertical-align: middle;\n",
       "    }\n",
       "\n",
       "    .dataframe tbody tr th {\n",
       "        vertical-align: top;\n",
       "    }\n",
       "\n",
       "    .dataframe thead th {\n",
       "        text-align: right;\n",
       "    }\n",
       "</style>\n",
       "<table border=\"1\" class=\"dataframe\">\n",
       "  <thead>\n",
       "    <tr style=\"text-align: right;\">\n",
       "      <th></th>\n",
       "      <th>experiment_id</th>\n",
       "      <th>participant_id</th>\n",
       "      <th>time</th>\n",
       "      <th>AU01r</th>\n",
       "      <th>AU02r</th>\n",
       "      <th>AU04r</th>\n",
       "      <th>AU05r</th>\n",
       "      <th>AU06r</th>\n",
       "      <th>AU07r</th>\n",
       "      <th>AU09r</th>\n",
       "      <th>...</th>\n",
       "      <th>AU12c</th>\n",
       "      <th>AU14c</th>\n",
       "      <th>AU15c</th>\n",
       "      <th>AU17c</th>\n",
       "      <th>AU20c</th>\n",
       "      <th>AU23c</th>\n",
       "      <th>AU25c</th>\n",
       "      <th>AU26c</th>\n",
       "      <th>AU28c</th>\n",
       "      <th>AU45c</th>\n",
       "    </tr>\n",
       "  </thead>\n",
       "  <tbody>\n",
       "    <tr>\n",
       "      <th>0</th>\n",
       "      <td>S2IAPSSAD</td>\n",
       "      <td>21</td>\n",
       "      <td>1970-01-01 00:00:00.000</td>\n",
       "      <td>0.0</td>\n",
       "      <td>0.0</td>\n",
       "      <td>1.698</td>\n",
       "      <td>0.0</td>\n",
       "      <td>1.156</td>\n",
       "      <td>1.526</td>\n",
       "      <td>0.310</td>\n",
       "      <td>...</td>\n",
       "      <td>0.0</td>\n",
       "      <td>0.0</td>\n",
       "      <td>0.0</td>\n",
       "      <td>0.0</td>\n",
       "      <td>0.0</td>\n",
       "      <td>0.0</td>\n",
       "      <td>1.0</td>\n",
       "      <td>0.0</td>\n",
       "      <td>0.0</td>\n",
       "      <td>0.0</td>\n",
       "    </tr>\n",
       "    <tr>\n",
       "      <th>1</th>\n",
       "      <td>S2IAPSSAD</td>\n",
       "      <td>21</td>\n",
       "      <td>1970-01-01 00:00:00.200</td>\n",
       "      <td>0.0</td>\n",
       "      <td>0.0</td>\n",
       "      <td>1.820</td>\n",
       "      <td>0.0</td>\n",
       "      <td>1.212</td>\n",
       "      <td>1.714</td>\n",
       "      <td>0.218</td>\n",
       "      <td>...</td>\n",
       "      <td>0.0</td>\n",
       "      <td>0.0</td>\n",
       "      <td>0.0</td>\n",
       "      <td>0.0</td>\n",
       "      <td>0.0</td>\n",
       "      <td>0.0</td>\n",
       "      <td>1.0</td>\n",
       "      <td>0.0</td>\n",
       "      <td>0.0</td>\n",
       "      <td>0.0</td>\n",
       "    </tr>\n",
       "    <tr>\n",
       "      <th>2</th>\n",
       "      <td>S2IAPSSAD</td>\n",
       "      <td>21</td>\n",
       "      <td>1970-01-01 00:00:00.400</td>\n",
       "      <td>0.0</td>\n",
       "      <td>0.0</td>\n",
       "      <td>1.668</td>\n",
       "      <td>0.0</td>\n",
       "      <td>1.340</td>\n",
       "      <td>1.980</td>\n",
       "      <td>0.218</td>\n",
       "      <td>...</td>\n",
       "      <td>0.0</td>\n",
       "      <td>0.0</td>\n",
       "      <td>0.0</td>\n",
       "      <td>0.0</td>\n",
       "      <td>0.0</td>\n",
       "      <td>0.0</td>\n",
       "      <td>0.8</td>\n",
       "      <td>0.0</td>\n",
       "      <td>0.0</td>\n",
       "      <td>0.6</td>\n",
       "    </tr>\n",
       "    <tr>\n",
       "      <th>3</th>\n",
       "      <td>S2IAPSSAD</td>\n",
       "      <td>21</td>\n",
       "      <td>1970-01-01 00:00:00.600</td>\n",
       "      <td>0.0</td>\n",
       "      <td>0.0</td>\n",
       "      <td>1.748</td>\n",
       "      <td>0.0</td>\n",
       "      <td>1.288</td>\n",
       "      <td>2.158</td>\n",
       "      <td>0.192</td>\n",
       "      <td>...</td>\n",
       "      <td>0.0</td>\n",
       "      <td>0.0</td>\n",
       "      <td>0.0</td>\n",
       "      <td>0.0</td>\n",
       "      <td>0.0</td>\n",
       "      <td>0.0</td>\n",
       "      <td>0.0</td>\n",
       "      <td>0.0</td>\n",
       "      <td>0.0</td>\n",
       "      <td>0.2</td>\n",
       "    </tr>\n",
       "    <tr>\n",
       "      <th>4</th>\n",
       "      <td>S2IAPSSAD</td>\n",
       "      <td>21</td>\n",
       "      <td>1970-01-01 00:00:00.800</td>\n",
       "      <td>0.0</td>\n",
       "      <td>0.0</td>\n",
       "      <td>1.840</td>\n",
       "      <td>0.0</td>\n",
       "      <td>1.140</td>\n",
       "      <td>1.860</td>\n",
       "      <td>0.102</td>\n",
       "      <td>...</td>\n",
       "      <td>0.0</td>\n",
       "      <td>0.0</td>\n",
       "      <td>0.0</td>\n",
       "      <td>0.0</td>\n",
       "      <td>0.0</td>\n",
       "      <td>0.0</td>\n",
       "      <td>0.0</td>\n",
       "      <td>0.0</td>\n",
       "      <td>0.0</td>\n",
       "      <td>0.0</td>\n",
       "    </tr>\n",
       "  </tbody>\n",
       "</table>\n",
       "<p>5 rows × 38 columns</p>\n",
       "</div>"
      ],
      "text/plain": [
       "  experiment_id participant_id                    time  AU01r  AU02r  AU04r  \\\n",
       "0     S2IAPSSAD             21 1970-01-01 00:00:00.000    0.0    0.0  1.698   \n",
       "1     S2IAPSSAD             21 1970-01-01 00:00:00.200    0.0    0.0  1.820   \n",
       "2     S2IAPSSAD             21 1970-01-01 00:00:00.400    0.0    0.0  1.668   \n",
       "3     S2IAPSSAD             21 1970-01-01 00:00:00.600    0.0    0.0  1.748   \n",
       "4     S2IAPSSAD             21 1970-01-01 00:00:00.800    0.0    0.0  1.840   \n",
       "\n",
       "   AU05r  AU06r  AU07r  AU09r  ...    AU12c  AU14c  AU15c  AU17c  AU20c  \\\n",
       "0    0.0  1.156  1.526  0.310  ...      0.0    0.0    0.0    0.0    0.0   \n",
       "1    0.0  1.212  1.714  0.218  ...      0.0    0.0    0.0    0.0    0.0   \n",
       "2    0.0  1.340  1.980  0.218  ...      0.0    0.0    0.0    0.0    0.0   \n",
       "3    0.0  1.288  2.158  0.192  ...      0.0    0.0    0.0    0.0    0.0   \n",
       "4    0.0  1.140  1.860  0.102  ...      0.0    0.0    0.0    0.0    0.0   \n",
       "\n",
       "   AU23c  AU25c  AU26c  AU28c  AU45c  \n",
       "0    0.0    1.0    0.0    0.0    0.0  \n",
       "1    0.0    1.0    0.0    0.0    0.0  \n",
       "2    0.0    0.8    0.0    0.0    0.6  \n",
       "3    0.0    0.0    0.0    0.0    0.2  \n",
       "4    0.0    0.0    0.0    0.0    0.0  \n",
       "\n",
       "[5 rows x 38 columns]"
      ]
     },
     "execution_count": 218,
     "metadata": {},
     "output_type": "execute_result"
    }
   ],
   "source": [
    "openface_features.head()"
   ]
  },
  {
   "cell_type": "code",
   "execution_count": 219,
   "metadata": {},
   "outputs": [],
   "source": [
    "# move time_series pandas data frame to the database\n",
    "openface_features.to_sql(\"videofeatures\", conn, index=False,if_exists=\"append\") #\"replace\""
   ]
  },
  {
   "cell_type": "code",
   "execution_count": 220,
   "metadata": {},
   "outputs": [],
   "source": [
    "results = cur.execute(\"select * from videofeatures limit 5;\").fetchall()\n",
    "rowcount = cur.execute(\"select count(*) from videofeatures;\").fetchall()"
   ]
  },
  {
   "cell_type": "code",
   "execution_count": 221,
   "metadata": {},
   "outputs": [
    {
     "name": "stdout",
     "output_type": "stream",
     "text": [
      "Top 5 rows of videofeatures table:\n",
      "[(1, 18, 'S2IAPSHAPPY', '1970-01-01 00:00:00', 0.0, 0.0, 0.986, 0.0, 0.606, 0.016, 0.02, 0.916, 0.6340000000000001, 1.1380000000000001, 0.44400000000000006, 1.054, 0.516, 0.8, 0.9039999999999999, 2.7339999999999995, 0.22599999999999998, 0.0, 0.0, 0.0, 0.4, 0.0, 0.0, 0.6, 0.6, 0.0, 0.6, 1.0, 1.0, 1.0, 0.8, 1.0, 0.4, 0.0, 0.0), (2, 18, 'S2IAPSHAPPY', '1970-01-01 00:00:00.200000', 0.0, 0.0, 1.07, 0.0, 0.568, 0.11400000000000002, 0.028000000000000004, 1.346, 0.642, 1.5260000000000002, 0.37399999999999994, 1.206, 0.442, 0.8480000000000001, 0.30199999999999994, 2.8240000000000003, 0.21799999999999997, 0.0, 0.0, 0.0, 0.4, 0.0, 0.0, 0.6, 1.0, 0.0, 1.0, 1.0, 1.0, 1.0, 1.0, 0.6, 0.0, 0.0, 0.0), (3, 18, 'S2IAPSHAPPY', '1970-01-01 00:00:00.400000', 0.0, 0.0, 1.278, 0.0, 0.246, 0.0, 0.0, 1.214, 0.45, 1.5699999999999998, 0.384, 1.658, 0.41600000000000004, 1.766, 0.008, 2.02, 0.0, 0.0, 0.0, 0.0, 1.0, 0.0, 0.0, 0.0, 1.0, 0.0, 1.0, 1.0, 1.0, 1.0, 1.0, 0.0, 0.0, 0.0, 0.0), (4, 18, 'S2IAPSHAPPY', '1970-01-01 00:00:00.600000', 0.0, 0.0, 1.1320000000000001, 0.0, 0.604, 0.20400000000000001, 0.0, 1.3379999999999999, 0.768, 1.8519999999999999, 0.8460000000000001, 1.8379999999999999, 0.646, 1.386, 0.0, 1.388, 0.20400000000000001, 0.0, 0.0, 0.0, 0.0, 0.0, 0.0, 0.0, 1.0, 0.0, 1.0, 1.0, 1.0, 1.0, 1.0, 0.0, 0.0, 0.0, 0.8), (5, 18, 'S2IAPSHAPPY', '1970-01-01 00:00:00.800000', 0.0, 0.0, 1.3359999999999999, 0.0, 0.07400000000000001, 0.10200000000000001, 0.0, 0.8540000000000001, 0.506, 1.706, 0.86, 1.998, 0.5999999999999999, 1.6560000000000001, 0.0, 1.092, 0.0, 0.0, 0.0, 0.0, 0.8, 0.0, 0.0, 0.0, 1.0, 0.0, 1.0, 1.0, 1.0, 1.0, 1.0, 0.0, 0.0, 0.0, 0.0)]\n",
      "\n",
      "Row count:\n",
      "4560\n",
      "\n",
      "Dimensions of pandas dataframe:\n",
      "(823, 6)\n"
     ]
    }
   ],
   "source": [
    "print(\"Top 5 rows of videofeatures table:\")\n",
    "print(results)\n",
    "print(\"\\nRow count:\")\n",
    "print(rowcount[0][0])\n",
    "print(\"\\nDimensions of pandas dataframe:\")\n",
    "print(time_series.shape)"
   ]
  },
  {
   "cell_type": "code",
   "execution_count": 222,
   "metadata": {},
   "outputs": [],
   "source": [
    "cur.close()\n",
    "conn.close()"
   ]
  },
  {
   "cell_type": "code",
   "execution_count": null,
   "metadata": {},
   "outputs": [],
   "source": []
  },
  {
   "cell_type": "code",
   "execution_count": null,
   "metadata": {},
   "outputs": [],
   "source": []
  },
  {
   "cell_type": "code",
   "execution_count": null,
   "metadata": {},
   "outputs": [],
   "source": []
  },
  {
   "cell_type": "code",
   "execution_count": null,
   "metadata": {},
   "outputs": [],
   "source": []
  },
  {
   "cell_type": "code",
   "execution_count": null,
   "metadata": {},
   "outputs": [],
   "source": []
  },
  {
   "cell_type": "code",
   "execution_count": null,
   "metadata": {},
   "outputs": [],
   "source": []
  },
  {
   "cell_type": "code",
   "execution_count": null,
   "metadata": {},
   "outputs": [],
   "source": []
  },
  {
   "cell_type": "code",
   "execution_count": null,
   "metadata": {},
   "outputs": [],
   "source": []
  }
 ],
 "metadata": {
  "kernelspec": {
   "display_name": "Python 3",
   "language": "python",
   "name": "python3"
  },
  "language_info": {
   "codemirror_mode": {
    "name": "ipython",
    "version": 3
   },
   "file_extension": ".py",
   "mimetype": "text/x-python",
   "name": "python",
   "nbconvert_exporter": "python",
   "pygments_lexer": "ipython3",
   "version": "3.7.1"
  }
 },
 "nbformat": 4,
 "nbformat_minor": 2
}
