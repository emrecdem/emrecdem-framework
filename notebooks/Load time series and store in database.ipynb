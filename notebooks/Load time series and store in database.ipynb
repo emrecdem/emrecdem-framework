{
 "cells": [
  {
   "cell_type": "code",
   "execution_count": 1,
   "metadata": {},
   "outputs": [],
   "source": [
    "# general functions:\n",
    "def downsample(time_series,res = '0.2S'):\n",
    "    # downsamples time_series pandas data frame \n",
    "    # time_series: a pandas data.frame for which there is a column 'timestamps' with numeric timestamps\n",
    "    # res: desired resolution in time after downsampling\n",
    "    Nvalues = len(time_series.index)\n",
    "    samplerate = 1/ ((time_series.timestamp[Nvalues-1] - time_series.timestamp[0]) / Nvalues)\n",
    "    timestart = dt.datetime(1970, 1, 1, 0, 0, 0, 0) #dt.datetime.now()\n",
    "    start = pd.Timestamp(timestart)\n",
    "    end = pd.Timestamp(timestart + dt.timedelta(seconds=Nvalues/samplerate))\n",
    "    t = np.linspace(start.value, end.value, Nvalues)\n",
    "    t = pd.to_datetime(t)\n",
    "    time_series['time'] = t\n",
    "    time_series = time_series.resample(res,on='time').mean() # downsample to 0.2 second intervals\n",
    "    time_series.index.name = 'time'\n",
    "    time_series.reset_index(inplace=True)\n",
    "    return time_series"
   ]
  },
  {
   "cell_type": "markdown",
   "metadata": {},
   "source": [
    "# Merge features from various modalities into single database\n",
    "\n",
    "## 1. Load feature data from Video"
   ]
  },
  {
   "cell_type": "markdown",
   "metadata": {},
   "source": [
    "Load OpenFace output data and load features in pandas dataframe: So far copied from: https://github.com/emrecdem/exploface/blob/master/TUTORIALS/tutorial1.ipynb"
   ]
  },
  {
   "cell_type": "code",
   "execution_count": 87,
   "metadata": {},
   "outputs": [],
   "source": [
    "import pandas as pd\n",
    "import matplotlib.pyplot as plt\n",
    "import exploface\n",
    "import datetime as dt\n",
    "import numpy as np"
   ]
  },
  {
   "cell_type": "code",
   "execution_count": 88,
   "metadata": {},
   "outputs": [
    {
     "data": {
      "text/plain": [
       "'0.0.0.dev6'"
      ]
     },
     "execution_count": 88,
     "metadata": {},
     "output_type": "execute_result"
    }
   ],
   "source": [
    "exploface.__version__"
   ]
  },
  {
   "cell_type": "code",
   "execution_count": 89,
   "metadata": {},
   "outputs": [],
   "source": [
    "# specify some paths\n",
    "emrecdemStudyDataFolder = \"/media/sf_sharedfolder/Emotion/emrecdemstudydata\"\n",
    "openface_outputfolder = emrecdemStudyDataFolder + \"/OpenFaceOutput\""
   ]
  },
  {
   "cell_type": "code",
   "execution_count": 90,
   "metadata": {},
   "outputs": [],
   "source": [
    "# Search for files with csv extension, because we are only interested in those\n",
    "# This assumes that there are no other csv files in folder other than the ones produced by OpenFace.\n",
    "from os import listdir\n",
    "\n",
    "def find_csv_filenames( path_to_dir, suffix=\".csv\" ):\n",
    "    filenames = listdir(path_to_dir)\n",
    "    return [ filename for filename in filenames if filename.endswith( suffix ) ]\n",
    "\n",
    "filenames = find_csv_filenames(openface_outputfolder)"
   ]
  },
  {
   "cell_type": "code",
   "execution_count": 91,
   "metadata": {},
   "outputs": [
    {
     "data": {
      "text/plain": [
       "['P18_S2_IAPS_HAPPY_Cfront.csv',\n",
       " 'P18_S2_IAPS_SAD_Cfront.csv',\n",
       " 'P21_S2_IAPS_HAPPY_C1.csv',\n",
       " 'P21_S2_IAPS_SAD_C1.csv']"
      ]
     },
     "execution_count": 91,
     "metadata": {},
     "output_type": "execute_result"
    }
   ],
   "source": [
    "filenames"
   ]
  },
  {
   "cell_type": "code",
   "execution_count": 92,
   "metadata": {},
   "outputs": [],
   "source": [
    "# select one file to process (in the future this can be a loop over all the files)\n",
    "openface_file = openface_outputfolder + '/' + filenames[0]\n",
    "openface_features = exploface.get_feature_time_series(openface_file)"
   ]
  },
  {
   "cell_type": "code",
   "execution_count": 93,
   "metadata": {},
   "outputs": [
    {
     "data": {
      "text/html": [
       "<div>\n",
       "<style scoped>\n",
       "    .dataframe tbody tr th:only-of-type {\n",
       "        vertical-align: middle;\n",
       "    }\n",
       "\n",
       "    .dataframe tbody tr th {\n",
       "        vertical-align: top;\n",
       "    }\n",
       "\n",
       "    .dataframe thead th {\n",
       "        text-align: right;\n",
       "    }\n",
       "</style>\n",
       "<table border=\"1\" class=\"dataframe\">\n",
       "  <thead>\n",
       "    <tr style=\"text-align: right;\">\n",
       "      <th></th>\n",
       "      <th>frame</th>\n",
       "      <th>face_id</th>\n",
       "      <th>timestamp</th>\n",
       "      <th>confidence</th>\n",
       "      <th>success</th>\n",
       "      <th>gaze_0_x</th>\n",
       "      <th>gaze_0_y</th>\n",
       "      <th>gaze_0_z</th>\n",
       "      <th>gaze_1_x</th>\n",
       "      <th>gaze_1_y</th>\n",
       "      <th>...</th>\n",
       "      <th>AU12_c</th>\n",
       "      <th>AU14_c</th>\n",
       "      <th>AU15_c</th>\n",
       "      <th>AU17_c</th>\n",
       "      <th>AU20_c</th>\n",
       "      <th>AU23_c</th>\n",
       "      <th>AU25_c</th>\n",
       "      <th>AU26_c</th>\n",
       "      <th>AU28_c</th>\n",
       "      <th>AU45_c</th>\n",
       "    </tr>\n",
       "  </thead>\n",
       "  <tbody>\n",
       "    <tr>\n",
       "      <th>0</th>\n",
       "      <td>1</td>\n",
       "      <td>0</td>\n",
       "      <td>0.00</td>\n",
       "      <td>0.98</td>\n",
       "      <td>1</td>\n",
       "      <td>0.028242</td>\n",
       "      <td>0.015028</td>\n",
       "      <td>-0.999488</td>\n",
       "      <td>0.045799</td>\n",
       "      <td>-0.019971</td>\n",
       "      <td>...</td>\n",
       "      <td>0.0</td>\n",
       "      <td>0.0</td>\n",
       "      <td>1.0</td>\n",
       "      <td>1.0</td>\n",
       "      <td>1.0</td>\n",
       "      <td>1.0</td>\n",
       "      <td>1.0</td>\n",
       "      <td>0.0</td>\n",
       "      <td>0.0</td>\n",
       "      <td>0.0</td>\n",
       "    </tr>\n",
       "    <tr>\n",
       "      <th>1</th>\n",
       "      <td>2</td>\n",
       "      <td>0</td>\n",
       "      <td>0.04</td>\n",
       "      <td>0.98</td>\n",
       "      <td>1</td>\n",
       "      <td>0.012176</td>\n",
       "      <td>-0.017202</td>\n",
       "      <td>-0.999778</td>\n",
       "      <td>0.035786</td>\n",
       "      <td>-0.044246</td>\n",
       "      <td>...</td>\n",
       "      <td>0.0</td>\n",
       "      <td>0.0</td>\n",
       "      <td>1.0</td>\n",
       "      <td>1.0</td>\n",
       "      <td>1.0</td>\n",
       "      <td>1.0</td>\n",
       "      <td>1.0</td>\n",
       "      <td>1.0</td>\n",
       "      <td>0.0</td>\n",
       "      <td>0.0</td>\n",
       "    </tr>\n",
       "    <tr>\n",
       "      <th>2</th>\n",
       "      <td>3</td>\n",
       "      <td>0</td>\n",
       "      <td>0.08</td>\n",
       "      <td>0.98</td>\n",
       "      <td>1</td>\n",
       "      <td>0.003201</td>\n",
       "      <td>0.007913</td>\n",
       "      <td>-0.999964</td>\n",
       "      <td>0.030401</td>\n",
       "      <td>-0.016860</td>\n",
       "      <td>...</td>\n",
       "      <td>0.0</td>\n",
       "      <td>1.0</td>\n",
       "      <td>1.0</td>\n",
       "      <td>1.0</td>\n",
       "      <td>1.0</td>\n",
       "      <td>0.0</td>\n",
       "      <td>1.0</td>\n",
       "      <td>1.0</td>\n",
       "      <td>0.0</td>\n",
       "      <td>0.0</td>\n",
       "    </tr>\n",
       "    <tr>\n",
       "      <th>3</th>\n",
       "      <td>4</td>\n",
       "      <td>0</td>\n",
       "      <td>0.12</td>\n",
       "      <td>0.98</td>\n",
       "      <td>1</td>\n",
       "      <td>0.011002</td>\n",
       "      <td>0.017785</td>\n",
       "      <td>-0.999781</td>\n",
       "      <td>-0.066090</td>\n",
       "      <td>-0.075202</td>\n",
       "      <td>...</td>\n",
       "      <td>0.0</td>\n",
       "      <td>1.0</td>\n",
       "      <td>1.0</td>\n",
       "      <td>1.0</td>\n",
       "      <td>1.0</td>\n",
       "      <td>1.0</td>\n",
       "      <td>1.0</td>\n",
       "      <td>0.0</td>\n",
       "      <td>0.0</td>\n",
       "      <td>0.0</td>\n",
       "    </tr>\n",
       "    <tr>\n",
       "      <th>4</th>\n",
       "      <td>5</td>\n",
       "      <td>0</td>\n",
       "      <td>0.16</td>\n",
       "      <td>0.98</td>\n",
       "      <td>1</td>\n",
       "      <td>0.060468</td>\n",
       "      <td>0.055646</td>\n",
       "      <td>-0.996618</td>\n",
       "      <td>-0.093641</td>\n",
       "      <td>0.164191</td>\n",
       "      <td>...</td>\n",
       "      <td>0.0</td>\n",
       "      <td>1.0</td>\n",
       "      <td>1.0</td>\n",
       "      <td>1.0</td>\n",
       "      <td>1.0</td>\n",
       "      <td>1.0</td>\n",
       "      <td>1.0</td>\n",
       "      <td>0.0</td>\n",
       "      <td>0.0</td>\n",
       "      <td>0.0</td>\n",
       "    </tr>\n",
       "  </tbody>\n",
       "</table>\n",
       "<p>5 rows × 714 columns</p>\n",
       "</div>"
      ],
      "text/plain": [
       "   frame  face_id  timestamp  confidence  success  gaze_0_x  gaze_0_y  \\\n",
       "0      1        0       0.00        0.98        1  0.028242  0.015028   \n",
       "1      2        0       0.04        0.98        1  0.012176 -0.017202   \n",
       "2      3        0       0.08        0.98        1  0.003201  0.007913   \n",
       "3      4        0       0.12        0.98        1  0.011002  0.017785   \n",
       "4      5        0       0.16        0.98        1  0.060468  0.055646   \n",
       "\n",
       "   gaze_0_z  gaze_1_x  gaze_1_y   ...    AU12_c  AU14_c  AU15_c  AU17_c  \\\n",
       "0 -0.999488  0.045799 -0.019971   ...       0.0     0.0     1.0     1.0   \n",
       "1 -0.999778  0.035786 -0.044246   ...       0.0     0.0     1.0     1.0   \n",
       "2 -0.999964  0.030401 -0.016860   ...       0.0     1.0     1.0     1.0   \n",
       "3 -0.999781 -0.066090 -0.075202   ...       0.0     1.0     1.0     1.0   \n",
       "4 -0.996618 -0.093641  0.164191   ...       0.0     1.0     1.0     1.0   \n",
       "\n",
       "   AU20_c  AU23_c  AU25_c  AU26_c  AU28_c  AU45_c  \n",
       "0     1.0     1.0     1.0     0.0     0.0     0.0  \n",
       "1     1.0     1.0     1.0     1.0     0.0     0.0  \n",
       "2     1.0     0.0     1.0     1.0     0.0     0.0  \n",
       "3     1.0     1.0     1.0     0.0     0.0     0.0  \n",
       "4     1.0     1.0     1.0     0.0     0.0     0.0  \n",
       "\n",
       "[5 rows x 714 columns]"
      ]
     },
     "execution_count": 93,
     "metadata": {},
     "output_type": "execute_result"
    }
   ],
   "source": [
    "openface_features.head(5)"
   ]
  },
  {
   "cell_type": "code",
   "execution_count": 94,
   "metadata": {},
   "outputs": [
    {
     "data": {
      "text/plain": [
       "(5036, 714)"
      ]
     },
     "execution_count": 94,
     "metadata": {},
     "output_type": "execute_result"
    }
   ],
   "source": [
    "openface_features.shape\n"
   ]
  },
  {
   "cell_type": "code",
   "execution_count": 95,
   "metadata": {},
   "outputs": [],
   "source": [
    "openface_features = downsample(openface_features,res = '0.2S')"
   ]
  },
  {
   "cell_type": "code",
   "execution_count": 96,
   "metadata": {},
   "outputs": [
    {
     "data": {
      "text/html": [
       "<div>\n",
       "<style scoped>\n",
       "    .dataframe tbody tr th:only-of-type {\n",
       "        vertical-align: middle;\n",
       "    }\n",
       "\n",
       "    .dataframe tbody tr th {\n",
       "        vertical-align: top;\n",
       "    }\n",
       "\n",
       "    .dataframe thead th {\n",
       "        text-align: right;\n",
       "    }\n",
       "</style>\n",
       "<table border=\"1\" class=\"dataframe\">\n",
       "  <thead>\n",
       "    <tr style=\"text-align: right;\">\n",
       "      <th></th>\n",
       "      <th>time</th>\n",
       "      <th>frame</th>\n",
       "      <th>face_id</th>\n",
       "      <th>timestamp</th>\n",
       "      <th>confidence</th>\n",
       "      <th>success</th>\n",
       "      <th>gaze_0_x</th>\n",
       "      <th>gaze_0_y</th>\n",
       "      <th>gaze_0_z</th>\n",
       "      <th>gaze_1_x</th>\n",
       "      <th>...</th>\n",
       "      <th>AU12_c</th>\n",
       "      <th>AU14_c</th>\n",
       "      <th>AU15_c</th>\n",
       "      <th>AU17_c</th>\n",
       "      <th>AU20_c</th>\n",
       "      <th>AU23_c</th>\n",
       "      <th>AU25_c</th>\n",
       "      <th>AU26_c</th>\n",
       "      <th>AU28_c</th>\n",
       "      <th>AU45_c</th>\n",
       "    </tr>\n",
       "  </thead>\n",
       "  <tbody>\n",
       "    <tr>\n",
       "      <th>0</th>\n",
       "      <td>1970-01-01 00:00:00.000</td>\n",
       "      <td>3.0</td>\n",
       "      <td>0.0</td>\n",
       "      <td>0.08</td>\n",
       "      <td>0.98</td>\n",
       "      <td>1.0</td>\n",
       "      <td>0.023018</td>\n",
       "      <td>0.015834</td>\n",
       "      <td>-0.999126</td>\n",
       "      <td>-0.009549</td>\n",
       "      <td>...</td>\n",
       "      <td>0.0</td>\n",
       "      <td>0.6</td>\n",
       "      <td>1.0</td>\n",
       "      <td>1.0</td>\n",
       "      <td>1.0</td>\n",
       "      <td>0.8</td>\n",
       "      <td>1.0</td>\n",
       "      <td>0.4</td>\n",
       "      <td>0.0</td>\n",
       "      <td>0.0</td>\n",
       "    </tr>\n",
       "    <tr>\n",
       "      <th>1</th>\n",
       "      <td>1970-01-01 00:00:00.200</td>\n",
       "      <td>8.0</td>\n",
       "      <td>0.0</td>\n",
       "      <td>0.28</td>\n",
       "      <td>0.98</td>\n",
       "      <td>1.0</td>\n",
       "      <td>0.004188</td>\n",
       "      <td>-0.004074</td>\n",
       "      <td>-0.999607</td>\n",
       "      <td>-0.044963</td>\n",
       "      <td>...</td>\n",
       "      <td>0.0</td>\n",
       "      <td>1.0</td>\n",
       "      <td>1.0</td>\n",
       "      <td>1.0</td>\n",
       "      <td>1.0</td>\n",
       "      <td>1.0</td>\n",
       "      <td>0.6</td>\n",
       "      <td>0.0</td>\n",
       "      <td>0.0</td>\n",
       "      <td>0.0</td>\n",
       "    </tr>\n",
       "    <tr>\n",
       "      <th>2</th>\n",
       "      <td>1970-01-01 00:00:00.400</td>\n",
       "      <td>13.0</td>\n",
       "      <td>0.0</td>\n",
       "      <td>0.48</td>\n",
       "      <td>0.97</td>\n",
       "      <td>1.0</td>\n",
       "      <td>-0.010651</td>\n",
       "      <td>-0.061186</td>\n",
       "      <td>-0.997819</td>\n",
       "      <td>0.028500</td>\n",
       "      <td>...</td>\n",
       "      <td>0.0</td>\n",
       "      <td>1.0</td>\n",
       "      <td>1.0</td>\n",
       "      <td>1.0</td>\n",
       "      <td>1.0</td>\n",
       "      <td>1.0</td>\n",
       "      <td>0.0</td>\n",
       "      <td>0.0</td>\n",
       "      <td>0.0</td>\n",
       "      <td>0.0</td>\n",
       "    </tr>\n",
       "    <tr>\n",
       "      <th>3</th>\n",
       "      <td>1970-01-01 00:00:00.600</td>\n",
       "      <td>18.0</td>\n",
       "      <td>0.0</td>\n",
       "      <td>0.68</td>\n",
       "      <td>0.98</td>\n",
       "      <td>1.0</td>\n",
       "      <td>0.008494</td>\n",
       "      <td>-0.023006</td>\n",
       "      <td>-0.998510</td>\n",
       "      <td>-0.077739</td>\n",
       "      <td>...</td>\n",
       "      <td>0.0</td>\n",
       "      <td>1.0</td>\n",
       "      <td>1.0</td>\n",
       "      <td>1.0</td>\n",
       "      <td>1.0</td>\n",
       "      <td>1.0</td>\n",
       "      <td>0.0</td>\n",
       "      <td>0.0</td>\n",
       "      <td>0.0</td>\n",
       "      <td>0.8</td>\n",
       "    </tr>\n",
       "    <tr>\n",
       "      <th>4</th>\n",
       "      <td>1970-01-01 00:00:00.800</td>\n",
       "      <td>23.0</td>\n",
       "      <td>0.0</td>\n",
       "      <td>0.88</td>\n",
       "      <td>0.97</td>\n",
       "      <td>1.0</td>\n",
       "      <td>0.002077</td>\n",
       "      <td>-0.092899</td>\n",
       "      <td>-0.995490</td>\n",
       "      <td>0.039646</td>\n",
       "      <td>...</td>\n",
       "      <td>0.0</td>\n",
       "      <td>1.0</td>\n",
       "      <td>1.0</td>\n",
       "      <td>1.0</td>\n",
       "      <td>1.0</td>\n",
       "      <td>1.0</td>\n",
       "      <td>0.0</td>\n",
       "      <td>0.0</td>\n",
       "      <td>0.0</td>\n",
       "      <td>0.0</td>\n",
       "    </tr>\n",
       "  </tbody>\n",
       "</table>\n",
       "<p>5 rows × 715 columns</p>\n",
       "</div>"
      ],
      "text/plain": [
       "                     time  frame  face_id  timestamp  confidence  success  \\\n",
       "0 1970-01-01 00:00:00.000    3.0      0.0       0.08        0.98      1.0   \n",
       "1 1970-01-01 00:00:00.200    8.0      0.0       0.28        0.98      1.0   \n",
       "2 1970-01-01 00:00:00.400   13.0      0.0       0.48        0.97      1.0   \n",
       "3 1970-01-01 00:00:00.600   18.0      0.0       0.68        0.98      1.0   \n",
       "4 1970-01-01 00:00:00.800   23.0      0.0       0.88        0.97      1.0   \n",
       "\n",
       "   gaze_0_x  gaze_0_y  gaze_0_z  gaze_1_x   ...    AU12_c  AU14_c  AU15_c  \\\n",
       "0  0.023018  0.015834 -0.999126 -0.009549   ...       0.0     0.6     1.0   \n",
       "1  0.004188 -0.004074 -0.999607 -0.044963   ...       0.0     1.0     1.0   \n",
       "2 -0.010651 -0.061186 -0.997819  0.028500   ...       0.0     1.0     1.0   \n",
       "3  0.008494 -0.023006 -0.998510 -0.077739   ...       0.0     1.0     1.0   \n",
       "4  0.002077 -0.092899 -0.995490  0.039646   ...       0.0     1.0     1.0   \n",
       "\n",
       "   AU17_c  AU20_c  AU23_c  AU25_c  AU26_c  AU28_c  AU45_c  \n",
       "0     1.0     1.0     0.8     1.0     0.4     0.0     0.0  \n",
       "1     1.0     1.0     1.0     0.6     0.0     0.0     0.0  \n",
       "2     1.0     1.0     1.0     0.0     0.0     0.0     0.0  \n",
       "3     1.0     1.0     1.0     0.0     0.0     0.0     0.8  \n",
       "4     1.0     1.0     1.0     0.0     0.0     0.0     0.0  \n",
       "\n",
       "[5 rows x 715 columns]"
      ]
     },
     "execution_count": 96,
     "metadata": {},
     "output_type": "execute_result"
    }
   ],
   "source": [
    "openface_features.head()"
   ]
  },
  {
   "cell_type": "code",
   "execution_count": 97,
   "metadata": {},
   "outputs": [],
   "source": [
    "filter_col = [col for col in openface_features if col.startswith('AU')]"
   ]
  },
  {
   "cell_type": "code",
   "execution_count": 98,
   "metadata": {},
   "outputs": [
    {
     "data": {
      "text/plain": [
       "list"
      ]
     },
     "execution_count": 98,
     "metadata": {},
     "output_type": "execute_result"
    }
   ],
   "source": [
    "type(filter_col)"
   ]
  },
  {
   "cell_type": "code",
   "execution_count": 99,
   "metadata": {},
   "outputs": [],
   "source": [
    "filter_col.insert(0,'time')"
   ]
  },
  {
   "cell_type": "code",
   "execution_count": 100,
   "metadata": {},
   "outputs": [],
   "source": [
    "filter_col.insert(0,'participant_id')\n",
    "filter_col.insert(0,'experiment_id')\n",
    "openface_features['participant_id'] = 1 #dummy value for now\n",
    "openface_features['experiment_id'] = 1 #dummy value for now"
   ]
  },
  {
   "cell_type": "code",
   "execution_count": 101,
   "metadata": {},
   "outputs": [],
   "source": [
    "openface_features = openface_features[filter_col]"
   ]
  },
  {
   "cell_type": "code",
   "execution_count": 102,
   "metadata": {
    "scrolled": true
   },
   "outputs": [
    {
     "data": {
      "text/html": [
       "<div>\n",
       "<style scoped>\n",
       "    .dataframe tbody tr th:only-of-type {\n",
       "        vertical-align: middle;\n",
       "    }\n",
       "\n",
       "    .dataframe tbody tr th {\n",
       "        vertical-align: top;\n",
       "    }\n",
       "\n",
       "    .dataframe thead th {\n",
       "        text-align: right;\n",
       "    }\n",
       "</style>\n",
       "<table border=\"1\" class=\"dataframe\">\n",
       "  <thead>\n",
       "    <tr style=\"text-align: right;\">\n",
       "      <th></th>\n",
       "      <th>experiment_id</th>\n",
       "      <th>participant_id</th>\n",
       "      <th>time</th>\n",
       "      <th>AU01_r</th>\n",
       "      <th>AU02_r</th>\n",
       "      <th>AU04_r</th>\n",
       "      <th>AU05_r</th>\n",
       "      <th>AU06_r</th>\n",
       "      <th>AU07_r</th>\n",
       "      <th>AU09_r</th>\n",
       "      <th>...</th>\n",
       "      <th>AU12_c</th>\n",
       "      <th>AU14_c</th>\n",
       "      <th>AU15_c</th>\n",
       "      <th>AU17_c</th>\n",
       "      <th>AU20_c</th>\n",
       "      <th>AU23_c</th>\n",
       "      <th>AU25_c</th>\n",
       "      <th>AU26_c</th>\n",
       "      <th>AU28_c</th>\n",
       "      <th>AU45_c</th>\n",
       "    </tr>\n",
       "  </thead>\n",
       "  <tbody>\n",
       "    <tr>\n",
       "      <th>0</th>\n",
       "      <td>1</td>\n",
       "      <td>1</td>\n",
       "      <td>1970-01-01 00:00:00.000</td>\n",
       "      <td>0.0</td>\n",
       "      <td>0.0</td>\n",
       "      <td>0.986</td>\n",
       "      <td>0.0</td>\n",
       "      <td>0.606</td>\n",
       "      <td>0.016</td>\n",
       "      <td>0.020</td>\n",
       "      <td>...</td>\n",
       "      <td>0.0</td>\n",
       "      <td>0.6</td>\n",
       "      <td>1.0</td>\n",
       "      <td>1.0</td>\n",
       "      <td>1.0</td>\n",
       "      <td>0.8</td>\n",
       "      <td>1.0</td>\n",
       "      <td>0.4</td>\n",
       "      <td>0.0</td>\n",
       "      <td>0.0</td>\n",
       "    </tr>\n",
       "    <tr>\n",
       "      <th>1</th>\n",
       "      <td>1</td>\n",
       "      <td>1</td>\n",
       "      <td>1970-01-01 00:00:00.200</td>\n",
       "      <td>0.0</td>\n",
       "      <td>0.0</td>\n",
       "      <td>1.070</td>\n",
       "      <td>0.0</td>\n",
       "      <td>0.568</td>\n",
       "      <td>0.114</td>\n",
       "      <td>0.028</td>\n",
       "      <td>...</td>\n",
       "      <td>0.0</td>\n",
       "      <td>1.0</td>\n",
       "      <td>1.0</td>\n",
       "      <td>1.0</td>\n",
       "      <td>1.0</td>\n",
       "      <td>1.0</td>\n",
       "      <td>0.6</td>\n",
       "      <td>0.0</td>\n",
       "      <td>0.0</td>\n",
       "      <td>0.0</td>\n",
       "    </tr>\n",
       "    <tr>\n",
       "      <th>2</th>\n",
       "      <td>1</td>\n",
       "      <td>1</td>\n",
       "      <td>1970-01-01 00:00:00.400</td>\n",
       "      <td>0.0</td>\n",
       "      <td>0.0</td>\n",
       "      <td>1.278</td>\n",
       "      <td>0.0</td>\n",
       "      <td>0.246</td>\n",
       "      <td>0.000</td>\n",
       "      <td>0.000</td>\n",
       "      <td>...</td>\n",
       "      <td>0.0</td>\n",
       "      <td>1.0</td>\n",
       "      <td>1.0</td>\n",
       "      <td>1.0</td>\n",
       "      <td>1.0</td>\n",
       "      <td>1.0</td>\n",
       "      <td>0.0</td>\n",
       "      <td>0.0</td>\n",
       "      <td>0.0</td>\n",
       "      <td>0.0</td>\n",
       "    </tr>\n",
       "    <tr>\n",
       "      <th>3</th>\n",
       "      <td>1</td>\n",
       "      <td>1</td>\n",
       "      <td>1970-01-01 00:00:00.600</td>\n",
       "      <td>0.0</td>\n",
       "      <td>0.0</td>\n",
       "      <td>1.132</td>\n",
       "      <td>0.0</td>\n",
       "      <td>0.604</td>\n",
       "      <td>0.204</td>\n",
       "      <td>0.000</td>\n",
       "      <td>...</td>\n",
       "      <td>0.0</td>\n",
       "      <td>1.0</td>\n",
       "      <td>1.0</td>\n",
       "      <td>1.0</td>\n",
       "      <td>1.0</td>\n",
       "      <td>1.0</td>\n",
       "      <td>0.0</td>\n",
       "      <td>0.0</td>\n",
       "      <td>0.0</td>\n",
       "      <td>0.8</td>\n",
       "    </tr>\n",
       "    <tr>\n",
       "      <th>4</th>\n",
       "      <td>1</td>\n",
       "      <td>1</td>\n",
       "      <td>1970-01-01 00:00:00.800</td>\n",
       "      <td>0.0</td>\n",
       "      <td>0.0</td>\n",
       "      <td>1.336</td>\n",
       "      <td>0.0</td>\n",
       "      <td>0.074</td>\n",
       "      <td>0.102</td>\n",
       "      <td>0.000</td>\n",
       "      <td>...</td>\n",
       "      <td>0.0</td>\n",
       "      <td>1.0</td>\n",
       "      <td>1.0</td>\n",
       "      <td>1.0</td>\n",
       "      <td>1.0</td>\n",
       "      <td>1.0</td>\n",
       "      <td>0.0</td>\n",
       "      <td>0.0</td>\n",
       "      <td>0.0</td>\n",
       "      <td>0.0</td>\n",
       "    </tr>\n",
       "  </tbody>\n",
       "</table>\n",
       "<p>5 rows × 38 columns</p>\n",
       "</div>"
      ],
      "text/plain": [
       "   experiment_id  participant_id                    time  AU01_r  AU02_r  \\\n",
       "0              1               1 1970-01-01 00:00:00.000     0.0     0.0   \n",
       "1              1               1 1970-01-01 00:00:00.200     0.0     0.0   \n",
       "2              1               1 1970-01-01 00:00:00.400     0.0     0.0   \n",
       "3              1               1 1970-01-01 00:00:00.600     0.0     0.0   \n",
       "4              1               1 1970-01-01 00:00:00.800     0.0     0.0   \n",
       "\n",
       "   AU04_r  AU05_r  AU06_r  AU07_r  AU09_r   ...    AU12_c  AU14_c  AU15_c  \\\n",
       "0   0.986     0.0   0.606   0.016   0.020   ...       0.0     0.6     1.0   \n",
       "1   1.070     0.0   0.568   0.114   0.028   ...       0.0     1.0     1.0   \n",
       "2   1.278     0.0   0.246   0.000   0.000   ...       0.0     1.0     1.0   \n",
       "3   1.132     0.0   0.604   0.204   0.000   ...       0.0     1.0     1.0   \n",
       "4   1.336     0.0   0.074   0.102   0.000   ...       0.0     1.0     1.0   \n",
       "\n",
       "   AU17_c  AU20_c  AU23_c  AU25_c  AU26_c  AU28_c  AU45_c  \n",
       "0     1.0     1.0     0.8     1.0     0.4     0.0     0.0  \n",
       "1     1.0     1.0     1.0     0.6     0.0     0.0     0.0  \n",
       "2     1.0     1.0     1.0     0.0     0.0     0.0     0.0  \n",
       "3     1.0     1.0     1.0     0.0     0.0     0.0     0.8  \n",
       "4     1.0     1.0     1.0     0.0     0.0     0.0     0.0  \n",
       "\n",
       "[5 rows x 38 columns]"
      ]
     },
     "execution_count": 102,
     "metadata": {},
     "output_type": "execute_result"
    }
   ],
   "source": [
    "openface_features.head()"
   ]
  },
  {
   "cell_type": "code",
   "execution_count": 105,
   "metadata": {},
   "outputs": [],
   "source": [
    "openface_features.columns = openface_features.columns.str.replace('_', '')\n",
    "openface_features = openface_features.rename(columns = {'experimentid':'experiment_id'})\n",
    "openface_features = openface_features.rename(columns = {'participantid':'participant_id'})"
   ]
  },
  {
   "cell_type": "code",
   "execution_count": 106,
   "metadata": {},
   "outputs": [
    {
     "data": {
      "text/html": [
       "<div>\n",
       "<style scoped>\n",
       "    .dataframe tbody tr th:only-of-type {\n",
       "        vertical-align: middle;\n",
       "    }\n",
       "\n",
       "    .dataframe tbody tr th {\n",
       "        vertical-align: top;\n",
       "    }\n",
       "\n",
       "    .dataframe thead th {\n",
       "        text-align: right;\n",
       "    }\n",
       "</style>\n",
       "<table border=\"1\" class=\"dataframe\">\n",
       "  <thead>\n",
       "    <tr style=\"text-align: right;\">\n",
       "      <th></th>\n",
       "      <th>experiment_id</th>\n",
       "      <th>participant_id</th>\n",
       "      <th>time</th>\n",
       "      <th>AU01r</th>\n",
       "      <th>AU02r</th>\n",
       "      <th>AU04r</th>\n",
       "      <th>AU05r</th>\n",
       "      <th>AU06r</th>\n",
       "      <th>AU07r</th>\n",
       "      <th>AU09r</th>\n",
       "      <th>...</th>\n",
       "      <th>AU12c</th>\n",
       "      <th>AU14c</th>\n",
       "      <th>AU15c</th>\n",
       "      <th>AU17c</th>\n",
       "      <th>AU20c</th>\n",
       "      <th>AU23c</th>\n",
       "      <th>AU25c</th>\n",
       "      <th>AU26c</th>\n",
       "      <th>AU28c</th>\n",
       "      <th>AU45c</th>\n",
       "    </tr>\n",
       "  </thead>\n",
       "  <tbody>\n",
       "    <tr>\n",
       "      <th>0</th>\n",
       "      <td>1</td>\n",
       "      <td>1</td>\n",
       "      <td>1970-01-01 00:00:00.000</td>\n",
       "      <td>0.0</td>\n",
       "      <td>0.0</td>\n",
       "      <td>0.986</td>\n",
       "      <td>0.0</td>\n",
       "      <td>0.606</td>\n",
       "      <td>0.016</td>\n",
       "      <td>0.020</td>\n",
       "      <td>...</td>\n",
       "      <td>0.0</td>\n",
       "      <td>0.6</td>\n",
       "      <td>1.0</td>\n",
       "      <td>1.0</td>\n",
       "      <td>1.0</td>\n",
       "      <td>0.8</td>\n",
       "      <td>1.0</td>\n",
       "      <td>0.4</td>\n",
       "      <td>0.0</td>\n",
       "      <td>0.0</td>\n",
       "    </tr>\n",
       "    <tr>\n",
       "      <th>1</th>\n",
       "      <td>1</td>\n",
       "      <td>1</td>\n",
       "      <td>1970-01-01 00:00:00.200</td>\n",
       "      <td>0.0</td>\n",
       "      <td>0.0</td>\n",
       "      <td>1.070</td>\n",
       "      <td>0.0</td>\n",
       "      <td>0.568</td>\n",
       "      <td>0.114</td>\n",
       "      <td>0.028</td>\n",
       "      <td>...</td>\n",
       "      <td>0.0</td>\n",
       "      <td>1.0</td>\n",
       "      <td>1.0</td>\n",
       "      <td>1.0</td>\n",
       "      <td>1.0</td>\n",
       "      <td>1.0</td>\n",
       "      <td>0.6</td>\n",
       "      <td>0.0</td>\n",
       "      <td>0.0</td>\n",
       "      <td>0.0</td>\n",
       "    </tr>\n",
       "    <tr>\n",
       "      <th>2</th>\n",
       "      <td>1</td>\n",
       "      <td>1</td>\n",
       "      <td>1970-01-01 00:00:00.400</td>\n",
       "      <td>0.0</td>\n",
       "      <td>0.0</td>\n",
       "      <td>1.278</td>\n",
       "      <td>0.0</td>\n",
       "      <td>0.246</td>\n",
       "      <td>0.000</td>\n",
       "      <td>0.000</td>\n",
       "      <td>...</td>\n",
       "      <td>0.0</td>\n",
       "      <td>1.0</td>\n",
       "      <td>1.0</td>\n",
       "      <td>1.0</td>\n",
       "      <td>1.0</td>\n",
       "      <td>1.0</td>\n",
       "      <td>0.0</td>\n",
       "      <td>0.0</td>\n",
       "      <td>0.0</td>\n",
       "      <td>0.0</td>\n",
       "    </tr>\n",
       "    <tr>\n",
       "      <th>3</th>\n",
       "      <td>1</td>\n",
       "      <td>1</td>\n",
       "      <td>1970-01-01 00:00:00.600</td>\n",
       "      <td>0.0</td>\n",
       "      <td>0.0</td>\n",
       "      <td>1.132</td>\n",
       "      <td>0.0</td>\n",
       "      <td>0.604</td>\n",
       "      <td>0.204</td>\n",
       "      <td>0.000</td>\n",
       "      <td>...</td>\n",
       "      <td>0.0</td>\n",
       "      <td>1.0</td>\n",
       "      <td>1.0</td>\n",
       "      <td>1.0</td>\n",
       "      <td>1.0</td>\n",
       "      <td>1.0</td>\n",
       "      <td>0.0</td>\n",
       "      <td>0.0</td>\n",
       "      <td>0.0</td>\n",
       "      <td>0.8</td>\n",
       "    </tr>\n",
       "    <tr>\n",
       "      <th>4</th>\n",
       "      <td>1</td>\n",
       "      <td>1</td>\n",
       "      <td>1970-01-01 00:00:00.800</td>\n",
       "      <td>0.0</td>\n",
       "      <td>0.0</td>\n",
       "      <td>1.336</td>\n",
       "      <td>0.0</td>\n",
       "      <td>0.074</td>\n",
       "      <td>0.102</td>\n",
       "      <td>0.000</td>\n",
       "      <td>...</td>\n",
       "      <td>0.0</td>\n",
       "      <td>1.0</td>\n",
       "      <td>1.0</td>\n",
       "      <td>1.0</td>\n",
       "      <td>1.0</td>\n",
       "      <td>1.0</td>\n",
       "      <td>0.0</td>\n",
       "      <td>0.0</td>\n",
       "      <td>0.0</td>\n",
       "      <td>0.0</td>\n",
       "    </tr>\n",
       "  </tbody>\n",
       "</table>\n",
       "<p>5 rows × 38 columns</p>\n",
       "</div>"
      ],
      "text/plain": [
       "   experiment_id  participant_id                    time  AU01r  AU02r  AU04r  \\\n",
       "0              1               1 1970-01-01 00:00:00.000    0.0    0.0  0.986   \n",
       "1              1               1 1970-01-01 00:00:00.200    0.0    0.0  1.070   \n",
       "2              1               1 1970-01-01 00:00:00.400    0.0    0.0  1.278   \n",
       "3              1               1 1970-01-01 00:00:00.600    0.0    0.0  1.132   \n",
       "4              1               1 1970-01-01 00:00:00.800    0.0    0.0  1.336   \n",
       "\n",
       "   AU05r  AU06r  AU07r  AU09r  ...    AU12c  AU14c  AU15c  AU17c  AU20c  \\\n",
       "0    0.0  0.606  0.016  0.020  ...      0.0    0.6    1.0    1.0    1.0   \n",
       "1    0.0  0.568  0.114  0.028  ...      0.0    1.0    1.0    1.0    1.0   \n",
       "2    0.0  0.246  0.000  0.000  ...      0.0    1.0    1.0    1.0    1.0   \n",
       "3    0.0  0.604  0.204  0.000  ...      0.0    1.0    1.0    1.0    1.0   \n",
       "4    0.0  0.074  0.102  0.000  ...      0.0    1.0    1.0    1.0    1.0   \n",
       "\n",
       "   AU23c  AU25c  AU26c  AU28c  AU45c  \n",
       "0    0.8    1.0    0.4    0.0    0.0  \n",
       "1    1.0    0.6    0.0    0.0    0.0  \n",
       "2    1.0    0.0    0.0    0.0    0.0  \n",
       "3    1.0    0.0    0.0    0.0    0.8  \n",
       "4    1.0    0.0    0.0    0.0    0.0  \n",
       "\n",
       "[5 rows x 38 columns]"
      ]
     },
     "execution_count": 106,
     "metadata": {},
     "output_type": "execute_result"
    }
   ],
   "source": [
    "openface_features.head()"
   ]
  },
  {
   "cell_type": "markdown",
   "metadata": {},
   "source": [
    "## 2. Load feature data from audio"
   ]
  },
  {
   "cell_type": "markdown",
   "metadata": {},
   "source": [
    "Process data with Librosa in pandas dataframe: So far copied from: https://github.com/emrecdem/explibrosa/blob/master/TUTORIALS/tutorial1.ipynb"
   ]
  },
  {
   "cell_type": "code",
   "execution_count": 107,
   "metadata": {},
   "outputs": [],
   "source": [
    "import matplotlib.pyplot as plt\n",
    "import os\n",
    "import explibrosa"
   ]
  },
  {
   "cell_type": "code",
   "execution_count": 108,
   "metadata": {},
   "outputs": [
    {
     "data": {
      "text/plain": [
       "'0.0.0.dev1'"
      ]
     },
     "execution_count": 108,
     "metadata": {},
     "output_type": "execute_result"
    }
   ],
   "source": [
    "explibrosa.__version__"
   ]
  },
  {
   "cell_type": "markdown",
   "metadata": {},
   "source": [
    "Find wav file that matches the csv file produced by OpenFace based on the assumption that filenames are identical except from file extension"
   ]
  },
  {
   "cell_type": "code",
   "execution_count": 109,
   "metadata": {},
   "outputs": [],
   "source": [
    "transformfilename = filenames[0]"
   ]
  },
  {
   "cell_type": "code",
   "execution_count": 110,
   "metadata": {},
   "outputs": [
    {
     "data": {
      "text/plain": [
       "'P18_S2_IAPS_HAPPY_Cfront.csv'"
      ]
     },
     "execution_count": 110,
     "metadata": {},
     "output_type": "execute_result"
    }
   ],
   "source": [
    "transformfilename"
   ]
  },
  {
   "cell_type": "code",
   "execution_count": 111,
   "metadata": {},
   "outputs": [],
   "source": [
    "audiofile_name = transformfilename.replace('.csv','.wav').replace('_Cfront','').replace('_Cside','')"
   ]
  },
  {
   "cell_type": "code",
   "execution_count": 112,
   "metadata": {},
   "outputs": [
    {
     "data": {
      "text/plain": [
       "'P18_S2_IAPS_HAPPY.wav'"
      ]
     },
     "execution_count": 112,
     "metadata": {},
     "output_type": "execute_result"
    }
   ],
   "source": [
    "audiofile_name "
   ]
  },
  {
   "cell_type": "code",
   "execution_count": 113,
   "metadata": {},
   "outputs": [],
   "source": [
    "import subprocess\n",
    " \n",
    "# Set up find command\n",
    "findCMD = 'find ' + emrecdemStudyDataFolder + ' -name ' + audiofile_name \n",
    "out = subprocess.Popen(findCMD,shell=True,stdin=subprocess.PIPE, \n",
    "                        stdout=subprocess.PIPE,stderr=subprocess.PIPE)\n",
    "# Get standard out and error\n",
    "(stdout, stderr) = out.communicate()\n",
    " \n",
    "# Save found files to list\n",
    "filelist = stdout.decode().split()"
   ]
  },
  {
   "cell_type": "code",
   "execution_count": 114,
   "metadata": {},
   "outputs": [],
   "source": [
    "audiofiles_fullPaths = filelist # probably the list has only one filename\n",
    "audio_file = audiofiles_fullPaths[0]"
   ]
  },
  {
   "cell_type": "code",
   "execution_count": 115,
   "metadata": {},
   "outputs": [
    {
     "data": {
      "text/plain": [
       "True"
      ]
     },
     "execution_count": 115,
     "metadata": {},
     "output_type": "execute_result"
    }
   ],
   "source": [
    "os.path.isfile(audio_file)"
   ]
  },
  {
   "cell_type": "code",
   "execution_count": 116,
   "metadata": {},
   "outputs": [
    {
     "data": {
      "text/plain": [
       "{'#frames': 3223486, 'duration (min)': 3.4, 'Sample freq (kHz)': 16.0}"
      ]
     },
     "execution_count": 116,
     "metadata": {},
     "output_type": "execute_result"
    }
   ],
   "source": [
    "explibrosa.get_info(audio_file)"
   ]
  },
  {
   "cell_type": "code",
   "execution_count": 117,
   "metadata": {},
   "outputs": [
    {
     "name": "stdout",
     "output_type": "stream",
     "text": [
      "Running librosa (no results found on disk)\n",
      "RMS energy\n",
      "     0.3 seconds\n",
      "Zero crossing\n",
      "     0.36 seconds\n",
      "Pitches\n",
      "     3.29 seconds\n",
      "  Pitches smoothing\n",
      "     3.43 seconds\n",
      "TOTAL execution time: 0.06 min\n"
     ]
    }
   ],
   "source": [
    "\n",
    "time_series = explibrosa.get_feature_time_series(audio_file)"
   ]
  },
  {
   "cell_type": "code",
   "execution_count": 118,
   "metadata": {},
   "outputs": [
    {
     "data": {
      "text/html": [
       "<div>\n",
       "<style scoped>\n",
       "    .dataframe tbody tr th:only-of-type {\n",
       "        vertical-align: middle;\n",
       "    }\n",
       "\n",
       "    .dataframe tbody tr th {\n",
       "        vertical-align: top;\n",
       "    }\n",
       "\n",
       "    .dataframe thead th {\n",
       "        text-align: right;\n",
       "    }\n",
       "</style>\n",
       "<table border=\"1\" class=\"dataframe\">\n",
       "  <thead>\n",
       "    <tr style=\"text-align: right;\">\n",
       "      <th></th>\n",
       "      <th>timestamp</th>\n",
       "      <th>rmse</th>\n",
       "      <th>zrc</th>\n",
       "      <th>pitch</th>\n",
       "    </tr>\n",
       "  </thead>\n",
       "  <tbody>\n",
       "    <tr>\n",
       "      <th>0</th>\n",
       "      <td>0.000000</td>\n",
       "      <td>0.013185</td>\n",
       "      <td>0.038095</td>\n",
       "      <td>186.620880</td>\n",
       "    </tr>\n",
       "    <tr>\n",
       "      <th>1</th>\n",
       "      <td>0.010000</td>\n",
       "      <td>0.012107</td>\n",
       "      <td>0.066667</td>\n",
       "      <td>185.620404</td>\n",
       "    </tr>\n",
       "    <tr>\n",
       "      <th>2</th>\n",
       "      <td>0.020001</td>\n",
       "      <td>0.010913</td>\n",
       "      <td>0.052381</td>\n",
       "      <td>184.326650</td>\n",
       "    </tr>\n",
       "    <tr>\n",
       "      <th>3</th>\n",
       "      <td>0.030001</td>\n",
       "      <td>0.011290</td>\n",
       "      <td>0.052381</td>\n",
       "      <td>182.657746</td>\n",
       "    </tr>\n",
       "    <tr>\n",
       "      <th>4</th>\n",
       "      <td>0.040002</td>\n",
       "      <td>0.010963</td>\n",
       "      <td>0.042857</td>\n",
       "      <td>180.606069</td>\n",
       "    </tr>\n",
       "  </tbody>\n",
       "</table>\n",
       "</div>"
      ],
      "text/plain": [
       "   timestamp      rmse       zrc       pitch\n",
       "0   0.000000  0.013185  0.038095  186.620880\n",
       "1   0.010000  0.012107  0.066667  185.620404\n",
       "2   0.020001  0.010913  0.052381  184.326650\n",
       "3   0.030001  0.011290  0.052381  182.657746\n",
       "4   0.040002  0.010963  0.042857  180.606069"
      ]
     },
     "execution_count": 118,
     "metadata": {},
     "output_type": "execute_result"
    }
   ],
   "source": [
    "time_series.head()"
   ]
  },
  {
   "cell_type": "code",
   "execution_count": 119,
   "metadata": {},
   "outputs": [
    {
     "data": {
      "text/plain": [
       "pandas.core.frame.DataFrame"
      ]
     },
     "execution_count": 119,
     "metadata": {},
     "output_type": "execute_result"
    }
   ],
   "source": [
    "type(time_series)"
   ]
  },
  {
   "cell_type": "markdown",
   "metadata": {},
   "source": [
    "### Downsample the time_series pandas dataframe"
   ]
  },
  {
   "cell_type": "code",
   "execution_count": 120,
   "metadata": {},
   "outputs": [],
   "source": [
    "# Convert timestamps to datetime format in order to be able to do resampe"
   ]
  },
  {
   "cell_type": "code",
   "execution_count": 121,
   "metadata": {},
   "outputs": [
    {
     "data": {
      "text/html": [
       "<div>\n",
       "<style scoped>\n",
       "    .dataframe tbody tr th:only-of-type {\n",
       "        vertical-align: middle;\n",
       "    }\n",
       "\n",
       "    .dataframe tbody tr th {\n",
       "        vertical-align: top;\n",
       "    }\n",
       "\n",
       "    .dataframe thead th {\n",
       "        text-align: right;\n",
       "    }\n",
       "</style>\n",
       "<table border=\"1\" class=\"dataframe\">\n",
       "  <thead>\n",
       "    <tr style=\"text-align: right;\">\n",
       "      <th></th>\n",
       "      <th>timestamp</th>\n",
       "      <th>rmse</th>\n",
       "      <th>zrc</th>\n",
       "      <th>pitch</th>\n",
       "    </tr>\n",
       "  </thead>\n",
       "  <tbody>\n",
       "    <tr>\n",
       "      <th>0</th>\n",
       "      <td>0.000000</td>\n",
       "      <td>0.013185</td>\n",
       "      <td>0.038095</td>\n",
       "      <td>186.620880</td>\n",
       "    </tr>\n",
       "    <tr>\n",
       "      <th>1</th>\n",
       "      <td>0.010000</td>\n",
       "      <td>0.012107</td>\n",
       "      <td>0.066667</td>\n",
       "      <td>185.620404</td>\n",
       "    </tr>\n",
       "    <tr>\n",
       "      <th>2</th>\n",
       "      <td>0.020001</td>\n",
       "      <td>0.010913</td>\n",
       "      <td>0.052381</td>\n",
       "      <td>184.326650</td>\n",
       "    </tr>\n",
       "    <tr>\n",
       "      <th>3</th>\n",
       "      <td>0.030001</td>\n",
       "      <td>0.011290</td>\n",
       "      <td>0.052381</td>\n",
       "      <td>182.657746</td>\n",
       "    </tr>\n",
       "    <tr>\n",
       "      <th>4</th>\n",
       "      <td>0.040002</td>\n",
       "      <td>0.010963</td>\n",
       "      <td>0.042857</td>\n",
       "      <td>180.606069</td>\n",
       "    </tr>\n",
       "  </tbody>\n",
       "</table>\n",
       "</div>"
      ],
      "text/plain": [
       "   timestamp      rmse       zrc       pitch\n",
       "0   0.000000  0.013185  0.038095  186.620880\n",
       "1   0.010000  0.012107  0.066667  185.620404\n",
       "2   0.020001  0.010913  0.052381  184.326650\n",
       "3   0.030001  0.011290  0.052381  182.657746\n",
       "4   0.040002  0.010963  0.042857  180.606069"
      ]
     },
     "execution_count": 121,
     "metadata": {},
     "output_type": "execute_result"
    }
   ],
   "source": [
    "time_series.head()"
   ]
  },
  {
   "cell_type": "code",
   "execution_count": 122,
   "metadata": {},
   "outputs": [],
   "source": [
    "time_series = downsample(time_series,res = '0.2S')"
   ]
  },
  {
   "cell_type": "code",
   "execution_count": 123,
   "metadata": {},
   "outputs": [
    {
     "data": {
      "text/html": [
       "<div>\n",
       "<style scoped>\n",
       "    .dataframe tbody tr th:only-of-type {\n",
       "        vertical-align: middle;\n",
       "    }\n",
       "\n",
       "    .dataframe tbody tr th {\n",
       "        vertical-align: top;\n",
       "    }\n",
       "\n",
       "    .dataframe thead th {\n",
       "        text-align: right;\n",
       "    }\n",
       "</style>\n",
       "<table border=\"1\" class=\"dataframe\">\n",
       "  <thead>\n",
       "    <tr style=\"text-align: right;\">\n",
       "      <th></th>\n",
       "      <th>time</th>\n",
       "      <th>timestamp</th>\n",
       "      <th>rmse</th>\n",
       "      <th>zrc</th>\n",
       "      <th>pitch</th>\n",
       "    </tr>\n",
       "  </thead>\n",
       "  <tbody>\n",
       "    <tr>\n",
       "      <th>0</th>\n",
       "      <td>1970-01-01 00:00:00.000</td>\n",
       "      <td>0.095005</td>\n",
       "      <td>0.008786</td>\n",
       "      <td>0.118095</td>\n",
       "      <td>271.211606</td>\n",
       "    </tr>\n",
       "    <tr>\n",
       "      <th>1</th>\n",
       "      <td>1970-01-01 00:00:00.200</td>\n",
       "      <td>0.295015</td>\n",
       "      <td>0.008010</td>\n",
       "      <td>0.141905</td>\n",
       "      <td>260.677619</td>\n",
       "    </tr>\n",
       "    <tr>\n",
       "      <th>2</th>\n",
       "      <td>1970-01-01 00:00:00.400</td>\n",
       "      <td>0.495025</td>\n",
       "      <td>0.003346</td>\n",
       "      <td>0.186429</td>\n",
       "      <td>239.593368</td>\n",
       "    </tr>\n",
       "    <tr>\n",
       "      <th>3</th>\n",
       "      <td>1970-01-01 00:00:00.600</td>\n",
       "      <td>0.695034</td>\n",
       "      <td>0.010654</td>\n",
       "      <td>0.176190</td>\n",
       "      <td>205.652267</td>\n",
       "    </tr>\n",
       "    <tr>\n",
       "      <th>4</th>\n",
       "      <td>1970-01-01 00:00:00.800</td>\n",
       "      <td>0.895044</td>\n",
       "      <td>0.020479</td>\n",
       "      <td>0.153571</td>\n",
       "      <td>349.661769</td>\n",
       "    </tr>\n",
       "  </tbody>\n",
       "</table>\n",
       "</div>"
      ],
      "text/plain": [
       "                     time  timestamp      rmse       zrc       pitch\n",
       "0 1970-01-01 00:00:00.000   0.095005  0.008786  0.118095  271.211606\n",
       "1 1970-01-01 00:00:00.200   0.295015  0.008010  0.141905  260.677619\n",
       "2 1970-01-01 00:00:00.400   0.495025  0.003346  0.186429  239.593368\n",
       "3 1970-01-01 00:00:00.600   0.695034  0.010654  0.176190  205.652267\n",
       "4 1970-01-01 00:00:00.800   0.895044  0.020479  0.153571  349.661769"
      ]
     },
     "execution_count": 123,
     "metadata": {},
     "output_type": "execute_result"
    }
   ],
   "source": [
    "time_series.head()"
   ]
  },
  {
   "cell_type": "markdown",
   "metadata": {},
   "source": [
    "### Add columns and tidy up column names"
   ]
  },
  {
   "cell_type": "code",
   "execution_count": 124,
   "metadata": {},
   "outputs": [],
   "source": [
    "time_series['participant_id'] = 1 #dummy value for now\n",
    "time_series['experiment_id'] = 1 #dummy value for now\n",
    "time_series = time_series.rename(columns={'zrc': 'zcrate'})\n",
    "time_series.drop(['timestamp'], axis = 1, inplace = True, errors = 'ignore')\n",
    "time_series = time_series[['participant_id','experiment_id','time','pitch','rmse','zcrate']]"
   ]
  },
  {
   "cell_type": "code",
   "execution_count": 125,
   "metadata": {},
   "outputs": [
    {
     "data": {
      "text/html": [
       "<div>\n",
       "<style scoped>\n",
       "    .dataframe tbody tr th:only-of-type {\n",
       "        vertical-align: middle;\n",
       "    }\n",
       "\n",
       "    .dataframe tbody tr th {\n",
       "        vertical-align: top;\n",
       "    }\n",
       "\n",
       "    .dataframe thead th {\n",
       "        text-align: right;\n",
       "    }\n",
       "</style>\n",
       "<table border=\"1\" class=\"dataframe\">\n",
       "  <thead>\n",
       "    <tr style=\"text-align: right;\">\n",
       "      <th></th>\n",
       "      <th>participant_id</th>\n",
       "      <th>experiment_id</th>\n",
       "      <th>time</th>\n",
       "      <th>pitch</th>\n",
       "      <th>rmse</th>\n",
       "      <th>zcrate</th>\n",
       "    </tr>\n",
       "  </thead>\n",
       "  <tbody>\n",
       "    <tr>\n",
       "      <th>0</th>\n",
       "      <td>1</td>\n",
       "      <td>1</td>\n",
       "      <td>1970-01-01 00:00:00.000</td>\n",
       "      <td>271.211606</td>\n",
       "      <td>0.008786</td>\n",
       "      <td>0.118095</td>\n",
       "    </tr>\n",
       "    <tr>\n",
       "      <th>1</th>\n",
       "      <td>1</td>\n",
       "      <td>1</td>\n",
       "      <td>1970-01-01 00:00:00.200</td>\n",
       "      <td>260.677619</td>\n",
       "      <td>0.008010</td>\n",
       "      <td>0.141905</td>\n",
       "    </tr>\n",
       "    <tr>\n",
       "      <th>2</th>\n",
       "      <td>1</td>\n",
       "      <td>1</td>\n",
       "      <td>1970-01-01 00:00:00.400</td>\n",
       "      <td>239.593368</td>\n",
       "      <td>0.003346</td>\n",
       "      <td>0.186429</td>\n",
       "    </tr>\n",
       "    <tr>\n",
       "      <th>3</th>\n",
       "      <td>1</td>\n",
       "      <td>1</td>\n",
       "      <td>1970-01-01 00:00:00.600</td>\n",
       "      <td>205.652267</td>\n",
       "      <td>0.010654</td>\n",
       "      <td>0.176190</td>\n",
       "    </tr>\n",
       "    <tr>\n",
       "      <th>4</th>\n",
       "      <td>1</td>\n",
       "      <td>1</td>\n",
       "      <td>1970-01-01 00:00:00.800</td>\n",
       "      <td>349.661769</td>\n",
       "      <td>0.020479</td>\n",
       "      <td>0.153571</td>\n",
       "    </tr>\n",
       "  </tbody>\n",
       "</table>\n",
       "</div>"
      ],
      "text/plain": [
       "   participant_id  experiment_id                    time       pitch  \\\n",
       "0               1              1 1970-01-01 00:00:00.000  271.211606   \n",
       "1               1              1 1970-01-01 00:00:00.200  260.677619   \n",
       "2               1              1 1970-01-01 00:00:00.400  239.593368   \n",
       "3               1              1 1970-01-01 00:00:00.600  205.652267   \n",
       "4               1              1 1970-01-01 00:00:00.800  349.661769   \n",
       "\n",
       "       rmse    zcrate  \n",
       "0  0.008786  0.118095  \n",
       "1  0.008010  0.141905  \n",
       "2  0.003346  0.186429  \n",
       "3  0.010654  0.176190  \n",
       "4  0.020479  0.153571  "
      ]
     },
     "execution_count": 125,
     "metadata": {},
     "output_type": "execute_result"
    }
   ],
   "source": [
    "time_series.head()"
   ]
  },
  {
   "cell_type": "markdown",
   "metadata": {},
   "source": [
    "## 3. Store in database"
   ]
  },
  {
   "cell_type": "markdown",
   "metadata": {},
   "source": [
    "\n",
    "http://www.sqlitetutorial.net/sqlite-python/create-tables/"
   ]
  },
  {
   "cell_type": "code",
   "execution_count": 126,
   "metadata": {},
   "outputs": [],
   "source": [
    "import sqlite3"
   ]
  },
  {
   "cell_type": "code",
   "execution_count": 127,
   "metadata": {},
   "outputs": [],
   "source": [
    "def create_connection(db_file):\n",
    "    \"\"\" create a database connection to the SQLite database\n",
    "        specified by db_file\n",
    "    :param db_file: database file\n",
    "    :return: Connection object or None\n",
    "    \"\"\"\n",
    "    try:\n",
    "        conn = sqlite3.connect(db_file)\n",
    "        return conn\n",
    "    except Error as e:\n",
    "        print(e)\n",
    " \n",
    "    return None"
   ]
  },
  {
   "cell_type": "code",
   "execution_count": 128,
   "metadata": {},
   "outputs": [],
   "source": [
    "def create_table(conn, create_table_sql):\n",
    "    \"\"\" create a table from the create_table_sql statement\n",
    "    :param conn: Connection object\n",
    "    :param create_table_sql: a CREATE TABLE statement\n",
    "    :return:\n",
    "    \"\"\"\n",
    "    try:\n",
    "        c = conn.cursor()\n",
    "        c.execute(create_table_sql)\n",
    "    except Error as e:\n",
    "        print(e)"
   ]
  },
  {
   "cell_type": "code",
   "execution_count": 129,
   "metadata": {},
   "outputs": [],
   "source": [
    "def main():\n",
    "    # Note time in text datatype, which will facilitate ISO8601 \"YYYY-MM-DD HH:MM:SS.SSS\"\n",
    "    database = \"/media/sf_sharedfolder/Emotion/emrecdemstudydata/emrecdemdb.db\"\n",
    "     \n",
    "    sql_create_participants_table = \"\"\" CREATE TABLE IF NOT EXISTS participants (\n",
    "                                        id integer PRIMARY KEY,\n",
    "                                        age real\n",
    "                                    ); \"\"\"\n",
    "    \n",
    "    sql_create_experiments_table = \"\"\" CREATE TABLE IF NOT EXISTS experiments (\n",
    "                                        id integer PRIMARY KEY,\n",
    "                                        name text NOT NULL\n",
    "                                    ); \"\"\"\n",
    "    sql_create_videofeatures_table = \"\"\" CREATE TABLE IF NOT EXISTS videofeatures (\n",
    "                                        id integer PRIMARY KEY,\n",
    "                                        participant_id integer NOT NULL,\n",
    "                                        experiment_id integer NOT NULL,\n",
    "                                        time text,\n",
    "                                        AU01r real, AU02r real, AU04r real,\n",
    "                                        AU05r real, AU06r real, AU07r real,\n",
    "                                        AU09r real, AU10r real, AU12r real,\n",
    "                                        AU14r real, AU15r real, AU17r real,\n",
    "                                        AU20r real, AU23r real, AU25r real,\n",
    "                                        AU26r real, AU45r real, AU01c real,\n",
    "                                        AU02c real, AU04c real, AU05c real,\n",
    "                                        AU06c real, AU07c real, AU09c real,\n",
    "                                        AU10c real, AU12c real, AU14c real,\n",
    "                                        AU15c real, AU17c real, AU20c real,\n",
    "                                        AU23c real, AU25c real, AU26c real,\n",
    "                                        AU28c real, AU45c real,                                        \n",
    "                                        FOREIGN KEY (participant_id) REFERENCES participants (id),\n",
    "                                        FOREIGN KEY (experiment_id) REFERENCES experiments (id)\n",
    "                                    ); \"\"\"\n",
    "    \n",
    "    sql_create_audiofeatures_table = \"\"\" CREATE TABLE IF NOT EXISTS audiofeatures (\n",
    "                                        id integer PRIMARY KEY,\n",
    "                                        participant_id integer NOT NULL,\n",
    "                                        experiment_id integer NOT NULL,\n",
    "                                        time text, \n",
    "                                        pitch real,\n",
    "                                        rmse real,\n",
    "                                        zcrate real,\n",
    "                                        FOREIGN KEY (participant_id) REFERENCES participants (id),\n",
    "                                        FOREIGN KEY (experiment_id) REFERENCES experiments (id)\n",
    "                                    ); \"\"\"\n",
    "        \n",
    "    sql_create_facslabels_table = \"\"\" CREATE TABLE IF NOT EXISTS facslabels (\n",
    "                                        id integer PRIMARY KEY,\n",
    "                                        name text NOT NULL\n",
    "                                    ); \"\"\"\n",
    " \n",
    "    sql_create_facsencoding_table = \"\"\"CREATE TABLE IF NOT EXISTS tasks (\n",
    "                                    id integer PRIMARY KEY,\n",
    "                                    participant_id integer NOT NULL,\n",
    "                                    experiment_id integer NOT NULL,\n",
    "                                    timestamp text,\n",
    "                                    emotion_id integer NOT NULL,\n",
    "                                    FOREIGN KEY (participant_id) REFERENCES participants (id),\n",
    "                                    FOREIGN KEY (experiment_id) REFERENCES experiments (id),\n",
    "                                    FOREIGN KEY (emotion_id) REFERENCES facslabels (id)\n",
    "                                );\"\"\"\n",
    " \n",
    "    # create a database connection\n",
    "    conn = create_connection(database)\n",
    "    if conn is not None:\n",
    "        # create participants table\n",
    "        create_table(conn, sql_create_participants_table)\n",
    "        # create experiments table\n",
    "        create_table(conn, sql_create_experiments_table)\n",
    "        create_table(conn, sql_create_videofeatures_table)\n",
    "        create_table(conn, sql_create_audiofeatures_table)\n",
    "        create_table(conn, sql_create_facslabels_table)\n",
    "        create_table(conn, sql_create_facsencoding_table)\n",
    "    else:\n",
    "        print(\"Error! cannot create the database connection.\")"
   ]
  },
  {
   "cell_type": "code",
   "execution_count": 130,
   "metadata": {},
   "outputs": [],
   "source": [
    "\n",
    "if __name__ == '__main__':\n",
    "    main()"
   ]
  },
  {
   "cell_type": "code",
   "execution_count": 131,
   "metadata": {},
   "outputs": [],
   "source": [
    "# Now on command line: sqlite3 pathtomydatabase.db\n",
    "# should give access to database\n",
    "# and .tables should show overview of the tables as created"
   ]
  },
  {
   "cell_type": "markdown",
   "metadata": {},
   "source": [
    "### To do Video:\n",
    "- Strip away irrelevant information, e.g. make selection of features of interest.\n",
    "\n",
    "### To do Video + Audio:\n",
    "- Retrieve participant ID from files and store these together with data and filename in database.\n",
    "- Develop demo for searchability\n"
   ]
  },
  {
   "cell_type": "code",
   "execution_count": 132,
   "metadata": {},
   "outputs": [],
   "source": [
    "#https://www.dataquest.io/blog/python-pandas-databases/\n",
    "database = \"/media/sf_sharedfolder/Emotion/emrecdemstudydata/emrecdemdb.db\""
   ]
  },
  {
   "cell_type": "code",
   "execution_count": 133,
   "metadata": {},
   "outputs": [],
   "source": [
    "conn = create_connection(database) # create connection\n",
    "cur = conn.cursor() # create cursor"
   ]
  },
  {
   "cell_type": "markdown",
   "metadata": {},
   "source": [
    "### Add Audio features to database"
   ]
  },
  {
   "cell_type": "code",
   "execution_count": 134,
   "metadata": {},
   "outputs": [],
   "source": [
    "# delete contents of table for testing purposes, later we obviously do not want to do this\n",
    "rowcount = cur.execute(\"DELETE FROM audiofeatures;\").fetchall()"
   ]
  },
  {
   "cell_type": "code",
   "execution_count": 135,
   "metadata": {},
   "outputs": [],
   "source": [
    "results = cur.execute(\"select * from audiofeatures limit 5;\").fetchall()\n",
    "rowcount = cur.execute(\"select count(*) from audiofeatures;\").fetchall()\n",
    "colnames = cur.execute(\"PRAGMA table_info(audiofeatures);\").fetchall()"
   ]
  },
  {
   "cell_type": "code",
   "execution_count": 136,
   "metadata": {},
   "outputs": [
    {
     "name": "stdout",
     "output_type": "stream",
     "text": [
      "Top 5 rows of audiofeatures table:\n",
      "[]\n",
      "\n",
      "Row count:\n",
      "0\n"
     ]
    }
   ],
   "source": [
    "print(\"Top 5 rows of audiofeatures table:\")\n",
    "print(results)\n",
    "print(\"\\nRow count:\")\n",
    "print(rowcount[0][0])"
   ]
  },
  {
   "cell_type": "code",
   "execution_count": 137,
   "metadata": {},
   "outputs": [
    {
     "name": "stdout",
     "output_type": "stream",
     "text": [
      "\n",
      "Column names:\n",
      "[(0, 'id', 'integer', 0, None, 1), (1, 'participant_id', 'integer', 1, None, 0), (2, 'experiment_id', 'integer', 1, None, 0), (3, 'time', 'text', 0, None, 0), (4, 'pitch', 'real', 0, None, 0), (5, 'rmse', 'real', 0, None, 0), (6, 'zcrate', 'real', 0, None, 0)]\n"
     ]
    }
   ],
   "source": [
    "print(\"\\nColumn names:\")\n",
    "print(colnames)"
   ]
  },
  {
   "cell_type": "code",
   "execution_count": 138,
   "metadata": {},
   "outputs": [],
   "source": [
    "# move time_series pandas data frame to the database\n",
    "time_series.to_sql(\"audiofeatures\", conn, index= False, if_exists=\"append\") #\"replace\""
   ]
  },
  {
   "cell_type": "code",
   "execution_count": 139,
   "metadata": {},
   "outputs": [],
   "source": [
    "results = cur.execute(\"select * from audiofeatures limit 5;\").fetchall()\n",
    "rowcount = cur.execute(\"select count(*) from audiofeatures;\").fetchall()\n",
    "colnames = cur.execute(\"PRAGMA table_info(audiofeatures);\").fetchall()"
   ]
  },
  {
   "cell_type": "code",
   "execution_count": 140,
   "metadata": {},
   "outputs": [
    {
     "name": "stdout",
     "output_type": "stream",
     "text": [
      "Top 5 rows of audiofeatures table:\n",
      "[(1, 1, 1, '1970-01-01 00:00:00', 271.2116057159737, 0.008785701356828213, 0.1180952380952381), (2, 1, 1, '1970-01-01 00:00:00.200000', 260.67761899075373, 0.008010043762624264, 0.1419047619047619), (3, 1, 1, '1970-01-01 00:00:00.400000', 239.59336760187193, 0.0033461761195212603, 0.18642857142857144), (4, 1, 1, '1970-01-01 00:00:00.600000', 205.65226665554346, 0.010653898119926453, 0.17619047619047618), (5, 1, 1, '1970-01-01 00:00:00.800000', 349.66176893618893, 0.02047872543334961, 0.15357142857142855)]\n",
      "\n",
      "Row count:\n",
      "1008\n",
      "\n",
      "Dimensions of pandas dataframe:\n",
      "(1008, 6)\n"
     ]
    }
   ],
   "source": [
    "print(\"Top 5 rows of audiofeatures table:\")\n",
    "print(results)\n",
    "print(\"\\nRow count:\")\n",
    "print(rowcount[0][0])\n",
    "print(\"\\nDimensions of pandas dataframe:\")\n",
    "print(time_series.shape)"
   ]
  },
  {
   "cell_type": "code",
   "execution_count": 141,
   "metadata": {},
   "outputs": [
    {
     "name": "stdout",
     "output_type": "stream",
     "text": [
      "\n",
      "Column names:\n",
      "[(0, 'id', 'integer', 0, None, 1), (1, 'participant_id', 'integer', 1, None, 0), (2, 'experiment_id', 'integer', 1, None, 0), (3, 'time', 'text', 0, None, 0), (4, 'pitch', 'real', 0, None, 0), (5, 'rmse', 'real', 0, None, 0), (6, 'zcrate', 'real', 0, None, 0)]\n"
     ]
    }
   ],
   "source": [
    "print(\"\\nColumn names:\")\n",
    "print(colnames)"
   ]
  },
  {
   "cell_type": "markdown",
   "metadata": {},
   "source": [
    "### Add video data to database"
   ]
  },
  {
   "cell_type": "code",
   "execution_count": 142,
   "metadata": {},
   "outputs": [],
   "source": [
    "# delete contents of table for testing purposes, later we obviously do not want to do this\n",
    "rowcount = cur.execute(\"DELETE FROM videofeatures;\").fetchall()"
   ]
  },
  {
   "cell_type": "code",
   "execution_count": 143,
   "metadata": {},
   "outputs": [],
   "source": [
    "results = cur.execute(\"select * from videofeatures limit 5;\").fetchall()\n",
    "rowcount = cur.execute(\"select count(*) from videofeatures;\").fetchall()\n",
    "colnames = cur.execute(\"PRAGMA table_info(videofeatures);\").fetchall()"
   ]
  },
  {
   "cell_type": "code",
   "execution_count": 144,
   "metadata": {},
   "outputs": [
    {
     "name": "stdout",
     "output_type": "stream",
     "text": [
      "Top 5 rows of videofeatures table:\n",
      "[]\n",
      "\n",
      "Row count:\n",
      "0\n"
     ]
    }
   ],
   "source": [
    "print(\"Top 5 rows of videofeatures table:\")\n",
    "print(results)\n",
    "print(\"\\nRow count:\")\n",
    "print(rowcount[0][0])"
   ]
  },
  {
   "cell_type": "code",
   "execution_count": 145,
   "metadata": {},
   "outputs": [
    {
     "name": "stdout",
     "output_type": "stream",
     "text": [
      "\n",
      "Column names:\n",
      "[(0, 'id', 'integer', 0, None, 1), (1, 'participant_id', 'integer', 1, None, 0), (2, 'experiment_id', 'integer', 1, None, 0), (3, 'time', 'text', 0, None, 0), (4, 'AU01r', 'real', 0, None, 0), (5, 'AU02r', 'real', 0, None, 0), (6, 'AU04r', 'real', 0, None, 0), (7, 'AU05r', 'real', 0, None, 0), (8, 'AU06r', 'real', 0, None, 0), (9, 'AU07r', 'real', 0, None, 0), (10, 'AU09r', 'real', 0, None, 0), (11, 'AU10r', 'real', 0, None, 0), (12, 'AU12r', 'real', 0, None, 0), (13, 'AU14r', 'real', 0, None, 0), (14, 'AU15r', 'real', 0, None, 0), (15, 'AU17r', 'real', 0, None, 0), (16, 'AU20r', 'real', 0, None, 0), (17, 'AU23r', 'real', 0, None, 0), (18, 'AU25r', 'real', 0, None, 0), (19, 'AU26r', 'real', 0, None, 0), (20, 'AU45r', 'real', 0, None, 0), (21, 'AU01c', 'real', 0, None, 0), (22, 'AU02c', 'real', 0, None, 0), (23, 'AU04c', 'real', 0, None, 0), (24, 'AU05c', 'real', 0, None, 0), (25, 'AU06c', 'real', 0, None, 0), (26, 'AU07c', 'real', 0, None, 0), (27, 'AU09c', 'real', 0, None, 0), (28, 'AU10c', 'real', 0, None, 0), (29, 'AU12c', 'real', 0, None, 0), (30, 'AU14c', 'real', 0, None, 0), (31, 'AU15c', 'real', 0, None, 0), (32, 'AU17c', 'real', 0, None, 0), (33, 'AU20c', 'real', 0, None, 0), (34, 'AU23c', 'real', 0, None, 0), (35, 'AU25c', 'real', 0, None, 0), (36, 'AU26c', 'real', 0, None, 0), (37, 'AU28c', 'real', 0, None, 0), (38, 'AU45c', 'real', 0, None, 0)]\n"
     ]
    }
   ],
   "source": [
    "print(\"\\nColumn names:\")\n",
    "print(colnames)"
   ]
  },
  {
   "cell_type": "code",
   "execution_count": 146,
   "metadata": {},
   "outputs": [
    {
     "data": {
      "text/html": [
       "<div>\n",
       "<style scoped>\n",
       "    .dataframe tbody tr th:only-of-type {\n",
       "        vertical-align: middle;\n",
       "    }\n",
       "\n",
       "    .dataframe tbody tr th {\n",
       "        vertical-align: top;\n",
       "    }\n",
       "\n",
       "    .dataframe thead th {\n",
       "        text-align: right;\n",
       "    }\n",
       "</style>\n",
       "<table border=\"1\" class=\"dataframe\">\n",
       "  <thead>\n",
       "    <tr style=\"text-align: right;\">\n",
       "      <th></th>\n",
       "      <th>experiment_id</th>\n",
       "      <th>participant_id</th>\n",
       "      <th>time</th>\n",
       "      <th>AU01r</th>\n",
       "      <th>AU02r</th>\n",
       "      <th>AU04r</th>\n",
       "      <th>AU05r</th>\n",
       "      <th>AU06r</th>\n",
       "      <th>AU07r</th>\n",
       "      <th>AU09r</th>\n",
       "      <th>...</th>\n",
       "      <th>AU12c</th>\n",
       "      <th>AU14c</th>\n",
       "      <th>AU15c</th>\n",
       "      <th>AU17c</th>\n",
       "      <th>AU20c</th>\n",
       "      <th>AU23c</th>\n",
       "      <th>AU25c</th>\n",
       "      <th>AU26c</th>\n",
       "      <th>AU28c</th>\n",
       "      <th>AU45c</th>\n",
       "    </tr>\n",
       "  </thead>\n",
       "  <tbody>\n",
       "    <tr>\n",
       "      <th>0</th>\n",
       "      <td>1</td>\n",
       "      <td>1</td>\n",
       "      <td>1970-01-01 00:00:00.000</td>\n",
       "      <td>0.0</td>\n",
       "      <td>0.0</td>\n",
       "      <td>0.986</td>\n",
       "      <td>0.0</td>\n",
       "      <td>0.606</td>\n",
       "      <td>0.016</td>\n",
       "      <td>0.020</td>\n",
       "      <td>...</td>\n",
       "      <td>0.0</td>\n",
       "      <td>0.6</td>\n",
       "      <td>1.0</td>\n",
       "      <td>1.0</td>\n",
       "      <td>1.0</td>\n",
       "      <td>0.8</td>\n",
       "      <td>1.0</td>\n",
       "      <td>0.4</td>\n",
       "      <td>0.0</td>\n",
       "      <td>0.0</td>\n",
       "    </tr>\n",
       "    <tr>\n",
       "      <th>1</th>\n",
       "      <td>1</td>\n",
       "      <td>1</td>\n",
       "      <td>1970-01-01 00:00:00.200</td>\n",
       "      <td>0.0</td>\n",
       "      <td>0.0</td>\n",
       "      <td>1.070</td>\n",
       "      <td>0.0</td>\n",
       "      <td>0.568</td>\n",
       "      <td>0.114</td>\n",
       "      <td>0.028</td>\n",
       "      <td>...</td>\n",
       "      <td>0.0</td>\n",
       "      <td>1.0</td>\n",
       "      <td>1.0</td>\n",
       "      <td>1.0</td>\n",
       "      <td>1.0</td>\n",
       "      <td>1.0</td>\n",
       "      <td>0.6</td>\n",
       "      <td>0.0</td>\n",
       "      <td>0.0</td>\n",
       "      <td>0.0</td>\n",
       "    </tr>\n",
       "    <tr>\n",
       "      <th>2</th>\n",
       "      <td>1</td>\n",
       "      <td>1</td>\n",
       "      <td>1970-01-01 00:00:00.400</td>\n",
       "      <td>0.0</td>\n",
       "      <td>0.0</td>\n",
       "      <td>1.278</td>\n",
       "      <td>0.0</td>\n",
       "      <td>0.246</td>\n",
       "      <td>0.000</td>\n",
       "      <td>0.000</td>\n",
       "      <td>...</td>\n",
       "      <td>0.0</td>\n",
       "      <td>1.0</td>\n",
       "      <td>1.0</td>\n",
       "      <td>1.0</td>\n",
       "      <td>1.0</td>\n",
       "      <td>1.0</td>\n",
       "      <td>0.0</td>\n",
       "      <td>0.0</td>\n",
       "      <td>0.0</td>\n",
       "      <td>0.0</td>\n",
       "    </tr>\n",
       "    <tr>\n",
       "      <th>3</th>\n",
       "      <td>1</td>\n",
       "      <td>1</td>\n",
       "      <td>1970-01-01 00:00:00.600</td>\n",
       "      <td>0.0</td>\n",
       "      <td>0.0</td>\n",
       "      <td>1.132</td>\n",
       "      <td>0.0</td>\n",
       "      <td>0.604</td>\n",
       "      <td>0.204</td>\n",
       "      <td>0.000</td>\n",
       "      <td>...</td>\n",
       "      <td>0.0</td>\n",
       "      <td>1.0</td>\n",
       "      <td>1.0</td>\n",
       "      <td>1.0</td>\n",
       "      <td>1.0</td>\n",
       "      <td>1.0</td>\n",
       "      <td>0.0</td>\n",
       "      <td>0.0</td>\n",
       "      <td>0.0</td>\n",
       "      <td>0.8</td>\n",
       "    </tr>\n",
       "    <tr>\n",
       "      <th>4</th>\n",
       "      <td>1</td>\n",
       "      <td>1</td>\n",
       "      <td>1970-01-01 00:00:00.800</td>\n",
       "      <td>0.0</td>\n",
       "      <td>0.0</td>\n",
       "      <td>1.336</td>\n",
       "      <td>0.0</td>\n",
       "      <td>0.074</td>\n",
       "      <td>0.102</td>\n",
       "      <td>0.000</td>\n",
       "      <td>...</td>\n",
       "      <td>0.0</td>\n",
       "      <td>1.0</td>\n",
       "      <td>1.0</td>\n",
       "      <td>1.0</td>\n",
       "      <td>1.0</td>\n",
       "      <td>1.0</td>\n",
       "      <td>0.0</td>\n",
       "      <td>0.0</td>\n",
       "      <td>0.0</td>\n",
       "      <td>0.0</td>\n",
       "    </tr>\n",
       "  </tbody>\n",
       "</table>\n",
       "<p>5 rows × 38 columns</p>\n",
       "</div>"
      ],
      "text/plain": [
       "   experiment_id  participant_id                    time  AU01r  AU02r  AU04r  \\\n",
       "0              1               1 1970-01-01 00:00:00.000    0.0    0.0  0.986   \n",
       "1              1               1 1970-01-01 00:00:00.200    0.0    0.0  1.070   \n",
       "2              1               1 1970-01-01 00:00:00.400    0.0    0.0  1.278   \n",
       "3              1               1 1970-01-01 00:00:00.600    0.0    0.0  1.132   \n",
       "4              1               1 1970-01-01 00:00:00.800    0.0    0.0  1.336   \n",
       "\n",
       "   AU05r  AU06r  AU07r  AU09r  ...    AU12c  AU14c  AU15c  AU17c  AU20c  \\\n",
       "0    0.0  0.606  0.016  0.020  ...      0.0    0.6    1.0    1.0    1.0   \n",
       "1    0.0  0.568  0.114  0.028  ...      0.0    1.0    1.0    1.0    1.0   \n",
       "2    0.0  0.246  0.000  0.000  ...      0.0    1.0    1.0    1.0    1.0   \n",
       "3    0.0  0.604  0.204  0.000  ...      0.0    1.0    1.0    1.0    1.0   \n",
       "4    0.0  0.074  0.102  0.000  ...      0.0    1.0    1.0    1.0    1.0   \n",
       "\n",
       "   AU23c  AU25c  AU26c  AU28c  AU45c  \n",
       "0    0.8    1.0    0.4    0.0    0.0  \n",
       "1    1.0    0.6    0.0    0.0    0.0  \n",
       "2    1.0    0.0    0.0    0.0    0.0  \n",
       "3    1.0    0.0    0.0    0.0    0.8  \n",
       "4    1.0    0.0    0.0    0.0    0.0  \n",
       "\n",
       "[5 rows x 38 columns]"
      ]
     },
     "execution_count": 146,
     "metadata": {},
     "output_type": "execute_result"
    }
   ],
   "source": [
    "openface_features.head()"
   ]
  },
  {
   "cell_type": "code",
   "execution_count": 147,
   "metadata": {},
   "outputs": [],
   "source": [
    "# move time_series pandas data frame to the database\n",
    "openface_features.to_sql(\"videofeatures\", conn, index=False,if_exists=\"append\") #\"replace\""
   ]
  },
  {
   "cell_type": "code",
   "execution_count": 148,
   "metadata": {},
   "outputs": [],
   "source": [
    "results = cur.execute(\"select * from videofeatures limit 5;\").fetchall()\n",
    "rowcount = cur.execute(\"select count(*) from videofeatures;\").fetchall()"
   ]
  },
  {
   "cell_type": "code",
   "execution_count": 149,
   "metadata": {},
   "outputs": [
    {
     "name": "stdout",
     "output_type": "stream",
     "text": [
      "Top 5 rows of videofeatures table:\n",
      "[(1, 1, 1, '1970-01-01 00:00:00', 0.0, 0.0, 0.986, 0.0, 0.606, 0.016, 0.02, 0.916, 0.6340000000000001, 1.1380000000000001, 0.44400000000000006, 1.054, 0.516, 0.8, 0.9039999999999999, 2.7339999999999995, 0.22599999999999998, 0.0, 0.0, 0.0, 0.4, 0.0, 0.0, 0.6, 0.6, 0.0, 0.6, 1.0, 1.0, 1.0, 0.8, 1.0, 0.4, 0.0, 0.0), (2, 1, 1, '1970-01-01 00:00:00.200000', 0.0, 0.0, 1.07, 0.0, 0.568, 0.11400000000000002, 0.028000000000000004, 1.346, 0.642, 1.5260000000000002, 0.37399999999999994, 1.206, 0.442, 0.8480000000000001, 0.30199999999999994, 2.8240000000000003, 0.21799999999999997, 0.0, 0.0, 0.0, 0.4, 0.0, 0.0, 0.6, 1.0, 0.0, 1.0, 1.0, 1.0, 1.0, 1.0, 0.6, 0.0, 0.0, 0.0), (3, 1, 1, '1970-01-01 00:00:00.400000', 0.0, 0.0, 1.278, 0.0, 0.246, 0.0, 0.0, 1.214, 0.45, 1.5699999999999998, 0.384, 1.658, 0.41600000000000004, 1.766, 0.008, 2.02, 0.0, 0.0, 0.0, 0.0, 1.0, 0.0, 0.0, 0.0, 1.0, 0.0, 1.0, 1.0, 1.0, 1.0, 1.0, 0.0, 0.0, 0.0, 0.0), (4, 1, 1, '1970-01-01 00:00:00.600000', 0.0, 0.0, 1.1320000000000001, 0.0, 0.604, 0.20400000000000001, 0.0, 1.3379999999999999, 0.768, 1.8519999999999999, 0.8460000000000001, 1.8379999999999999, 0.646, 1.386, 0.0, 1.388, 0.20400000000000001, 0.0, 0.0, 0.0, 0.0, 0.0, 0.0, 0.0, 1.0, 0.0, 1.0, 1.0, 1.0, 1.0, 1.0, 0.0, 0.0, 0.0, 0.8), (5, 1, 1, '1970-01-01 00:00:00.800000', 0.0, 0.0, 1.3359999999999999, 0.0, 0.07400000000000001, 0.10200000000000001, 0.0, 0.8540000000000001, 0.506, 1.706, 0.86, 1.998, 0.5999999999999999, 1.6560000000000001, 0.0, 1.092, 0.0, 0.0, 0.0, 0.0, 0.8, 0.0, 0.0, 0.0, 1.0, 0.0, 1.0, 1.0, 1.0, 1.0, 1.0, 0.0, 0.0, 0.0, 0.0)]\n",
      "\n",
      "Row count:\n",
      "1008\n",
      "\n",
      "Dimensions of pandas dataframe:\n",
      "(1008, 6)\n"
     ]
    }
   ],
   "source": [
    "print(\"Top 5 rows of videofeatures table:\")\n",
    "print(results)\n",
    "print(\"\\nRow count:\")\n",
    "print(rowcount[0][0])\n",
    "print(\"\\nDimensions of pandas dataframe:\")\n",
    "print(time_series.shape)"
   ]
  },
  {
   "cell_type": "code",
   "execution_count": 150,
   "metadata": {},
   "outputs": [],
   "source": [
    "cur.close()\n",
    "conn.close()"
   ]
  },
  {
   "cell_type": "code",
   "execution_count": null,
   "metadata": {},
   "outputs": [],
   "source": []
  },
  {
   "cell_type": "code",
   "execution_count": null,
   "metadata": {},
   "outputs": [],
   "source": []
  }
 ],
 "metadata": {
  "kernelspec": {
   "display_name": "Python 3",
   "language": "python",
   "name": "python3"
  },
  "language_info": {
   "codemirror_mode": {
    "name": "ipython",
    "version": 3
   },
   "file_extension": ".py",
   "mimetype": "text/x-python",
   "name": "python",
   "nbconvert_exporter": "python",
   "pygments_lexer": "ipython3",
   "version": "3.7.1"
  }
 },
 "nbformat": 4,
 "nbformat_minor": 2
}
