{
 "cells": [
  {
   "cell_type": "code",
   "execution_count": null,
   "metadata": {},
   "outputs": [],
   "source": [
    "import os"
   ]
  },
  {
   "cell_type": "code",
   "execution_count": null,
   "metadata": {},
   "outputs": [],
   "source": [
    "os.getcwd()"
   ]
  },
  {
   "cell_type": "code",
   "execution_count": null,
   "metadata": {},
   "outputs": [],
   "source": [
    "# change dir to root\n",
    "os.chdir('..')\n",
    "os.getcwd()"
   ]
  },
  {
   "cell_type": "code",
   "execution_count": null,
   "metadata": {},
   "outputs": [],
   "source": [
    "import os\n",
    "import pandas as pd\n",
    "import exploface\n",
    "import explibrosa\n",
    "import emrecdem as erd"
   ]
  },
  {
   "cell_type": "markdown",
   "metadata": {},
   "source": [
    "### Specify data location"
   ]
  },
  {
   "cell_type": "code",
   "execution_count": null,
   "metadata": {},
   "outputs": [],
   "source": [
    "datadirectory = os.environ['EMRECDEM_DATADIR']\n",
    "print(datadirectory)"
   ]
  },
  {
   "cell_type": "markdown",
   "metadata": {},
   "source": [
    "### Identify csv files"
   ]
  },
  {
   "cell_type": "code",
   "execution_count": null,
   "metadata": {},
   "outputs": [],
   "source": [
    "# Search for files with csv extension, because we are only interested in those\n",
    "# This assumes that there are no other csv files in folder other than the ones produced by OpenFace.\n",
    "from os import listdir\n",
    "\n",
    "def find_filenames(path_to_dir, suffix=\".wav\"):\n",
    "    filenames = listdir(path_to_dir)\n",
    "    return [ filename.split(suffix)[0] for filename in filenames if filename.endswith( suffix ) ]\n",
    "\n",
    "filenames = find_filenames(datadirectory) # filenames will be a list\n",
    "print(filenames)"
   ]
  },
  {
   "cell_type": "code",
   "execution_count": null,
   "metadata": {},
   "outputs": [],
   "source": [
    "#https://www.dataquest.io/blog/python-pandas-databases/\n",
    "databasefile = datadirectory + \"/emrecdem.db\"\n",
    "print(databasefile)"
   ]
  },
  {
   "cell_type": "markdown",
   "metadata": {},
   "source": [
    "### Create database"
   ]
  },
  {
   "cell_type": "code",
   "execution_count": null,
   "metadata": {},
   "outputs": [],
   "source": [
    "erd.features2db.create_db(databasefile = databasefile)\n",
    "# Now on command line: sqlite3 pathtomydatabase.db\n",
    "# should give access to database\n",
    "# and .tables should show overview of the tables as created"
   ]
  },
  {
   "cell_type": "code",
   "execution_count": null,
   "metadata": {},
   "outputs": [],
   "source": [
    "deleteDataBaseEntriesOnFirstRun = True"
   ]
  },
  {
   "cell_type": "markdown",
   "metadata": {},
   "source": [
    "### Loop over files, extract features, store features in database"
   ]
  },
  {
   "cell_type": "code",
   "execution_count": null,
   "metadata": {},
   "outputs": [],
   "source": [
    "import importlib\n",
    "importlib.reload(explibrosa)\n",
    "importlib.reload(erd)\n",
    "\n",
    "for filename in filenames:\n",
    "    \n",
    "    # extract participant id (PID) and experiment id (EXP) from filename:\n",
    "    PID = filename.split(\"_\")[0].split(\"P\")[1]\n",
    "    EXP = ''.join(filename.split(\"_\")[1:4]) # extract integers from filename\n",
    "    EXP = EXP.split(\".csv\")[0] # remove .csv at the end\n",
    "    \n",
    "    # determine fragments from praat transcription\n",
    "    path = os.path.join(datadirectory, 'getranscribeerd_%s_Mparticipant_talkspurt.TextGrid' % (filename,))\n",
    "    fragments = erd.fragments.get_fragments_from_textgrid(path)\n",
    "    print(\"Fragments:\", fragments)\n",
    "    \n",
    "\n",
    "    \n",
    "    print(\"generate video features\")\n",
    "    \n",
    "    # select one file from list of filenames\n",
    "    openface_file = os.path.join(datadirectory, filename + '_processed', filename + '_Cfront.csv')\n",
    "    print (openface_file)\n",
    "    # process with exploface\n",
    "    openface_features = exploface.get_feature_time_series(openface_file)\n",
    "\n",
    "    # extract fragments\n",
    "    openface_features = erd.fragments.extract_fragments_openface(openface_features, fragments, PID, EXP)\n",
    "    print(openface_features.head())\n",
    "    openface_features.to_csv(os.path.join(datadirectory, filename + \"_openface_features.csv\"))\n",
    "    \n",
    "    \n",
    "    \n",
    "    print(\"generate audio features\")\n",
    "    \n",
    "    # Find wav file that matches the csv file produced by OpenFace\n",
    "    # based on the assumption that filenames are identical except from file extension\n",
    "    audio_file = erd.findwav(filename + '.wav', datadirectory)\n",
    "    \n",
    "    # process with explibrosa\n",
    "    # explibrosa.get_info(audio_file)\n",
    "    audio_features = explibrosa.get_feature_time_series(audio_file)\n",
    "    \n",
    "    audio_features = erd.fragments.extract_fragments_librosa(audio_features, fragments, PID, EXP)\n",
    "    print(audio_features.head())\n",
    "    audio_features.to_csv(os.path.join(datadirectory, filename + \"_audio_features.csv\"))\n",
    "    \n",
    "    \n",
    "    \n",
    "    #http://www.sqlitetutorial.net/sqlite-python/create-tables/\n",
    "    #erd.features2sqlitedb.checkdbcontent(databasefile)\n",
    "    # features to database\n",
    "    if (deleteDataBaseEntriesOnFirstRun == 0):\n",
    "        deleteDataBaseEntries = True\n",
    "    else:\n",
    "        deleteDataBaseEntries = False\n",
    "    \n",
    "    erd.features2db.add_features(audio_features, openface_features,\n",
    "            databasefile, deleteDataBaseEntries)\n",
    "    # check database content\n",
    "    erd.check_db_content(databasefile)\n",
    "    \n"
   ]
  },
  {
   "cell_type": "code",
   "execution_count": null,
   "metadata": {},
   "outputs": [],
   "source": [
    "merged_features = pd.merge(openface_features, audio_features)\n",
    "merged_features.head()"
   ]
  },
  {
   "cell_type": "code",
   "execution_count": null,
   "metadata": {},
   "outputs": [],
   "source": [
    "%matplotlib inline\n",
    "import matplotlib.pyplot as plt"
   ]
  },
  {
   "cell_type": "code",
   "execution_count": null,
   "metadata": {},
   "outputs": [],
   "source": [
    "plt.plot(merged_features['AU04_r'], merged_features['pitch'], 'o')\n",
    "plt.grid(True)"
   ]
  }
 ],
 "metadata": {
  "kernelspec": {
   "display_name": "emrecdem",
   "language": "python",
   "name": "emrecdem"
  },
  "language_info": {
   "codemirror_mode": {
    "name": "ipython",
    "version": 3
   },
   "file_extension": ".py",
   "mimetype": "text/x-python",
   "name": "python",
   "nbconvert_exporter": "python",
   "pygments_lexer": "ipython3",
   "version": "3.7.4"
  }
 },
 "nbformat": 4,
 "nbformat_minor": 4
}
