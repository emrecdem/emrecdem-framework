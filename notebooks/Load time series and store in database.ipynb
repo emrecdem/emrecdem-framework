{
 "cells": [
  {
   "cell_type": "markdown",
   "metadata": {},
   "source": [
    "# Merge features from various modalitis into single database\n",
    "\n",
    "## 1. Load feature data from Video"
   ]
  },
  {
   "cell_type": "markdown",
   "metadata": {},
   "source": [
    "Load OpenFace output data and load features in pandas dataframe: So far copied from: https://github.com/emrecdem/exploface/blob/master/TUTORIALS/tutorial1.ipynb"
   ]
  },
  {
   "cell_type": "code",
   "execution_count": 1,
   "metadata": {},
   "outputs": [],
   "source": [
    "import pandas as pd\n",
    "import matplotlib.pyplot as plt\n",
    "import exploface"
   ]
  },
  {
   "cell_type": "code",
   "execution_count": 2,
   "metadata": {},
   "outputs": [
    {
     "data": {
      "text/plain": [
       "'0.0.0.dev6'"
      ]
     },
     "execution_count": 2,
     "metadata": {},
     "output_type": "execute_result"
    }
   ],
   "source": [
    "exploface.__version__"
   ]
  },
  {
   "cell_type": "code",
   "execution_count": 3,
   "metadata": {},
   "outputs": [],
   "source": [
    "# specify some paths\n",
    "emrecdemStudyDataFolder = \"/media/sf_sharedfolder/Emotion/emrecdemstudydata\"\n",
    "openface_outputfolder = emrecdemStudyDataFolder + \"/OpenFaceOutput\""
   ]
  },
  {
   "cell_type": "code",
   "execution_count": 4,
   "metadata": {},
   "outputs": [],
   "source": [
    "# Search for files with csv extension, because we are only interested in those\n",
    "# This assumes that there are no other csv files in folder other than the ones produced by OpenFace.\n",
    "from os import listdir\n",
    "\n",
    "def find_csv_filenames( path_to_dir, suffix=\".csv\" ):\n",
    "    filenames = listdir(path_to_dir)\n",
    "    return [ filename for filename in filenames if filename.endswith( suffix ) ]\n",
    "\n",
    "filenames = find_csv_filenames(openface_outputfolder)"
   ]
  },
  {
   "cell_type": "code",
   "execution_count": 5,
   "metadata": {},
   "outputs": [
    {
     "data": {
      "text/plain": [
       "['P18_S2_IAPS_HAPPY_Cfront.csv',\n",
       " 'P18_S2_IAPS_SAD_Cfront.csv',\n",
       " 'P21_S2_IAPS_HAPPY_C1.csv',\n",
       " 'P21_S2_IAPS_SAD_C1.csv']"
      ]
     },
     "execution_count": 5,
     "metadata": {},
     "output_type": "execute_result"
    }
   ],
   "source": [
    "filenames"
   ]
  },
  {
   "cell_type": "code",
   "execution_count": 6,
   "metadata": {},
   "outputs": [],
   "source": [
    "# select one file to process (in the future this can be a loop over all the files)\n",
    "openface_file = openface_outputfolder + '/' + filenames[0]\n",
    "openface_features = exploface.get_feature_time_series(openface_file)"
   ]
  },
  {
   "cell_type": "code",
   "execution_count": 7,
   "metadata": {},
   "outputs": [
    {
     "data": {
      "text/html": [
       "<div>\n",
       "<style scoped>\n",
       "    .dataframe tbody tr th:only-of-type {\n",
       "        vertical-align: middle;\n",
       "    }\n",
       "\n",
       "    .dataframe tbody tr th {\n",
       "        vertical-align: top;\n",
       "    }\n",
       "\n",
       "    .dataframe thead th {\n",
       "        text-align: right;\n",
       "    }\n",
       "</style>\n",
       "<table border=\"1\" class=\"dataframe\">\n",
       "  <thead>\n",
       "    <tr style=\"text-align: right;\">\n",
       "      <th></th>\n",
       "      <th>frame</th>\n",
       "      <th>face_id</th>\n",
       "      <th>timestamp</th>\n",
       "      <th>confidence</th>\n",
       "      <th>success</th>\n",
       "      <th>gaze_0_x</th>\n",
       "      <th>gaze_0_y</th>\n",
       "      <th>gaze_0_z</th>\n",
       "      <th>gaze_1_x</th>\n",
       "      <th>gaze_1_y</th>\n",
       "      <th>...</th>\n",
       "      <th>AU12_c</th>\n",
       "      <th>AU14_c</th>\n",
       "      <th>AU15_c</th>\n",
       "      <th>AU17_c</th>\n",
       "      <th>AU20_c</th>\n",
       "      <th>AU23_c</th>\n",
       "      <th>AU25_c</th>\n",
       "      <th>AU26_c</th>\n",
       "      <th>AU28_c</th>\n",
       "      <th>AU45_c</th>\n",
       "    </tr>\n",
       "  </thead>\n",
       "  <tbody>\n",
       "    <tr>\n",
       "      <th>0</th>\n",
       "      <td>1</td>\n",
       "      <td>0</td>\n",
       "      <td>0.00</td>\n",
       "      <td>0.98</td>\n",
       "      <td>1</td>\n",
       "      <td>0.028242</td>\n",
       "      <td>0.015028</td>\n",
       "      <td>-0.999488</td>\n",
       "      <td>0.045799</td>\n",
       "      <td>-0.019971</td>\n",
       "      <td>...</td>\n",
       "      <td>0.0</td>\n",
       "      <td>0.0</td>\n",
       "      <td>1.0</td>\n",
       "      <td>1.0</td>\n",
       "      <td>1.0</td>\n",
       "      <td>1.0</td>\n",
       "      <td>1.0</td>\n",
       "      <td>0.0</td>\n",
       "      <td>0.0</td>\n",
       "      <td>0.0</td>\n",
       "    </tr>\n",
       "    <tr>\n",
       "      <th>1</th>\n",
       "      <td>2</td>\n",
       "      <td>0</td>\n",
       "      <td>0.04</td>\n",
       "      <td>0.98</td>\n",
       "      <td>1</td>\n",
       "      <td>0.012176</td>\n",
       "      <td>-0.017202</td>\n",
       "      <td>-0.999778</td>\n",
       "      <td>0.035786</td>\n",
       "      <td>-0.044246</td>\n",
       "      <td>...</td>\n",
       "      <td>0.0</td>\n",
       "      <td>0.0</td>\n",
       "      <td>1.0</td>\n",
       "      <td>1.0</td>\n",
       "      <td>1.0</td>\n",
       "      <td>1.0</td>\n",
       "      <td>1.0</td>\n",
       "      <td>1.0</td>\n",
       "      <td>0.0</td>\n",
       "      <td>0.0</td>\n",
       "    </tr>\n",
       "    <tr>\n",
       "      <th>2</th>\n",
       "      <td>3</td>\n",
       "      <td>0</td>\n",
       "      <td>0.08</td>\n",
       "      <td>0.98</td>\n",
       "      <td>1</td>\n",
       "      <td>0.003201</td>\n",
       "      <td>0.007913</td>\n",
       "      <td>-0.999964</td>\n",
       "      <td>0.030401</td>\n",
       "      <td>-0.016860</td>\n",
       "      <td>...</td>\n",
       "      <td>0.0</td>\n",
       "      <td>1.0</td>\n",
       "      <td>1.0</td>\n",
       "      <td>1.0</td>\n",
       "      <td>1.0</td>\n",
       "      <td>0.0</td>\n",
       "      <td>1.0</td>\n",
       "      <td>1.0</td>\n",
       "      <td>0.0</td>\n",
       "      <td>0.0</td>\n",
       "    </tr>\n",
       "    <tr>\n",
       "      <th>3</th>\n",
       "      <td>4</td>\n",
       "      <td>0</td>\n",
       "      <td>0.12</td>\n",
       "      <td>0.98</td>\n",
       "      <td>1</td>\n",
       "      <td>0.011002</td>\n",
       "      <td>0.017785</td>\n",
       "      <td>-0.999781</td>\n",
       "      <td>-0.066090</td>\n",
       "      <td>-0.075202</td>\n",
       "      <td>...</td>\n",
       "      <td>0.0</td>\n",
       "      <td>1.0</td>\n",
       "      <td>1.0</td>\n",
       "      <td>1.0</td>\n",
       "      <td>1.0</td>\n",
       "      <td>1.0</td>\n",
       "      <td>1.0</td>\n",
       "      <td>0.0</td>\n",
       "      <td>0.0</td>\n",
       "      <td>0.0</td>\n",
       "    </tr>\n",
       "    <tr>\n",
       "      <th>4</th>\n",
       "      <td>5</td>\n",
       "      <td>0</td>\n",
       "      <td>0.16</td>\n",
       "      <td>0.98</td>\n",
       "      <td>1</td>\n",
       "      <td>0.060468</td>\n",
       "      <td>0.055646</td>\n",
       "      <td>-0.996618</td>\n",
       "      <td>-0.093641</td>\n",
       "      <td>0.164191</td>\n",
       "      <td>...</td>\n",
       "      <td>0.0</td>\n",
       "      <td>1.0</td>\n",
       "      <td>1.0</td>\n",
       "      <td>1.0</td>\n",
       "      <td>1.0</td>\n",
       "      <td>1.0</td>\n",
       "      <td>1.0</td>\n",
       "      <td>0.0</td>\n",
       "      <td>0.0</td>\n",
       "      <td>0.0</td>\n",
       "    </tr>\n",
       "  </tbody>\n",
       "</table>\n",
       "<p>5 rows × 714 columns</p>\n",
       "</div>"
      ],
      "text/plain": [
       "   frame  face_id  timestamp  confidence  success  gaze_0_x  gaze_0_y  \\\n",
       "0      1        0       0.00        0.98        1  0.028242  0.015028   \n",
       "1      2        0       0.04        0.98        1  0.012176 -0.017202   \n",
       "2      3        0       0.08        0.98        1  0.003201  0.007913   \n",
       "3      4        0       0.12        0.98        1  0.011002  0.017785   \n",
       "4      5        0       0.16        0.98        1  0.060468  0.055646   \n",
       "\n",
       "   gaze_0_z  gaze_1_x  gaze_1_y   ...    AU12_c  AU14_c  AU15_c  AU17_c  \\\n",
       "0 -0.999488  0.045799 -0.019971   ...       0.0     0.0     1.0     1.0   \n",
       "1 -0.999778  0.035786 -0.044246   ...       0.0     0.0     1.0     1.0   \n",
       "2 -0.999964  0.030401 -0.016860   ...       0.0     1.0     1.0     1.0   \n",
       "3 -0.999781 -0.066090 -0.075202   ...       0.0     1.0     1.0     1.0   \n",
       "4 -0.996618 -0.093641  0.164191   ...       0.0     1.0     1.0     1.0   \n",
       "\n",
       "   AU20_c  AU23_c  AU25_c  AU26_c  AU28_c  AU45_c  \n",
       "0     1.0     1.0     1.0     0.0     0.0     0.0  \n",
       "1     1.0     1.0     1.0     1.0     0.0     0.0  \n",
       "2     1.0     0.0     1.0     1.0     0.0     0.0  \n",
       "3     1.0     1.0     1.0     0.0     0.0     0.0  \n",
       "4     1.0     1.0     1.0     0.0     0.0     0.0  \n",
       "\n",
       "[5 rows x 714 columns]"
      ]
     },
     "execution_count": 7,
     "metadata": {},
     "output_type": "execute_result"
    }
   ],
   "source": [
    "openface_features.head(5)"
   ]
  },
  {
   "cell_type": "code",
   "execution_count": 8,
   "metadata": {},
   "outputs": [
    {
     "data": {
      "text/plain": [
       "(5036, 714)"
      ]
     },
     "execution_count": 8,
     "metadata": {},
     "output_type": "execute_result"
    }
   ],
   "source": [
    "openface_features.shape\n"
   ]
  },
  {
   "cell_type": "code",
   "execution_count": null,
   "metadata": {},
   "outputs": [],
   "source": []
  },
  {
   "cell_type": "markdown",
   "metadata": {},
   "source": [
    "## 2. Load feature data from audio"
   ]
  },
  {
   "cell_type": "markdown",
   "metadata": {},
   "source": [
    "Process data with Librosa in pandas dataframe: So far copied from: https://github.com/emrecdem/explibrosa/blob/master/TUTORIALS/tutorial1.ipynb"
   ]
  },
  {
   "cell_type": "code",
   "execution_count": 9,
   "metadata": {},
   "outputs": [],
   "source": [
    "import matplotlib.pyplot as plt\n",
    "import os\n",
    "import explibrosa"
   ]
  },
  {
   "cell_type": "code",
   "execution_count": 10,
   "metadata": {},
   "outputs": [
    {
     "data": {
      "text/plain": [
       "'0.0.0.dev1'"
      ]
     },
     "execution_count": 10,
     "metadata": {},
     "output_type": "execute_result"
    }
   ],
   "source": [
    "explibrosa.__version__"
   ]
  },
  {
   "cell_type": "markdown",
   "metadata": {},
   "source": [
    "Find wav file that matches the csv file produced by OpenFace based on the assumption that filenames are identical except from file extension"
   ]
  },
  {
   "cell_type": "code",
   "execution_count": 11,
   "metadata": {},
   "outputs": [],
   "source": [
    "transformfilename = filenames[0]"
   ]
  },
  {
   "cell_type": "code",
   "execution_count": 12,
   "metadata": {},
   "outputs": [
    {
     "data": {
      "text/plain": [
       "'P18_S2_IAPS_HAPPY_Cfront.csv'"
      ]
     },
     "execution_count": 12,
     "metadata": {},
     "output_type": "execute_result"
    }
   ],
   "source": [
    "transformfilename"
   ]
  },
  {
   "cell_type": "code",
   "execution_count": 13,
   "metadata": {},
   "outputs": [],
   "source": [
    "audiofile_name = transformfilename.replace('.csv','.wav').replace('_Cfront','').replace('_Cside','')"
   ]
  },
  {
   "cell_type": "code",
   "execution_count": 14,
   "metadata": {},
   "outputs": [
    {
     "data": {
      "text/plain": [
       "'P18_S2_IAPS_HAPPY.wav'"
      ]
     },
     "execution_count": 14,
     "metadata": {},
     "output_type": "execute_result"
    }
   ],
   "source": [
    "audiofile_name "
   ]
  },
  {
   "cell_type": "code",
   "execution_count": 15,
   "metadata": {},
   "outputs": [],
   "source": [
    "import subprocess\n",
    " \n",
    "# Set up find command\n",
    "findCMD = 'find ' + emrecdemStudyDataFolder + ' -name ' + audiofile_name \n",
    "out = subprocess.Popen(findCMD,shell=True,stdin=subprocess.PIPE, \n",
    "                        stdout=subprocess.PIPE,stderr=subprocess.PIPE)\n",
    "# Get standard out and error\n",
    "(stdout, stderr) = out.communicate()\n",
    " \n",
    "# Save found files to list\n",
    "filelist = stdout.decode().split()"
   ]
  },
  {
   "cell_type": "code",
   "execution_count": 16,
   "metadata": {},
   "outputs": [],
   "source": [
    "audiofiles_fullPaths = filelist # probably the list has only one filename\n",
    "audio_file = audiofiles_fullPaths[0]"
   ]
  },
  {
   "cell_type": "code",
   "execution_count": 17,
   "metadata": {},
   "outputs": [
    {
     "data": {
      "text/plain": [
       "True"
      ]
     },
     "execution_count": 17,
     "metadata": {},
     "output_type": "execute_result"
    }
   ],
   "source": [
    "os.path.isfile(audio_file)"
   ]
  },
  {
   "cell_type": "code",
   "execution_count": 18,
   "metadata": {},
   "outputs": [
    {
     "data": {
      "text/plain": [
       "{'#frames': 3223486, 'duration (min)': 3.4, 'Sample freq (kHz)': 16.0}"
      ]
     },
     "execution_count": 18,
     "metadata": {},
     "output_type": "execute_result"
    }
   ],
   "source": [
    "explibrosa.get_info(audio_file)"
   ]
  },
  {
   "cell_type": "code",
   "execution_count": 19,
   "metadata": {},
   "outputs": [
    {
     "name": "stdout",
     "output_type": "stream",
     "text": [
      "Running librosa (no results found on disk)\n",
      "RMS energy\n",
      "     0.29 seconds\n",
      "Zero crossing\n",
      "     0.36 seconds\n",
      "Pitches\n",
      "     3.07 seconds\n",
      "  Pitches smoothing\n",
      "     3.2 seconds\n",
      "TOTAL execution time: 0.05 min\n"
     ]
    }
   ],
   "source": [
    "\n",
    "time_series = explibrosa.get_feature_time_series(audio_file)"
   ]
  },
  {
   "cell_type": "code",
   "execution_count": 20,
   "metadata": {},
   "outputs": [
    {
     "data": {
      "text/html": [
       "<div>\n",
       "<style scoped>\n",
       "    .dataframe tbody tr th:only-of-type {\n",
       "        vertical-align: middle;\n",
       "    }\n",
       "\n",
       "    .dataframe tbody tr th {\n",
       "        vertical-align: top;\n",
       "    }\n",
       "\n",
       "    .dataframe thead th {\n",
       "        text-align: right;\n",
       "    }\n",
       "</style>\n",
       "<table border=\"1\" class=\"dataframe\">\n",
       "  <thead>\n",
       "    <tr style=\"text-align: right;\">\n",
       "      <th></th>\n",
       "      <th>timestamp</th>\n",
       "      <th>rmse</th>\n",
       "      <th>zrc</th>\n",
       "      <th>pitch</th>\n",
       "    </tr>\n",
       "  </thead>\n",
       "  <tbody>\n",
       "    <tr>\n",
       "      <th>0</th>\n",
       "      <td>0.000000</td>\n",
       "      <td>0.013185</td>\n",
       "      <td>0.038095</td>\n",
       "      <td>186.620880</td>\n",
       "    </tr>\n",
       "    <tr>\n",
       "      <th>1</th>\n",
       "      <td>0.010000</td>\n",
       "      <td>0.012107</td>\n",
       "      <td>0.066667</td>\n",
       "      <td>185.620404</td>\n",
       "    </tr>\n",
       "    <tr>\n",
       "      <th>2</th>\n",
       "      <td>0.020001</td>\n",
       "      <td>0.010913</td>\n",
       "      <td>0.052381</td>\n",
       "      <td>184.326650</td>\n",
       "    </tr>\n",
       "    <tr>\n",
       "      <th>3</th>\n",
       "      <td>0.030001</td>\n",
       "      <td>0.011290</td>\n",
       "      <td>0.052381</td>\n",
       "      <td>182.657746</td>\n",
       "    </tr>\n",
       "    <tr>\n",
       "      <th>4</th>\n",
       "      <td>0.040002</td>\n",
       "      <td>0.010963</td>\n",
       "      <td>0.042857</td>\n",
       "      <td>180.606069</td>\n",
       "    </tr>\n",
       "  </tbody>\n",
       "</table>\n",
       "</div>"
      ],
      "text/plain": [
       "   timestamp      rmse       zrc       pitch\n",
       "0   0.000000  0.013185  0.038095  186.620880\n",
       "1   0.010000  0.012107  0.066667  185.620404\n",
       "2   0.020001  0.010913  0.052381  184.326650\n",
       "3   0.030001  0.011290  0.052381  182.657746\n",
       "4   0.040002  0.010963  0.042857  180.606069"
      ]
     },
     "execution_count": 20,
     "metadata": {},
     "output_type": "execute_result"
    }
   ],
   "source": [
    "time_series.head()"
   ]
  },
  {
   "cell_type": "code",
   "execution_count": 21,
   "metadata": {},
   "outputs": [
    {
     "data": {
      "text/plain": [
       "pandas.core.frame.DataFrame"
      ]
     },
     "execution_count": 21,
     "metadata": {},
     "output_type": "execute_result"
    }
   ],
   "source": [
    "type(time_series)"
   ]
  },
  {
   "cell_type": "code",
   "execution_count": 22,
   "metadata": {},
   "outputs": [],
   "source": [
    "from scipy import signal"
   ]
  },
  {
   "cell_type": "code",
   "execution_count": 23,
   "metadata": {},
   "outputs": [
    {
     "data": {
      "text/plain": [
       "pandas.core.series.Series"
      ]
     },
     "execution_count": 23,
     "metadata": {},
     "output_type": "execute_result"
    }
   ],
   "source": [
    "type(time_series.timestamp)"
   ]
  },
  {
   "cell_type": "markdown",
   "metadata": {},
   "source": [
    "### Downsample the time_series pandas dataframe"
   ]
  },
  {
   "cell_type": "code",
   "execution_count": 24,
   "metadata": {},
   "outputs": [],
   "source": [
    "# Convert timestamps to datetime format in order to be able to do resampe\n",
    "import datetime as dt\n",
    "import numpy as np"
   ]
  },
  {
   "cell_type": "code",
   "execution_count": 25,
   "metadata": {},
   "outputs": [],
   "source": [
    "Nvalues = len(time_series.index)\n",
    "samplerate = 1/ ((time_series.timestamp[Nvalues-1] - time_series.timestamp[0]) / Nvalues)"
   ]
  },
  {
   "cell_type": "code",
   "execution_count": 26,
   "metadata": {},
   "outputs": [],
   "source": [
    "# Create dummy timeseries to replace the timestamps column with datetime type timestamps \n",
    "timenow = dt.datetime.now()\n",
    "\n",
    "start = pd.Timestamp(timenow)\n",
    "end = pd.Timestamp(timenow + dt.timedelta(seconds=Nvalues/samplerate))"
   ]
  },
  {
   "cell_type": "code",
   "execution_count": 27,
   "metadata": {},
   "outputs": [],
   "source": [
    "t = np.linspace(start.value, end.value, Nvalues)\n",
    "t = pd.to_datetime(t)\n",
    "time_series['timestamp2'] = t"
   ]
  },
  {
   "cell_type": "code",
   "execution_count": 28,
   "metadata": {},
   "outputs": [
    {
     "data": {
      "text/html": [
       "<div>\n",
       "<style scoped>\n",
       "    .dataframe tbody tr th:only-of-type {\n",
       "        vertical-align: middle;\n",
       "    }\n",
       "\n",
       "    .dataframe tbody tr th {\n",
       "        vertical-align: top;\n",
       "    }\n",
       "\n",
       "    .dataframe thead th {\n",
       "        text-align: right;\n",
       "    }\n",
       "</style>\n",
       "<table border=\"1\" class=\"dataframe\">\n",
       "  <thead>\n",
       "    <tr style=\"text-align: right;\">\n",
       "      <th></th>\n",
       "      <th>timestamp</th>\n",
       "      <th>rmse</th>\n",
       "      <th>zrc</th>\n",
       "      <th>pitch</th>\n",
       "      <th>timestamp2</th>\n",
       "    </tr>\n",
       "  </thead>\n",
       "  <tbody>\n",
       "    <tr>\n",
       "      <th>0</th>\n",
       "      <td>0.000000</td>\n",
       "      <td>0.013185</td>\n",
       "      <td>0.038095</td>\n",
       "      <td>186.620880</td>\n",
       "      <td>2019-01-30 16:04:49.856816896</td>\n",
       "    </tr>\n",
       "    <tr>\n",
       "      <th>1</th>\n",
       "      <td>0.010000</td>\n",
       "      <td>0.012107</td>\n",
       "      <td>0.066667</td>\n",
       "      <td>185.620404</td>\n",
       "      <td>2019-01-30 16:04:49.866817280</td>\n",
       "    </tr>\n",
       "    <tr>\n",
       "      <th>2</th>\n",
       "      <td>0.020001</td>\n",
       "      <td>0.010913</td>\n",
       "      <td>0.052381</td>\n",
       "      <td>184.326650</td>\n",
       "      <td>2019-01-30 16:04:49.876817920</td>\n",
       "    </tr>\n",
       "    <tr>\n",
       "      <th>3</th>\n",
       "      <td>0.030001</td>\n",
       "      <td>0.011290</td>\n",
       "      <td>0.052381</td>\n",
       "      <td>182.657746</td>\n",
       "      <td>2019-01-30 16:04:49.886818304</td>\n",
       "    </tr>\n",
       "    <tr>\n",
       "      <th>4</th>\n",
       "      <td>0.040002</td>\n",
       "      <td>0.010963</td>\n",
       "      <td>0.042857</td>\n",
       "      <td>180.606069</td>\n",
       "      <td>2019-01-30 16:04:49.896818944</td>\n",
       "    </tr>\n",
       "  </tbody>\n",
       "</table>\n",
       "</div>"
      ],
      "text/plain": [
       "   timestamp      rmse       zrc       pitch                    timestamp2\n",
       "0   0.000000  0.013185  0.038095  186.620880 2019-01-30 16:04:49.856816896\n",
       "1   0.010000  0.012107  0.066667  185.620404 2019-01-30 16:04:49.866817280\n",
       "2   0.020001  0.010913  0.052381  184.326650 2019-01-30 16:04:49.876817920\n",
       "3   0.030001  0.011290  0.052381  182.657746 2019-01-30 16:04:49.886818304\n",
       "4   0.040002  0.010963  0.042857  180.606069 2019-01-30 16:04:49.896818944"
      ]
     },
     "execution_count": 28,
     "metadata": {},
     "output_type": "execute_result"
    }
   ],
   "source": [
    "time_series.head()"
   ]
  },
  {
   "cell_type": "code",
   "execution_count": 29,
   "metadata": {},
   "outputs": [
    {
     "data": {
      "text/html": [
       "<div>\n",
       "<style scoped>\n",
       "    .dataframe tbody tr th:only-of-type {\n",
       "        vertical-align: middle;\n",
       "    }\n",
       "\n",
       "    .dataframe tbody tr th {\n",
       "        vertical-align: top;\n",
       "    }\n",
       "\n",
       "    .dataframe thead th {\n",
       "        text-align: right;\n",
       "    }\n",
       "</style>\n",
       "<table border=\"1\" class=\"dataframe\">\n",
       "  <thead>\n",
       "    <tr style=\"text-align: right;\">\n",
       "      <th></th>\n",
       "      <th>timestamp</th>\n",
       "      <th>rmse</th>\n",
       "      <th>zrc</th>\n",
       "      <th>pitch</th>\n",
       "    </tr>\n",
       "    <tr>\n",
       "      <th>timestamp2</th>\n",
       "      <th></th>\n",
       "      <th></th>\n",
       "      <th></th>\n",
       "      <th></th>\n",
       "    </tr>\n",
       "  </thead>\n",
       "  <tbody>\n",
       "    <tr>\n",
       "      <th>2019-01-30 16:04:49.800</th>\n",
       "      <td>0.070003</td>\n",
       "      <td>0.008595</td>\n",
       "      <td>0.109841</td>\n",
       "      <td>204.026116</td>\n",
       "    </tr>\n",
       "    <tr>\n",
       "      <th>2019-01-30 16:04:50.000</th>\n",
       "      <td>0.245012</td>\n",
       "      <td>0.009190</td>\n",
       "      <td>0.139762</td>\n",
       "      <td>320.064795</td>\n",
       "    </tr>\n",
       "    <tr>\n",
       "      <th>2019-01-30 16:04:50.200</th>\n",
       "      <td>0.445022</td>\n",
       "      <td>0.003651</td>\n",
       "      <td>0.185238</td>\n",
       "      <td>242.428636</td>\n",
       "    </tr>\n",
       "    <tr>\n",
       "      <th>2019-01-30 16:04:50.400</th>\n",
       "      <td>0.645032</td>\n",
       "      <td>0.005303</td>\n",
       "      <td>0.185476</td>\n",
       "      <td>210.402133</td>\n",
       "    </tr>\n",
       "    <tr>\n",
       "      <th>2019-01-30 16:04:50.600</th>\n",
       "      <td>0.845042</td>\n",
       "      <td>0.023773</td>\n",
       "      <td>0.137857</td>\n",
       "      <td>311.804865</td>\n",
       "    </tr>\n",
       "  </tbody>\n",
       "</table>\n",
       "</div>"
      ],
      "text/plain": [
       "                         timestamp      rmse       zrc       pitch\n",
       "timestamp2                                                        \n",
       "2019-01-30 16:04:49.800   0.070003  0.008595  0.109841  204.026116\n",
       "2019-01-30 16:04:50.000   0.245012  0.009190  0.139762  320.064795\n",
       "2019-01-30 16:04:50.200   0.445022  0.003651  0.185238  242.428636\n",
       "2019-01-30 16:04:50.400   0.645032  0.005303  0.185476  210.402133\n",
       "2019-01-30 16:04:50.600   0.845042  0.023773  0.137857  311.804865"
      ]
     },
     "execution_count": 29,
     "metadata": {},
     "output_type": "execute_result"
    }
   ],
   "source": [
    "time_series = time_series.resample('0.2S',on='timestamp2').mean() # downsample to 0.2 second intervals\n",
    "time_series.head()"
   ]
  },
  {
   "cell_type": "markdown",
   "metadata": {},
   "source": [
    "## 3. Store in database"
   ]
  },
  {
   "cell_type": "code",
   "execution_count": null,
   "metadata": {},
   "outputs": [],
   "source": []
  },
  {
   "cell_type": "markdown",
   "metadata": {},
   "source": [
    "\n",
    "http://www.sqlitetutorial.net/sqlite-python/create-tables/"
   ]
  },
  {
   "cell_type": "code",
   "execution_count": 30,
   "metadata": {},
   "outputs": [],
   "source": [
    "import sqlite3"
   ]
  },
  {
   "cell_type": "code",
   "execution_count": 31,
   "metadata": {},
   "outputs": [],
   "source": [
    "def create_connection(db_file):\n",
    "    \"\"\" create a database connection to the SQLite database\n",
    "        specified by db_file\n",
    "    :param db_file: database file\n",
    "    :return: Connection object or None\n",
    "    \"\"\"\n",
    "    try:\n",
    "        conn = sqlite3.connect(db_file)\n",
    "        return conn\n",
    "    except Error as e:\n",
    "        print(e)\n",
    " \n",
    "    return None"
   ]
  },
  {
   "cell_type": "code",
   "execution_count": 32,
   "metadata": {},
   "outputs": [],
   "source": [
    "def create_table(conn, create_table_sql):\n",
    "    \"\"\" create a table from the create_table_sql statement\n",
    "    :param conn: Connection object\n",
    "    :param create_table_sql: a CREATE TABLE statement\n",
    "    :return:\n",
    "    \"\"\"\n",
    "    try:\n",
    "        c = conn.cursor()\n",
    "        c.execute(create_table_sql)\n",
    "    except Error as e:\n",
    "        print(e)"
   ]
  },
  {
   "cell_type": "code",
   "execution_count": 33,
   "metadata": {},
   "outputs": [],
   "source": [
    "def main():\n",
    "    database = \"/media/sf_sharedfolder/Emotion/emrecdemstudydata/emrecdemdb.db\"\n",
    "     \n",
    "    sql_create_participants_table = \"\"\" CREATE TABLE IF NOT EXISTS participants (\n",
    "                                        id integer PRIMARY KEY,\n",
    "                                        age real\n",
    "                                    ); \"\"\"\n",
    "    \n",
    "    sql_create_experiments_table = \"\"\" CREATE TABLE IF NOT EXISTS experiments (\n",
    "                                        id integer PRIMARY KEY,\n",
    "                                        name text NOT NULL\n",
    "                                    ); \"\"\"\n",
    "    sql_create_videofeatures_table = \"\"\" CREATE TABLE IF NOT EXISTS videofeatures (\n",
    "                                        id integer PRIMARY KEY,\n",
    "                                        participant_id integer NOT NULL,\n",
    "                                        experiment_id integer NOT NULL,\n",
    "                                        AU01 real,\n",
    "                                        AU02 real,\n",
    "                                        AU03 real,\n",
    "                                        AU04 real,\n",
    "                                        FOREIGN KEY (participant_id) REFERENCES participants (id),\n",
    "                                        FOREIGN KEY (experiment_id) REFERENCES experiments (id)\n",
    "                                    ); \"\"\"\n",
    "    \n",
    "    sql_create_audiofeatures_table = \"\"\" CREATE TABLE IF NOT EXISTS audiofeatures (\n",
    "                                        id integer PRIMARY KEY,\n",
    "                                        participant_id integer NOT NULL,\n",
    "                                        experiment_id integer NOT NULL,\n",
    "                                        pitch real,\n",
    "                                        rmse real,\n",
    "                                        zcrate real,\n",
    "                                        FOREIGN KEY (participant_id) REFERENCES participants (id),\n",
    "                                        FOREIGN KEY (experiment_id) REFERENCES experiments (id)\n",
    "                                    ); \"\"\"\n",
    "        \n",
    "    sql_create_facslabels_table = \"\"\" CREATE TABLE IF NOT EXISTS facslabels (\n",
    "                                        id integer PRIMARY KEY,\n",
    "                                        name text NOT NULL\n",
    "                                    ); \"\"\"\n",
    " \n",
    "    sql_create_facsencoding_table = \"\"\"CREATE TABLE IF NOT EXISTS tasks (\n",
    "                                    id integer PRIMARY KEY,\n",
    "                                    participant_id integer NOT NULL,\n",
    "                                    experiment_id integer NOT NULL,\n",
    "                                    emotion_id integer NOT NULL,\n",
    "                                    FOREIGN KEY (participant_id) REFERENCES participants (id),\n",
    "                                    FOREIGN KEY (experiment_id) REFERENCES experiments (id),\n",
    "                                    FOREIGN KEY (emotion_id) REFERENCES facslabels (id)\n",
    "                                );\"\"\"\n",
    " \n",
    "    # create a database connection\n",
    "    conn = create_connection(database)\n",
    "    if conn is not None:\n",
    "        # create participants table\n",
    "        create_table(conn, sql_create_participants_table)\n",
    "        # create experiments table\n",
    "        create_table(conn, sql_create_experiments_table)\n",
    "        create_table(conn, sql_create_videofeatures_table)\n",
    "        create_table(conn, sql_create_audiofeatures_table)\n",
    "        create_table(conn, sql_create_facslabels_table)\n",
    "        create_table(conn, sql_create_facsencoding_table)\n",
    "    else:\n",
    "        print(\"Error! cannot create the database connection.\")"
   ]
  },
  {
   "cell_type": "code",
   "execution_count": 34,
   "metadata": {},
   "outputs": [],
   "source": [
    "\n",
    "if __name__ == '__main__':\n",
    "    main()"
   ]
  },
  {
   "cell_type": "code",
   "execution_count": 35,
   "metadata": {},
   "outputs": [],
   "source": [
    "# Now on command line: sqlite3 pathtomydatabase.db\n",
    "# should give access to database\n",
    "# and .tables should show overview of the tables as created"
   ]
  },
  {
   "cell_type": "markdown",
   "metadata": {},
   "source": [
    "### To do Video:\n",
    "- Strip away irrelevant information, e.g. make selection of features of interest.\n",
    "\n",
    "### To do Video + Audio:\n",
    "- Optionally downsample to minimally acceptable resolution, e.g. 10 Hertz.\n",
    "- Retrieve participant ID from files and store these together with data and filename in database.\n",
    "- Develop demo for searchability\n"
   ]
  },
  {
   "cell_type": "code",
   "execution_count": null,
   "metadata": {},
   "outputs": [],
   "source": []
  }
 ],
 "metadata": {
  "kernelspec": {
   "display_name": "Python 3",
   "language": "python",
   "name": "python3"
  },
  "language_info": {
   "codemirror_mode": {
    "name": "ipython",
    "version": 3
   },
   "file_extension": ".py",
   "mimetype": "text/x-python",
   "name": "python",
   "nbconvert_exporter": "python",
   "pygments_lexer": "ipython3",
   "version": "3.7.1"
  }
 },
 "nbformat": 4,
 "nbformat_minor": 2
}
