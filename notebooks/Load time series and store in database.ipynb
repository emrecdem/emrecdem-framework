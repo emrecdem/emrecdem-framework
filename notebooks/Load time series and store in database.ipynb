{
 "cells": [
  {
   "cell_type": "code",
   "execution_count": 1,
   "metadata": {},
   "outputs": [],
   "source": [
    "# general functions:\n",
    "def downsample(time_series,res = '0.2S'):\n",
    "    # downsamples time_series pandas data frame \n",
    "    # time_series: a pandas data.frame for which there is a column 'timestamps' with numeric timestamps\n",
    "    # res: desired resolution in time after downsampling\n",
    "    Nvalues = len(time_series.index)\n",
    "    samplerate = 1/ ((time_series.timestamp[Nvalues-1] - time_series.timestamp[0]) / Nvalues)\n",
    "    timestart = dt.datetime(1970, 1, 1, 0, 0, 0, 0) #dt.datetime.now()\n",
    "    start = pd.Timestamp(timestart)\n",
    "    end = pd.Timestamp(timestart + dt.timedelta(seconds=Nvalues/samplerate))\n",
    "    t = np.linspace(start.value, end.value, Nvalues)\n",
    "    t = pd.to_datetime(t)\n",
    "    time_series['time'] = t\n",
    "    time_series = time_series.resample(res,on='time').mean() # downsample to 0.2 second intervals\n",
    "    time_series.index.name = 'time'\n",
    "    time_series.reset_index(inplace=True)\n",
    "    return time_series"
   ]
  },
  {
   "cell_type": "markdown",
   "metadata": {},
   "source": [
    "# Merge features from various modalities into single database\n",
    "\n",
    "## 1. Load feature data from Video"
   ]
  },
  {
   "cell_type": "markdown",
   "metadata": {},
   "source": [
    "Load OpenFace output data and load features in pandas dataframe: So far copied from: https://github.com/emrecdem/exploface/blob/master/TUTORIALS/tutorial1.ipynb"
   ]
  },
  {
   "cell_type": "code",
   "execution_count": 2,
   "metadata": {},
   "outputs": [],
   "source": [
    "import pandas as pd\n",
    "import matplotlib.pyplot as plt\n",
    "import exploface\n",
    "import datetime as dt\n",
    "import numpy as np"
   ]
  },
  {
   "cell_type": "code",
   "execution_count": 3,
   "metadata": {},
   "outputs": [
    {
     "data": {
      "text/plain": [
       "'0.0.0.dev6'"
      ]
     },
     "execution_count": 3,
     "metadata": {},
     "output_type": "execute_result"
    }
   ],
   "source": [
    "exploface.__version__"
   ]
  },
  {
   "cell_type": "code",
   "execution_count": 4,
   "metadata": {},
   "outputs": [],
   "source": [
    "# specify some paths\n",
    "emrecdemStudyDataFolder = \"/media/sf_sharedfolder/Emotion/emrecdemstudydata\"\n",
    "openface_outputfolder = emrecdemStudyDataFolder + \"/OpenFaceOutput\""
   ]
  },
  {
   "cell_type": "code",
   "execution_count": 5,
   "metadata": {},
   "outputs": [],
   "source": [
    "# Search for files with csv extension, because we are only interested in those\n",
    "# This assumes that there are no other csv files in folder other than the ones produced by OpenFace.\n",
    "from os import listdir\n",
    "\n",
    "def find_csv_filenames( path_to_dir, suffix=\".csv\" ):\n",
    "    filenames = listdir(path_to_dir)\n",
    "    return [ filename for filename in filenames if filename.endswith( suffix ) ]\n",
    "\n",
    "filenames = find_csv_filenames(openface_outputfolder)"
   ]
  },
  {
   "cell_type": "code",
   "execution_count": 6,
   "metadata": {},
   "outputs": [
    {
     "data": {
      "text/plain": [
       "['P18_S2_IAPS_HAPPY_Cfront.csv',\n",
       " 'P18_S2_IAPS_SAD_Cfront.csv',\n",
       " 'P21_S2_IAPS_HAPPY_C1.csv',\n",
       " 'P21_S2_IAPS_SAD_C1.csv']"
      ]
     },
     "execution_count": 6,
     "metadata": {},
     "output_type": "execute_result"
    }
   ],
   "source": [
    "filenames"
   ]
  },
  {
   "cell_type": "code",
   "execution_count": 7,
   "metadata": {},
   "outputs": [],
   "source": [
    "# Potential loop over filenames, for now just one index\n",
    "fileindex = 2\n",
    "deleteDataBaseEntries = False"
   ]
  },
  {
   "cell_type": "code",
   "execution_count": 8,
   "metadata": {},
   "outputs": [],
   "source": [
    "# select one file to process (in the future this can be a loop over all the files)\n",
    "openface_file = openface_outputfolder + '/' + filenames[fileindex]\n",
    "openface_features = exploface.get_feature_time_series(openface_file)"
   ]
  },
  {
   "cell_type": "code",
   "execution_count": 9,
   "metadata": {},
   "outputs": [],
   "source": [
    "# extract participant id (PID) and experiment id (EXP) from filename:\n",
    "PID = filenames[fileindex].split(\"_\")[0].split(\"P\")[1]\n",
    "EXP = ''.join(filenames[fileindex].split(\"_\")[1:4]) # extract integers from filename"
   ]
  },
  {
   "cell_type": "code",
   "execution_count": 10,
   "metadata": {},
   "outputs": [
    {
     "name": "stdout",
     "output_type": "stream",
     "text": [
      "S2IAPSHAPPY\n"
     ]
    }
   ],
   "source": [
    "EXP = EXP.split(\".csv\")[0] # remove .csv at the end\n",
    "print(EXP)"
   ]
  },
  {
   "cell_type": "code",
   "execution_count": 11,
   "metadata": {},
   "outputs": [
    {
     "data": {
      "text/plain": [
       "'21'"
      ]
     },
     "execution_count": 11,
     "metadata": {},
     "output_type": "execute_result"
    }
   ],
   "source": [
    "PID"
   ]
  },
  {
   "cell_type": "code",
   "execution_count": 12,
   "metadata": {},
   "outputs": [],
   "source": [
    "openface_features = downsample(openface_features,res = '0.2S')"
   ]
  },
  {
   "cell_type": "code",
   "execution_count": 13,
   "metadata": {},
   "outputs": [],
   "source": [
    "# tidy up data frame:\n",
    "filter_col = [col for col in openface_features if col.startswith('AU')]\n",
    "filter_col.insert(0,'time')\n",
    "filter_col.insert(0,'participant_id')\n",
    "filter_col.insert(0,'experiment_id')\n",
    "openface_features['participant_id'] = PID\n",
    "openface_features['experiment_id'] = EXP\n",
    "openface_features = openface_features[filter_col]\n",
    "openface_features.columns = openface_features.columns.str.replace('_', '')\n",
    "openface_features = openface_features.rename(columns = {'experimentid':'experiment_id'})\n",
    "openface_features = openface_features.rename(columns = {'participantid':'participant_id'})"
   ]
  },
  {
   "cell_type": "code",
   "execution_count": 14,
   "metadata": {},
   "outputs": [
    {
     "data": {
      "text/html": [
       "<div>\n",
       "<style scoped>\n",
       "    .dataframe tbody tr th:only-of-type {\n",
       "        vertical-align: middle;\n",
       "    }\n",
       "\n",
       "    .dataframe tbody tr th {\n",
       "        vertical-align: top;\n",
       "    }\n",
       "\n",
       "    .dataframe thead th {\n",
       "        text-align: right;\n",
       "    }\n",
       "</style>\n",
       "<table border=\"1\" class=\"dataframe\">\n",
       "  <thead>\n",
       "    <tr style=\"text-align: right;\">\n",
       "      <th></th>\n",
       "      <th>experiment_id</th>\n",
       "      <th>participant_id</th>\n",
       "      <th>time</th>\n",
       "      <th>AU01r</th>\n",
       "      <th>AU02r</th>\n",
       "      <th>AU04r</th>\n",
       "      <th>AU05r</th>\n",
       "      <th>AU06r</th>\n",
       "      <th>AU07r</th>\n",
       "      <th>AU09r</th>\n",
       "      <th>...</th>\n",
       "      <th>AU12c</th>\n",
       "      <th>AU14c</th>\n",
       "      <th>AU15c</th>\n",
       "      <th>AU17c</th>\n",
       "      <th>AU20c</th>\n",
       "      <th>AU23c</th>\n",
       "      <th>AU25c</th>\n",
       "      <th>AU26c</th>\n",
       "      <th>AU28c</th>\n",
       "      <th>AU45c</th>\n",
       "    </tr>\n",
       "  </thead>\n",
       "  <tbody>\n",
       "    <tr>\n",
       "      <th>0</th>\n",
       "      <td>S2IAPSHAPPY</td>\n",
       "      <td>21</td>\n",
       "      <td>1970-01-01 00:00:00.000</td>\n",
       "      <td>0.02</td>\n",
       "      <td>0.0</td>\n",
       "      <td>2.496</td>\n",
       "      <td>0.478</td>\n",
       "      <td>1.148</td>\n",
       "      <td>2.074</td>\n",
       "      <td>0.368</td>\n",
       "      <td>...</td>\n",
       "      <td>0.0</td>\n",
       "      <td>0.0</td>\n",
       "      <td>0.0</td>\n",
       "      <td>1.0</td>\n",
       "      <td>0.0</td>\n",
       "      <td>0.8</td>\n",
       "      <td>0.4</td>\n",
       "      <td>0.0</td>\n",
       "      <td>0.2</td>\n",
       "      <td>0.0</td>\n",
       "    </tr>\n",
       "    <tr>\n",
       "      <th>1</th>\n",
       "      <td>S2IAPSHAPPY</td>\n",
       "      <td>21</td>\n",
       "      <td>1970-01-01 00:00:00.200</td>\n",
       "      <td>0.00</td>\n",
       "      <td>0.0</td>\n",
       "      <td>2.756</td>\n",
       "      <td>0.538</td>\n",
       "      <td>1.254</td>\n",
       "      <td>1.508</td>\n",
       "      <td>0.346</td>\n",
       "      <td>...</td>\n",
       "      <td>0.0</td>\n",
       "      <td>0.0</td>\n",
       "      <td>0.0</td>\n",
       "      <td>1.0</td>\n",
       "      <td>0.0</td>\n",
       "      <td>0.0</td>\n",
       "      <td>0.0</td>\n",
       "      <td>0.0</td>\n",
       "      <td>0.0</td>\n",
       "      <td>0.0</td>\n",
       "    </tr>\n",
       "    <tr>\n",
       "      <th>2</th>\n",
       "      <td>S2IAPSHAPPY</td>\n",
       "      <td>21</td>\n",
       "      <td>1970-01-01 00:00:00.400</td>\n",
       "      <td>0.00</td>\n",
       "      <td>0.0</td>\n",
       "      <td>2.824</td>\n",
       "      <td>0.404</td>\n",
       "      <td>1.368</td>\n",
       "      <td>1.572</td>\n",
       "      <td>0.352</td>\n",
       "      <td>...</td>\n",
       "      <td>0.0</td>\n",
       "      <td>0.0</td>\n",
       "      <td>0.2</td>\n",
       "      <td>1.0</td>\n",
       "      <td>0.0</td>\n",
       "      <td>0.0</td>\n",
       "      <td>0.0</td>\n",
       "      <td>0.0</td>\n",
       "      <td>0.0</td>\n",
       "      <td>0.0</td>\n",
       "    </tr>\n",
       "    <tr>\n",
       "      <th>3</th>\n",
       "      <td>S2IAPSHAPPY</td>\n",
       "      <td>21</td>\n",
       "      <td>1970-01-01 00:00:00.600</td>\n",
       "      <td>0.00</td>\n",
       "      <td>0.0</td>\n",
       "      <td>2.706</td>\n",
       "      <td>0.626</td>\n",
       "      <td>1.346</td>\n",
       "      <td>1.382</td>\n",
       "      <td>0.332</td>\n",
       "      <td>...</td>\n",
       "      <td>0.0</td>\n",
       "      <td>0.0</td>\n",
       "      <td>0.0</td>\n",
       "      <td>1.0</td>\n",
       "      <td>0.0</td>\n",
       "      <td>0.2</td>\n",
       "      <td>0.0</td>\n",
       "      <td>0.0</td>\n",
       "      <td>0.0</td>\n",
       "      <td>0.0</td>\n",
       "    </tr>\n",
       "    <tr>\n",
       "      <th>4</th>\n",
       "      <td>S2IAPSHAPPY</td>\n",
       "      <td>21</td>\n",
       "      <td>1970-01-01 00:00:00.800</td>\n",
       "      <td>0.02</td>\n",
       "      <td>0.0</td>\n",
       "      <td>2.038</td>\n",
       "      <td>0.058</td>\n",
       "      <td>1.450</td>\n",
       "      <td>1.878</td>\n",
       "      <td>0.464</td>\n",
       "      <td>...</td>\n",
       "      <td>0.0</td>\n",
       "      <td>0.0</td>\n",
       "      <td>0.0</td>\n",
       "      <td>1.0</td>\n",
       "      <td>0.0</td>\n",
       "      <td>0.0</td>\n",
       "      <td>0.0</td>\n",
       "      <td>0.0</td>\n",
       "      <td>0.0</td>\n",
       "      <td>0.8</td>\n",
       "    </tr>\n",
       "  </tbody>\n",
       "</table>\n",
       "<p>5 rows × 38 columns</p>\n",
       "</div>"
      ],
      "text/plain": [
       "  experiment_id participant_id                    time  AU01r  AU02r  AU04r  \\\n",
       "0   S2IAPSHAPPY             21 1970-01-01 00:00:00.000   0.02    0.0  2.496   \n",
       "1   S2IAPSHAPPY             21 1970-01-01 00:00:00.200   0.00    0.0  2.756   \n",
       "2   S2IAPSHAPPY             21 1970-01-01 00:00:00.400   0.00    0.0  2.824   \n",
       "3   S2IAPSHAPPY             21 1970-01-01 00:00:00.600   0.00    0.0  2.706   \n",
       "4   S2IAPSHAPPY             21 1970-01-01 00:00:00.800   0.02    0.0  2.038   \n",
       "\n",
       "   AU05r  AU06r  AU07r  AU09r  ...    AU12c  AU14c  AU15c  AU17c  AU20c  \\\n",
       "0  0.478  1.148  2.074  0.368  ...      0.0    0.0    0.0    1.0    0.0   \n",
       "1  0.538  1.254  1.508  0.346  ...      0.0    0.0    0.0    1.0    0.0   \n",
       "2  0.404  1.368  1.572  0.352  ...      0.0    0.0    0.2    1.0    0.0   \n",
       "3  0.626  1.346  1.382  0.332  ...      0.0    0.0    0.0    1.0    0.0   \n",
       "4  0.058  1.450  1.878  0.464  ...      0.0    0.0    0.0    1.0    0.0   \n",
       "\n",
       "   AU23c  AU25c  AU26c  AU28c  AU45c  \n",
       "0    0.8    0.4    0.0    0.2    0.0  \n",
       "1    0.0    0.0    0.0    0.0    0.0  \n",
       "2    0.0    0.0    0.0    0.0    0.0  \n",
       "3    0.2    0.0    0.0    0.0    0.0  \n",
       "4    0.0    0.0    0.0    0.0    0.8  \n",
       "\n",
       "[5 rows x 38 columns]"
      ]
     },
     "execution_count": 14,
     "metadata": {},
     "output_type": "execute_result"
    }
   ],
   "source": [
    "openface_features.head()"
   ]
  },
  {
   "cell_type": "markdown",
   "metadata": {},
   "source": [
    "## 2. Load feature data from audio"
   ]
  },
  {
   "cell_type": "markdown",
   "metadata": {},
   "source": [
    "Process data with Librosa in pandas dataframe: So far copied from: https://github.com/emrecdem/explibrosa/blob/master/TUTORIALS/tutorial1.ipynb"
   ]
  },
  {
   "cell_type": "code",
   "execution_count": 15,
   "metadata": {},
   "outputs": [],
   "source": [
    "import matplotlib.pyplot as plt\n",
    "import os\n",
    "import explibrosa"
   ]
  },
  {
   "cell_type": "code",
   "execution_count": 16,
   "metadata": {},
   "outputs": [
    {
     "data": {
      "text/plain": [
       "'0.0.0.dev1'"
      ]
     },
     "execution_count": 16,
     "metadata": {},
     "output_type": "execute_result"
    }
   ],
   "source": [
    "explibrosa.__version__"
   ]
  },
  {
   "cell_type": "markdown",
   "metadata": {},
   "source": [
    "Find wav file that matches the csv file produced by OpenFace based on the assumption that filenames are identical except from file extension"
   ]
  },
  {
   "cell_type": "code",
   "execution_count": 17,
   "metadata": {},
   "outputs": [],
   "source": [
    "transformfilename = filenames[fileindex]"
   ]
  },
  {
   "cell_type": "code",
   "execution_count": 18,
   "metadata": {},
   "outputs": [],
   "source": [
    "audiofile_name = transformfilename.replace('.csv','.wav').replace('_Cfront','').replace('_Cside','')"
   ]
  },
  {
   "cell_type": "code",
   "execution_count": 19,
   "metadata": {},
   "outputs": [],
   "source": [
    "import subprocess\n",
    " \n",
    "# Set up find command\n",
    "findCMD = 'find ' + emrecdemStudyDataFolder + ' -name ' + audiofile_name \n",
    "out = subprocess.Popen(findCMD,shell=True,stdin=subprocess.PIPE, \n",
    "                        stdout=subprocess.PIPE,stderr=subprocess.PIPE)\n",
    "# Get standard out and error\n",
    "(stdout, stderr) = out.communicate()\n",
    "# Save found files to list\n",
    "filelist = stdout.decode().split()"
   ]
  },
  {
   "cell_type": "code",
   "execution_count": 20,
   "metadata": {},
   "outputs": [
    {
     "ename": "NameError",
     "evalue": "name 'audiofiles_fullPaths' is not defined",
     "output_type": "error",
     "traceback": [
      "\u001b[0;31m---------------------------------------------------------------------------\u001b[0m",
      "\u001b[0;31mNameError\u001b[0m                                 Traceback (most recent call last)",
      "\u001b[0;32m<ipython-input-20-ca8052121283>\u001b[0m in \u001b[0;36m<module>\u001b[0;34m\u001b[0m\n\u001b[0;32m----> 1\u001b[0;31m \u001b[0maudiofiles_fullPaths\u001b[0m\u001b[0;34m\u001b[0m\u001b[0;34m\u001b[0m\u001b[0m\n\u001b[0m",
      "\u001b[0;31mNameError\u001b[0m: name 'audiofiles_fullPaths' is not defined"
     ]
    }
   ],
   "source": [
    "audiofiles_fullPaths"
   ]
  },
  {
   "cell_type": "code",
   "execution_count": null,
   "metadata": {},
   "outputs": [],
   "source": [
    "audiofiles_fullPaths = filelist # probably the list has only one filename\n",
    "audio_file = audiofiles_fullPaths[0]"
   ]
  },
  {
   "cell_type": "code",
   "execution_count": null,
   "metadata": {},
   "outputs": [],
   "source": [
    "os.path.isfile(audio_file)"
   ]
  },
  {
   "cell_type": "code",
   "execution_count": null,
   "metadata": {},
   "outputs": [],
   "source": [
    "explibrosa.get_info(audio_file)"
   ]
  },
  {
   "cell_type": "code",
   "execution_count": null,
   "metadata": {},
   "outputs": [],
   "source": [
    "time_series = explibrosa.get_feature_time_series(audio_file)"
   ]
  },
  {
   "cell_type": "code",
   "execution_count": null,
   "metadata": {},
   "outputs": [],
   "source": [
    "time_series = downsample(time_series,res = '0.2S')"
   ]
  },
  {
   "cell_type": "code",
   "execution_count": null,
   "metadata": {},
   "outputs": [],
   "source": [
    "# Add columns and tidy up column names\n",
    "time_series['participant_id'] = PID\n",
    "time_series['experiment_id'] = EXP\n",
    "time_series = time_series.rename(columns={'zrc': 'zcrate'})\n",
    "time_series.drop(['timestamp'], axis = 1, inplace = True, errors = 'ignore')\n",
    "time_series = time_series[['participant_id','experiment_id','time','pitch','rmse','zcrate']]"
   ]
  },
  {
   "cell_type": "code",
   "execution_count": null,
   "metadata": {},
   "outputs": [],
   "source": [
    "time_series.head()"
   ]
  },
  {
   "cell_type": "markdown",
   "metadata": {},
   "source": [
    "## 3. Store in database"
   ]
  },
  {
   "cell_type": "markdown",
   "metadata": {},
   "source": [
    "\n",
    "http://www.sqlitetutorial.net/sqlite-python/create-tables/"
   ]
  },
  {
   "cell_type": "code",
   "execution_count": null,
   "metadata": {},
   "outputs": [],
   "source": [
    "import sqlite3"
   ]
  },
  {
   "cell_type": "code",
   "execution_count": null,
   "metadata": {},
   "outputs": [],
   "source": [
    "def create_connection(db_file):\n",
    "    \"\"\" create a database connection to the SQLite database\n",
    "        specified by db_file\n",
    "    :param db_file: database file\n",
    "    :return: Connection object or None\n",
    "    \"\"\"\n",
    "    try:\n",
    "        conn = sqlite3.connect(db_file)\n",
    "        return conn\n",
    "    except Error as e:\n",
    "        print(e)\n",
    " \n",
    "    return None"
   ]
  },
  {
   "cell_type": "code",
   "execution_count": null,
   "metadata": {},
   "outputs": [],
   "source": [
    "def create_table(conn, create_table_sql):\n",
    "    \"\"\" create a table from the create_table_sql statement\n",
    "    :param conn: Connection object\n",
    "    :param create_table_sql: a CREATE TABLE statement\n",
    "    :return:\n",
    "    \"\"\"\n",
    "    try:\n",
    "        c = conn.cursor()\n",
    "        c.execute(create_table_sql)\n",
    "    except Error as e:\n",
    "        print(e)"
   ]
  },
  {
   "cell_type": "code",
   "execution_count": null,
   "metadata": {},
   "outputs": [],
   "source": [
    "def main():\n",
    "    # Note time in text datatype, which will facilitate ISO8601 \"YYYY-MM-DD HH:MM:SS.SSS\"\n",
    "    database = \"/media/sf_sharedfolder/Emotion/emrecdemstudydata/emrecdemdb.db\"\n",
    "     \n",
    "    sql_create_participants_table = \"\"\" CREATE TABLE IF NOT EXISTS participants (\n",
    "                                        id integer PRIMARY KEY,\n",
    "                                        age real\n",
    "                                    ); \"\"\"\n",
    "    \n",
    "    sql_create_experiments_table = \"\"\" CREATE TABLE IF NOT EXISTS experiments (\n",
    "                                        id integer PRIMARY KEY,\n",
    "                                        name text NOT NULL\n",
    "                                    ); \"\"\"\n",
    "    sql_create_videofeatures_table = \"\"\" CREATE TABLE IF NOT EXISTS videofeatures (\n",
    "                                        id integer PRIMARY KEY,\n",
    "                                        participant_id integer NOT NULL,\n",
    "                                        experiment_id text NOT NULL,\n",
    "                                        time text,\n",
    "                                        AU01r real, AU02r real, AU04r real,\n",
    "                                        AU05r real, AU06r real, AU07r real,\n",
    "                                        AU09r real, AU10r real, AU12r real,\n",
    "                                        AU14r real, AU15r real, AU17r real,\n",
    "                                        AU20r real, AU23r real, AU25r real,\n",
    "                                        AU26r real, AU45r real, AU01c real,\n",
    "                                        AU02c real, AU04c real, AU05c real,\n",
    "                                        AU06c real, AU07c real, AU09c real,\n",
    "                                        AU10c real, AU12c real, AU14c real,\n",
    "                                        AU15c real, AU17c real, AU20c real,\n",
    "                                        AU23c real, AU25c real, AU26c real,\n",
    "                                        AU28c real, AU45c real,                                        \n",
    "                                        FOREIGN KEY (participant_id) REFERENCES participants (id),\n",
    "                                        FOREIGN KEY (experiment_id) REFERENCES experiments (id)\n",
    "                                    ); \"\"\"\n",
    "    \n",
    "    sql_create_audiofeatures_table = \"\"\" CREATE TABLE IF NOT EXISTS audiofeatures (\n",
    "                                        id integer PRIMARY KEY,\n",
    "                                        participant_id integer NOT NULL,\n",
    "                                        experiment_id text NOT NULL,\n",
    "                                        time text, \n",
    "                                        pitch real,\n",
    "                                        rmse real,\n",
    "                                        zcrate real,\n",
    "                                        FOREIGN KEY (participant_id) REFERENCES participants (id),\n",
    "                                        FOREIGN KEY (experiment_id) REFERENCES experiments (id)\n",
    "                                    ); \"\"\"\n",
    "        \n",
    "    sql_create_facslabels_table = \"\"\" CREATE TABLE IF NOT EXISTS facslabels (\n",
    "                                        id integer PRIMARY KEY,\n",
    "                                        name text NOT NULL\n",
    "                                    ); \"\"\"\n",
    " \n",
    "    sql_create_facsencoding_table = \"\"\"CREATE TABLE IF NOT EXISTS tasks (\n",
    "                                    id integer PRIMARY KEY,\n",
    "                                    participant_id integer NOT NULL,\n",
    "                                    experiment_id integer NOT NULL,\n",
    "                                    timestamp text,\n",
    "                                    emotion_id integer NOT NULL,\n",
    "                                    FOREIGN KEY (participant_id) REFERENCES participants (id),\n",
    "                                    FOREIGN KEY (experiment_id) REFERENCES experiments (id),\n",
    "                                    FOREIGN KEY (emotion_id) REFERENCES facslabels (id)\n",
    "                                );\"\"\"\n",
    " \n",
    "    # create a database connection\n",
    "    conn = create_connection(database)\n",
    "    if conn is not None:\n",
    "        # create participants table\n",
    "        create_table(conn, sql_create_participants_table)\n",
    "        # create experiments table\n",
    "        create_table(conn, sql_create_experiments_table)\n",
    "        create_table(conn, sql_create_videofeatures_table)\n",
    "        create_table(conn, sql_create_audiofeatures_table)\n",
    "        create_table(conn, sql_create_facslabels_table)\n",
    "        create_table(conn, sql_create_facsencoding_table)\n",
    "    else:\n",
    "        print(\"Error! cannot create the database connection.\")"
   ]
  },
  {
   "cell_type": "code",
   "execution_count": null,
   "metadata": {},
   "outputs": [],
   "source": [
    "\n",
    "if __name__ == '__main__':\n",
    "    main()"
   ]
  },
  {
   "cell_type": "code",
   "execution_count": null,
   "metadata": {},
   "outputs": [],
   "source": [
    "# Now on command line: sqlite3 pathtomydatabase.db\n",
    "# should give access to database\n",
    "# and .tables should show overview of the tables as created"
   ]
  },
  {
   "cell_type": "code",
   "execution_count": null,
   "metadata": {},
   "outputs": [],
   "source": [
    "#https://www.dataquest.io/blog/python-pandas-databases/\n",
    "database = \"/media/sf_sharedfolder/Emotion/emrecdemstudydata/emrecdemdb.db\""
   ]
  },
  {
   "cell_type": "code",
   "execution_count": null,
   "metadata": {},
   "outputs": [],
   "source": [
    "conn = create_connection(database) # create connection\n",
    "cur = conn.cursor() # create cursor"
   ]
  },
  {
   "cell_type": "markdown",
   "metadata": {},
   "source": [
    "### Add Audio features to database"
   ]
  },
  {
   "cell_type": "code",
   "execution_count": null,
   "metadata": {},
   "outputs": [],
   "source": [
    "# delete contents of table for testing purposes, later we obviously do not want to do this\n",
    "if (deleteDataBaseEntries == True):\n",
    "    deleterows = cur.execute(\"DELETE FROM audiofeatures;\").fetchall()"
   ]
  },
  {
   "cell_type": "code",
   "execution_count": null,
   "metadata": {},
   "outputs": [],
   "source": [
    "results = cur.execute(\"select * from audiofeatures limit 5;\").fetchall()\n",
    "rowcount = cur.execute(\"select count(*) from audiofeatures;\").fetchall()\n",
    "colnames = cur.execute(\"PRAGMA table_info(audiofeatures);\").fetchall()"
   ]
  },
  {
   "cell_type": "code",
   "execution_count": null,
   "metadata": {},
   "outputs": [],
   "source": [
    "print(\"Top 5 rows of audiofeatures table:\")\n",
    "print(results)\n",
    "print(\"\\nRow count:\")\n",
    "print(rowcount[0][0])"
   ]
  },
  {
   "cell_type": "code",
   "execution_count": null,
   "metadata": {},
   "outputs": [],
   "source": [
    "print(\"\\nColumn names:\")\n",
    "print(colnames)"
   ]
  },
  {
   "cell_type": "code",
   "execution_count": null,
   "metadata": {},
   "outputs": [],
   "source": [
    "# move time_series pandas data frame to the database\n",
    "time_series.to_sql(\"audiofeatures\", conn, index= False, if_exists=\"append\") #\"replace\""
   ]
  },
  {
   "cell_type": "code",
   "execution_count": null,
   "metadata": {},
   "outputs": [],
   "source": [
    "results = cur.execute(\"select * from audiofeatures limit 5;\").fetchall()\n",
    "rowcount = cur.execute(\"select count(*) from audiofeatures;\").fetchall()\n",
    "colnames = cur.execute(\"PRAGMA table_info(audiofeatures);\").fetchall()"
   ]
  },
  {
   "cell_type": "code",
   "execution_count": null,
   "metadata": {},
   "outputs": [],
   "source": [
    "print(\"Top 5 rows of audiofeatures table:\")\n",
    "print(results)\n",
    "print(\"\\nRow count:\")\n",
    "print(rowcount[0][0])\n",
    "print(\"\\nDimensions of pandas dataframe:\")\n",
    "print(time_series.shape)\n",
    "print(\"\\nColumn names:\")\n",
    "print(colnames)"
   ]
  },
  {
   "cell_type": "markdown",
   "metadata": {},
   "source": [
    "### Add video data to database"
   ]
  },
  {
   "cell_type": "code",
   "execution_count": null,
   "metadata": {},
   "outputs": [],
   "source": [
    "# delete contents of table for testing purposes, later we obviously do not want to do this\n",
    "if (deleteDataBaseEntries == True):\n",
    "    deleterows = cur.execute(\"DELETE FROM videofeatures;\").fetchall()"
   ]
  },
  {
   "cell_type": "code",
   "execution_count": null,
   "metadata": {},
   "outputs": [],
   "source": [
    "results = cur.execute(\"select * from videofeatures limit 5;\").fetchall()\n",
    "rowcount = cur.execute(\"select count(*) from videofeatures;\").fetchall()\n",
    "colnames = cur.execute(\"PRAGMA table_info(videofeatures);\").fetchall()"
   ]
  },
  {
   "cell_type": "code",
   "execution_count": null,
   "metadata": {},
   "outputs": [],
   "source": [
    "print(\"Top 5 rows of videofeatures table:\")\n",
    "print(results)\n",
    "print(\"\\nRow count:\")\n",
    "print(rowcount[0][0])\n",
    "print(\"\\nColumn names:\")\n",
    "print(colnames)"
   ]
  },
  {
   "cell_type": "code",
   "execution_count": null,
   "metadata": {},
   "outputs": [],
   "source": [
    "openface_features.head()"
   ]
  },
  {
   "cell_type": "code",
   "execution_count": null,
   "metadata": {},
   "outputs": [],
   "source": [
    "# move time_series pandas data frame to the database\n",
    "openface_features.to_sql(\"videofeatures\", conn, index=False,if_exists=\"append\") #\"replace\""
   ]
  },
  {
   "cell_type": "code",
   "execution_count": null,
   "metadata": {},
   "outputs": [],
   "source": [
    "results = cur.execute(\"select * from videofeatures limit 5;\").fetchall()\n",
    "rowcount = cur.execute(\"select count(*) from videofeatures;\").fetchall()"
   ]
  },
  {
   "cell_type": "code",
   "execution_count": null,
   "metadata": {},
   "outputs": [],
   "source": [
    "print(\"Top 5 rows of videofeatures table:\")\n",
    "print(results)\n",
    "print(\"\\nRow count:\")\n",
    "print(rowcount[0][0])\n",
    "print(\"\\nDimensions of pandas dataframe:\")\n",
    "print(time_series.shape)"
   ]
  },
  {
   "cell_type": "code",
   "execution_count": null,
   "metadata": {},
   "outputs": [],
   "source": [
    "cur.close()\n",
    "conn.close()"
   ]
  },
  {
   "cell_type": "code",
   "execution_count": null,
   "metadata": {},
   "outputs": [],
   "source": []
  },
  {
   "cell_type": "code",
   "execution_count": null,
   "metadata": {},
   "outputs": [],
   "source": []
  }
 ],
 "metadata": {
  "kernelspec": {
   "display_name": "Python 3",
   "language": "python",
   "name": "python3"
  },
  "language_info": {
   "codemirror_mode": {
    "name": "ipython",
    "version": 3
   },
   "file_extension": ".py",
   "mimetype": "text/x-python",
   "name": "python",
   "nbconvert_exporter": "python",
   "pygments_lexer": "ipython3",
   "version": "3.7.1"
  }
 },
 "nbformat": 4,
 "nbformat_minor": 2
}
