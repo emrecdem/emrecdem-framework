{
 "cells": [
  {
   "cell_type": "markdown",
   "metadata": {},
   "source": [
    "This notebook is a first exploration of querying the sqlite data and plotting it."
   ]
  },
  {
   "cell_type": "code",
   "execution_count": null,
   "metadata": {},
   "outputs": [],
   "source": [
    "import pandas as pd\n",
    "import sqlite3\n",
    "import matplotlib.pyplot as plt\n",
    "%matplotlib inline"
   ]
  },
  {
   "cell_type": "code",
   "execution_count": null,
   "metadata": {},
   "outputs": [],
   "source": [
    "datadirectory = \"/Users/peter/repos/esc/data/P18\"\n",
    "databasefile = datadirectory + \"/emrecdem.db\""
   ]
  },
  {
   "cell_type": "code",
   "execution_count": null,
   "metadata": {},
   "outputs": [],
   "source": [
    "q1 = \"\"\" SELECT videofeatures.time, audiofeatures.pitch, videofeatures.*\n",
    "FROM videofeatures\n",
    "INNER JOIN audiofeatures USING(id, time, participant_id, experiment_id)\n",
    "WHERE pitch < 2000;\"\"\"\n",
    "\n",
    "conn = sqlite3.connect(databasefile)\n",
    "df = pd.read_sql_query(q1, conn)\n",
    "featurenames = df.columns.values\n",
    "print(df)"
   ]
  },
  {
   "cell_type": "code",
   "execution_count": null,
   "metadata": {},
   "outputs": [],
   "source": [
    "ncols = 3\n",
    "nrows = 6\n",
    "\n",
    "fig, ax = plt.subplots(nrows, ncols, sharex='col', sharey='row')\n",
    "fig.set_size_inches(14, 2*nrows)\n",
    "cnt = 0\n",
    "for i in range(nrows):\n",
    "    for j in range(ncols):\n",
    "        \n",
    "        yvar = featurenames[cnt+6]\n",
    "        cnt = cnt + 1\n",
    "        df_low = df[df[yvar].notnull() & (df['pitch'] < 300)]\n",
    "        df_high = df[df[yvar].notnull() & (df['pitch'] >= 300)]\n",
    "        ax[i, j].boxplot([df_low[yvar],df_high[yvar]])\n",
    "        ax[i, j].set(xlabel='pitch', ylabel=yvar)"
   ]
  },
  {
   "cell_type": "code",
   "execution_count": null,
   "metadata": {},
   "outputs": [],
   "source": []
  }
 ],
 "metadata": {
  "kernelspec": {
   "display_name": "Python 3",
   "language": "python",
   "name": "python3"
  },
  "language_info": {
   "codemirror_mode": {
    "name": "ipython",
    "version": 3
   },
   "file_extension": ".py",
   "mimetype": "text/x-python",
   "name": "python",
   "nbconvert_exporter": "python",
   "pygments_lexer": "ipython3",
   "version": "3.7.4"
  }
 },
 "nbformat": 4,
 "nbformat_minor": 4
}
