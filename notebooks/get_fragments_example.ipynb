{
 "cells": [
  {
   "cell_type": "code",
   "execution_count": null,
   "metadata": {},
   "outputs": [],
   "source": [
    "# Add parent directory to path, so the import can find emrecdem\n",
    "import os\n",
    "import sys\n",
    "module_path = os.path.abspath(os.path.join('..'))\n",
    "print(module_path)\n",
    "if module_path not in sys.path:\n",
    "    sys.path.append(module_path)"
   ]
  },
  {
   "cell_type": "code",
   "execution_count": null,
   "metadata": {},
   "outputs": [],
   "source": [
    "from emrecdem.fragments import get_fragments_from_textgrid\n"
   ]
  },
  {
   "cell_type": "code",
   "execution_count": null,
   "metadata": {},
   "outputs": [],
   "source": [
    "# Reload emrecdem (to update when source files have changed)\n",
    "import emrecdem\n",
    "import importlib\n",
    "importlib.reload(emrecdem.fragments)"
   ]
  },
  {
   "cell_type": "code",
   "execution_count": null,
   "metadata": {},
   "outputs": [],
   "source": [
    "path = \"/Users/peter/repos/esc/data/Deniece/getranscribeerd_P1_S2_LSB_HM1_Mparticipant_talkspurt.TextGrid\"\n",
    "print(get_fragments_from_textgrid(path))"
   ]
  }
 ],
 "metadata": {
  "kernelspec": {
   "display_name": "emrecdem",
   "language": "python",
   "name": "emrecdem"
  },
  "language_info": {
   "codemirror_mode": {
    "name": "ipython",
    "version": 3
   },
   "file_extension": ".py",
   "mimetype": "text/x-python",
   "name": "python",
   "nbconvert_exporter": "python",
   "pygments_lexer": "ipython3",
   "version": "3.7.4"
  }
 },
 "nbformat": 4,
 "nbformat_minor": 4
}
