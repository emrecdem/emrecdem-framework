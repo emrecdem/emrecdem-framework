{
 "cells": [
  {
   "cell_type": "code",
   "execution_count": null,
   "metadata": {},
   "outputs": [],
   "source": [
    "import pandas as pd\n",
    "import textgrid\n"
   ]
  },
  {
   "cell_type": "code",
   "execution_count": null,
   "metadata": {},
   "outputs": [],
   "source": [
    "import magic # requires libmagic to be installed https://pypi.org/project/python-magic/\n",
    "\n",
    "blob = open(\"/Users/peter/repos/esc/data/Deniece/Silence_textgrids_N17/P1_S2_LSB_HM1_Mparticipant_SIL.TextGrid\", 'rb').read()\n",
    "m = magic.Magic(mime_encoding=True)\n",
    "encoding = m.from_buffer(blob)\n",
    "encoding"
   ]
  },
  {
   "cell_type": "code",
   "execution_count": null,
   "metadata": {},
   "outputs": [],
   "source": [
    "tgrid = textgrid.read_textgrid(\"/Users/peter/repos/esc/data/Deniece/Silence_textgrids_N17/P1_S2_LSB_HM1_Mparticipant_SIL.TextGrid\", 'utf-16-be')\n",
    "pd.DataFrame(tgrid)"
   ]
  },
  {
   "cell_type": "code",
   "execution_count": null,
   "metadata": {},
   "outputs": [],
   "source": []
  }
 ],
 "metadata": {
  "kernelspec": {
   "display_name": "Python 3 (ipykernel)",
   "language": "python",
   "name": "python3"
  },
  "language_info": {
   "codemirror_mode": {
    "name": "ipython",
    "version": 3
   },
   "file_extension": ".py",
   "mimetype": "text/x-python",
   "name": "python",
   "nbconvert_exporter": "python",
   "pygments_lexer": "ipython3",
   "version": "3.9.9"
  }
 },
 "nbformat": 4,
 "nbformat_minor": 4
}
